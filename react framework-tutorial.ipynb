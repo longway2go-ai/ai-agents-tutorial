{
  "cells": [
    {
      "cell_type": "code",
      "execution_count": null,
      "metadata": {
        "id": "PZ4D_GzH404e"
      },
      "outputs": [],
      "source": [
        "# %%capture\n",
        "!pip install langchain>=0.1.17 openai>=1.13.3 langchain_openai>=0.1.6 transformers>=4.40.1 datasets>=2.18.0 accelerate>=0.27.2 sentence-transformers>=2.5.1 duckduckgo-search>=5.2.2 langchain_community"
      ]
    },
    {
      "cell_type": "markdown",
      "metadata": {
        "id": "BG5sJa1qvS4N"
      },
      "source": [
        "# Agents"
      ]
    },
    {
      "cell_type": "code",
      "execution_count": null,
      "metadata": {
        "id": "rcBt8bZM56dM",
        "colab": {
          "base_uri": "https://localhost:8080/",
          "height": 356
        },
        "outputId": "dcbdf0fc-c794-4936-8e82-a4950450191e"
      },
      "outputs": [
        {
          "output_type": "error",
          "ename": "AttributeError",
          "evalue": "module 'openai' has no attribute 'DefaultHttpxClient'",
          "traceback": [
            "\u001b[0;31m---------------------------------------------------------------------------\u001b[0m",
            "\u001b[0;31mAttributeError\u001b[0m                            Traceback (most recent call last)",
            "\u001b[0;32m/tmp/ipython-input-11-547061812.py\u001b[0m in \u001b[0;36m<cell line: 0>\u001b[0;34m()\u001b[0m\n\u001b[1;32m      1\u001b[0m \u001b[0;32mimport\u001b[0m \u001b[0mos\u001b[0m\u001b[0;34m\u001b[0m\u001b[0;34m\u001b[0m\u001b[0m\n\u001b[0;32m----> 2\u001b[0;31m \u001b[0;32mfrom\u001b[0m \u001b[0mlangchain_openai\u001b[0m \u001b[0;32mimport\u001b[0m \u001b[0mChatOpenAI\u001b[0m\u001b[0;34m\u001b[0m\u001b[0;34m\u001b[0m\u001b[0m\n\u001b[0m\u001b[1;32m      3\u001b[0m \u001b[0;32mfrom\u001b[0m \u001b[0mlangchain\u001b[0m\u001b[0;34m.\u001b[0m\u001b[0mprompts\u001b[0m \u001b[0;32mimport\u001b[0m \u001b[0mPromptTemplate\u001b[0m\u001b[0;34m\u001b[0m\u001b[0;34m\u001b[0m\u001b[0m\n\u001b[1;32m      4\u001b[0m \u001b[0;34m\u001b[0m\u001b[0m\n\u001b[1;32m      5\u001b[0m \u001b[0;34m\u001b[0m\u001b[0m\n",
            "\u001b[0;32m/usr/local/lib/python3.11/dist-packages/langchain_openai/__init__.py\u001b[0m in \u001b[0;36m<module>\u001b[0;34m\u001b[0m\n\u001b[0;32m----> 1\u001b[0;31m \u001b[0;32mfrom\u001b[0m \u001b[0mlangchain_openai\u001b[0m\u001b[0;34m.\u001b[0m\u001b[0mchat_models\u001b[0m \u001b[0;32mimport\u001b[0m \u001b[0mAzureChatOpenAI\u001b[0m\u001b[0;34m,\u001b[0m \u001b[0mChatOpenAI\u001b[0m\u001b[0;34m\u001b[0m\u001b[0;34m\u001b[0m\u001b[0m\n\u001b[0m\u001b[1;32m      2\u001b[0m \u001b[0;32mfrom\u001b[0m \u001b[0mlangchain_openai\u001b[0m\u001b[0;34m.\u001b[0m\u001b[0membeddings\u001b[0m \u001b[0;32mimport\u001b[0m \u001b[0mAzureOpenAIEmbeddings\u001b[0m\u001b[0;34m,\u001b[0m \u001b[0mOpenAIEmbeddings\u001b[0m\u001b[0;34m\u001b[0m\u001b[0;34m\u001b[0m\u001b[0m\n\u001b[1;32m      3\u001b[0m \u001b[0;32mfrom\u001b[0m \u001b[0mlangchain_openai\u001b[0m\u001b[0;34m.\u001b[0m\u001b[0mllms\u001b[0m \u001b[0;32mimport\u001b[0m \u001b[0mAzureOpenAI\u001b[0m\u001b[0;34m,\u001b[0m \u001b[0mOpenAI\u001b[0m\u001b[0;34m\u001b[0m\u001b[0;34m\u001b[0m\u001b[0m\n\u001b[1;32m      4\u001b[0m \u001b[0;34m\u001b[0m\u001b[0m\n\u001b[1;32m      5\u001b[0m __all__ = [\n",
            "\u001b[0;32m/usr/local/lib/python3.11/dist-packages/langchain_openai/chat_models/__init__.py\u001b[0m in \u001b[0;36m<module>\u001b[0;34m\u001b[0m\n\u001b[0;32m----> 1\u001b[0;31m \u001b[0;32mfrom\u001b[0m \u001b[0mlangchain_openai\u001b[0m\u001b[0;34m.\u001b[0m\u001b[0mchat_models\u001b[0m\u001b[0;34m.\u001b[0m\u001b[0mazure\u001b[0m \u001b[0;32mimport\u001b[0m \u001b[0mAzureChatOpenAI\u001b[0m\u001b[0;34m\u001b[0m\u001b[0;34m\u001b[0m\u001b[0m\n\u001b[0m\u001b[1;32m      2\u001b[0m \u001b[0;32mfrom\u001b[0m \u001b[0mlangchain_openai\u001b[0m\u001b[0;34m.\u001b[0m\u001b[0mchat_models\u001b[0m\u001b[0;34m.\u001b[0m\u001b[0mbase\u001b[0m \u001b[0;32mimport\u001b[0m \u001b[0mChatOpenAI\u001b[0m\u001b[0;34m\u001b[0m\u001b[0;34m\u001b[0m\u001b[0m\n\u001b[1;32m      3\u001b[0m \u001b[0;34m\u001b[0m\u001b[0m\n\u001b[1;32m      4\u001b[0m \u001b[0m__all__\u001b[0m \u001b[0;34m=\u001b[0m \u001b[0;34m[\u001b[0m\u001b[0;34m\"ChatOpenAI\"\u001b[0m\u001b[0;34m,\u001b[0m \u001b[0;34m\"AzureChatOpenAI\"\u001b[0m\u001b[0;34m]\u001b[0m\u001b[0;34m\u001b[0m\u001b[0;34m\u001b[0m\u001b[0m\n",
            "\u001b[0;32m/usr/local/lib/python3.11/dist-packages/langchain_openai/chat_models/azure.py\u001b[0m in \u001b[0;36m<module>\u001b[0;34m\u001b[0m\n\u001b[1;32m     19\u001b[0m \u001b[0;32mfrom\u001b[0m \u001b[0mtyping_extensions\u001b[0m \u001b[0;32mimport\u001b[0m \u001b[0mLiteral\u001b[0m\u001b[0;34m,\u001b[0m \u001b[0mSelf\u001b[0m\u001b[0;34m\u001b[0m\u001b[0;34m\u001b[0m\u001b[0m\n\u001b[1;32m     20\u001b[0m \u001b[0;34m\u001b[0m\u001b[0m\n\u001b[0;32m---> 21\u001b[0;31m \u001b[0;32mfrom\u001b[0m \u001b[0mlangchain_openai\u001b[0m\u001b[0;34m.\u001b[0m\u001b[0mchat_models\u001b[0m\u001b[0;34m.\u001b[0m\u001b[0mbase\u001b[0m \u001b[0;32mimport\u001b[0m \u001b[0mBaseChatOpenAI\u001b[0m\u001b[0;34m\u001b[0m\u001b[0;34m\u001b[0m\u001b[0m\n\u001b[0m\u001b[1;32m     22\u001b[0m \u001b[0;34m\u001b[0m\u001b[0m\n\u001b[1;32m     23\u001b[0m \u001b[0mlogger\u001b[0m \u001b[0;34m=\u001b[0m \u001b[0mlogging\u001b[0m\u001b[0;34m.\u001b[0m\u001b[0mgetLogger\u001b[0m\u001b[0;34m(\u001b[0m\u001b[0m__name__\u001b[0m\u001b[0;34m)\u001b[0m\u001b[0;34m\u001b[0m\u001b[0;34m\u001b[0m\u001b[0m\n",
            "\u001b[0;32m/usr/local/lib/python3.11/dist-packages/langchain_openai/chat_models/base.py\u001b[0m in \u001b[0;36m<module>\u001b[0;34m\u001b[0m\n\u001b[1;32m    103\u001b[0m \u001b[0;32mfrom\u001b[0m \u001b[0mtyping_extensions\u001b[0m \u001b[0;32mimport\u001b[0m \u001b[0mSelf\u001b[0m\u001b[0;34m\u001b[0m\u001b[0;34m\u001b[0m\u001b[0m\n\u001b[1;32m    104\u001b[0m \u001b[0;34m\u001b[0m\u001b[0m\n\u001b[0;32m--> 105\u001b[0;31m from langchain_openai.chat_models._client_utils import (\n\u001b[0m\u001b[1;32m    106\u001b[0m     \u001b[0m_get_default_async_httpx_client\u001b[0m\u001b[0;34m,\u001b[0m\u001b[0;34m\u001b[0m\u001b[0;34m\u001b[0m\u001b[0m\n\u001b[1;32m    107\u001b[0m     \u001b[0m_get_default_httpx_client\u001b[0m\u001b[0;34m,\u001b[0m\u001b[0;34m\u001b[0m\u001b[0;34m\u001b[0m\u001b[0m\n",
            "\u001b[0;32m/usr/local/lib/python3.11/dist-packages/langchain_openai/chat_models/_client_utils.py\u001b[0m in \u001b[0;36m<module>\u001b[0;34m\u001b[0m\n\u001b[1;32m     15\u001b[0m \u001b[0;34m\u001b[0m\u001b[0m\n\u001b[1;32m     16\u001b[0m \u001b[0;34m\u001b[0m\u001b[0m\n\u001b[0;32m---> 17\u001b[0;31m \u001b[0;32mclass\u001b[0m \u001b[0m_SyncHttpxClientWrapper\u001b[0m\u001b[0;34m(\u001b[0m\u001b[0mopenai\u001b[0m\u001b[0;34m.\u001b[0m\u001b[0mDefaultHttpxClient\u001b[0m\u001b[0;34m)\u001b[0m\u001b[0;34m:\u001b[0m\u001b[0;34m\u001b[0m\u001b[0;34m\u001b[0m\u001b[0m\n\u001b[0m\u001b[1;32m     18\u001b[0m     \u001b[0;34m\"\"\"Borrowed from openai._base_client\"\"\"\u001b[0m\u001b[0;34m\u001b[0m\u001b[0;34m\u001b[0m\u001b[0m\n\u001b[1;32m     19\u001b[0m \u001b[0;34m\u001b[0m\u001b[0m\n",
            "\u001b[0;31mAttributeError\u001b[0m: module 'openai' has no attribute 'DefaultHttpxClient'"
          ]
        }
      ],
      "source": [
        "import os\n",
        "from langchain_openai import ChatOpenAI\n",
        "from langchain.prompts import PromptTemplate\n",
        "\n",
        "\n",
        "# Load OpenAI's LLMs with LangChain\n",
        "os.environ[\"OPENAI_API_KEY\"] = \"\"\n",
        "openai_llm = ChatOpenAI(model_name=\"gpt-4o-mini\", temperature=0,max_tokens=200)"
      ]
    },
    {
      "cell_type": "code",
      "execution_count": null,
      "metadata": {
        "id": "lmRZu8DO2p6k"
      },
      "outputs": [],
      "source": [
        "# Create the ReAct template\n",
        "react_template = \"\"\"Answer the following questions as best you can. You have access to the following tools:\n",
        "\n",
        "{tools}\n",
        "\n",
        "Use the following format:\n",
        "\n",
        "Question: the input question you must answer\n",
        "Thought: you should always think about what to do\n",
        "Action: the action to take, should be one of [{tool_names}]\n",
        "Action Input: the input to the action\n",
        "Observation: the result of the action\n",
        "... (this Thought/Action/Action Input/Observation can repeat N times)\n",
        "Thought: I now know the final answer\n",
        "Final Answer: the final answer to the original input question\n",
        "\n",
        "Begin!\n",
        "\n",
        "Question: {input}\n",
        "Thought:{agent_scratchpad}\"\"\"\n",
        "\n",
        "prompt = PromptTemplate(\n",
        "    template=react_template,\n",
        "    input_variables=[\"tools\", \"tool_names\", \"input\", \"agent_scratchpad\"]\n",
        ")"
      ]
    },
    {
      "cell_type": "code",
      "execution_count": null,
      "metadata": {
        "id": "NV-ssNa-4zOK"
      },
      "outputs": [],
      "source": [
        "from langchain.agents import load_tools, Tool\n",
        "from langchain.tools import DuckDuckGoSearchResults\n",
        "\n",
        "# You can create the tool to pass to an agent\n",
        "search = DuckDuckGoSearchResults()\n",
        "search_tool = Tool(\n",
        "    name=\"duckduck\",\n",
        "    description=\"A web search engine. Use this to as a search engine for general queries.\",\n",
        "    func=search.run,\n",
        ")\n",
        "\n",
        "# Prepare tools\n",
        "tools = load_tools([\"llm-math\"], llm=openai_llm)\n",
        "tools.append(search_tool)"
      ]
    },
    {
      "cell_type": "code",
      "execution_count": null,
      "metadata": {
        "id": "6tAr1962vS4T"
      },
      "outputs": [],
      "source": [
        "from langchain.agents import AgentExecutor, create_react_agent\n",
        "\n",
        "# Construct the ReAct agent\n",
        "agent = create_react_agent(openai_llm, tools, prompt)\n",
        "agent_executor = AgentExecutor(\n",
        "    agent=agent, tools=tools, verbose=True, handle_parsing_errors=True\n",
        ")"
      ]
    },
    {
      "cell_type": "code",
      "execution_count": null,
      "metadata": {
        "colab": {
          "base_uri": "https://localhost:8080/"
        },
        "id": "QSU6ECdYBOOm",
        "outputId": "a1280aec-801f-4696-c7d4-c416f693bf66"
      },
      "outputs": [
        {
          "output_type": "stream",
          "name": "stdout",
          "text": [
            "\n",
            "\n",
            "\u001b[1m> Entering new AgentExecutor chain...\u001b[0m\n",
            "\u001b[32;1m\u001b[1;3mTo find the current price of a MacBook Pro in USD, I will perform a web search. After that, I can calculate the cost in EUR using the provided exchange rate of 0.85 EUR for 1 USD.\n",
            "\n",
            "Action: duckduck\n",
            "Action Input: \"current price of MacBook Pro in USD\"\u001b[0m\u001b[33;1m\u001b[1;3msnippet: The 14-inch M4 MacBook Pro with 16GB RAM and 1TB comes with $316 off, bringing the price down from $1,799 to $1,483, the best price we've seen to date., title: This Week's Best Apple Deals: M4 MacBook Pro $509 Off, M3 iMac $400 Off ..., link: https://www.macobserver.com/deals/this-weeks-best-apple-deals-m4-macbook-pro-509-off-m3-imac-400-off-and-more/, snippet: Apple's 2024 MacBook Pro 16-inch can be equipped with an M4 Pro or M4 Max chip. Retail prices start at $2,499 USD, but every configuration is on sale, with the best prices in this guide knocking hundred of dollars off the laptop of your choosing. You can also browse a selection of the top 16-inch MacBook Pro deals in our dedicated roundup., title: MacBook Pro 16-inch 2024 M4 Best Sale Price Deals, link: https://prices.appleinsider.com/macbook-pro-16-inch-m4, snippet: Best MacBook Pro deals for June 2025. Save up to $500 on Apple 14-inch & 16-inch laptops with deals on every M4 model & clearance prices on M3 specs., title: Best MacBook Pro Deals for June 2025 | Save up to $500 - AppleInsider, link: https://appleinsider.com/deals/best-macbook-pro-deals, snippet: By comparison, it undercuts Amazon 's current price for this same configuration by $31. I shop sales for a living and this is one of the best MacBook deals I've seen all year., title: The M4 Pro MacBook just dropped $300 and it's Laptop Mag's Editor's ..., link: https://www.laptopmag.com/deals/laptops/m4-pro-macbook-just-dropped-usd300-and-its-laptop-mags-editors-choice-best-high-performance-laptop\u001b[0m\u001b[32;1m\u001b[1;3mI found several prices for different configurations of the MacBook Pro. The 14-inch M4 MacBook Pro is currently priced at $1,483, while the 16-inch model starts at $2,499. I will use the price of $1,483 for the 14-inch model to calculate the cost in EUR.\n",
            "\n",
            "Action: Calculator\n",
            "Action Input: 1483 * 0.85\u001b[0m\u001b[36;1m\u001b[1;3mAnswer: 1260.55\u001b[0m\u001b[32;1m\u001b[1;3mI now know the final answer. The current price of a 14-inch MacBook Pro is $1,483, which would cost approximately €1,260.55 at the exchange rate of 0.85 EUR for 1 USD. \n",
            "\n",
            "Final Answer: The current price of a MacBook Pro (14-inch) is $1,483, which is approximately €1,260.55.\u001b[0m\n",
            "\n",
            "\u001b[1m> Finished chain.\u001b[0m\n"
          ]
        },
        {
          "output_type": "execute_result",
          "data": {
            "text/plain": [
              "{'input': 'What is the current price of a MacBook Pro in USD? How much would it cost in EUR if the exchange rate is 0.85 EUR for 1 USD?',\n",
              " 'output': 'The current price of a MacBook Pro (14-inch) is $1,483, which is approximately €1,260.55.'}"
            ]
          },
          "metadata": {},
          "execution_count": 6
        }
      ],
      "source": [
        "# What is the Price of a MacBook Pro?\n",
        "agent_executor.invoke(\n",
        "    {\n",
        "        \"input\": \"What is the current price of a MacBook Pro in USD? How much would it cost in EUR if the exchange rate is 0.85 EUR for 1 USD?\"\n",
        "    }\n",
        ")"
      ]
    },
    {
      "cell_type": "markdown",
      "source": [
        "### ReAct Demo Code 2"
      ],
      "metadata": {
        "id": "h27HjFvMA8y6"
      }
    },
    {
      "cell_type": "code",
      "source": [
        "%%capture\n",
        "# update or install the necessary libraries\n",
        "!pip install --upgrade langchain\n",
        "!pip install --upgrade python-dotenv\n",
        "!pip install google-search-results\n",
        "\n",
        "\n",
        "# import libraries\n",
        "import openai\n",
        "import os\n",
        "from langchain.llms import OpenAI\n",
        "from langchain.agents import load_tools\n",
        "from langchain.agents import initialize_agent\n",
        "from dotenv import load_dotenv\n",
        "load_dotenv()\n",
        "\n",
        "# load API keys; you will need to obtain these if you haven't yet\n",
        "os.environ[\"OPENAI_API_KEY\"] = \"\"\n",
        "os.environ[\"SERPER_API_KEY\"] = \"\""
      ],
      "metadata": {
        "id": "QFYCXtdtA_04"
      },
      "execution_count": null,
      "outputs": []
    },
    {
      "cell_type": "code",
      "source": [
        "!pip install openai==0.27.8\n",
        "\n",
        "from langchain.chat_models import ChatOpenAI\n",
        "\n",
        "\n",
        "llm = ChatOpenAI(model_name=\"gpt-4o-mini\", temperature=0,max_tokens=200)\n",
        "tools = load_tools([\"google-serper\", \"llm-math\"], llm=llm)\n",
        "agent = initialize_agent(tools, llm, agent=\"zero-shot-react-description\", verbose=True)"
      ],
      "metadata": {
        "colab": {
          "base_uri": "https://localhost:8080/"
        },
        "id": "hiJCkDTfBKhx",
        "outputId": "64cb0d7e-29dc-4da3-d42a-2eb5beec7701"
      },
      "execution_count": null,
      "outputs": [
        {
          "output_type": "stream",
          "name": "stdout",
          "text": [
            "Requirement already satisfied: openai==0.27.8 in /usr/local/lib/python3.11/dist-packages (0.27.8)\n",
            "Requirement already satisfied: requests>=2.20 in /usr/local/lib/python3.11/dist-packages (from openai==0.27.8) (2.32.3)\n",
            "Requirement already satisfied: tqdm in /usr/local/lib/python3.11/dist-packages (from openai==0.27.8) (4.67.1)\n",
            "Requirement already satisfied: aiohttp in /usr/local/lib/python3.11/dist-packages (from openai==0.27.8) (3.11.15)\n",
            "Requirement already satisfied: charset-normalizer<4,>=2 in /usr/local/lib/python3.11/dist-packages (from requests>=2.20->openai==0.27.8) (3.4.2)\n",
            "Requirement already satisfied: idna<4,>=2.5 in /usr/local/lib/python3.11/dist-packages (from requests>=2.20->openai==0.27.8) (3.10)\n",
            "Requirement already satisfied: urllib3<3,>=1.21.1 in /usr/local/lib/python3.11/dist-packages (from requests>=2.20->openai==0.27.8) (2.4.0)\n",
            "Requirement already satisfied: certifi>=2017.4.17 in /usr/local/lib/python3.11/dist-packages (from requests>=2.20->openai==0.27.8) (2025.6.15)\n",
            "Requirement already satisfied: aiohappyeyeballs>=2.3.0 in /usr/local/lib/python3.11/dist-packages (from aiohttp->openai==0.27.8) (2.6.1)\n",
            "Requirement already satisfied: aiosignal>=1.1.2 in /usr/local/lib/python3.11/dist-packages (from aiohttp->openai==0.27.8) (1.3.2)\n",
            "Requirement already satisfied: attrs>=17.3.0 in /usr/local/lib/python3.11/dist-packages (from aiohttp->openai==0.27.8) (25.3.0)\n",
            "Requirement already satisfied: frozenlist>=1.1.1 in /usr/local/lib/python3.11/dist-packages (from aiohttp->openai==0.27.8) (1.7.0)\n",
            "Requirement already satisfied: multidict<7.0,>=4.5 in /usr/local/lib/python3.11/dist-packages (from aiohttp->openai==0.27.8) (6.4.4)\n",
            "Requirement already satisfied: propcache>=0.2.0 in /usr/local/lib/python3.11/dist-packages (from aiohttp->openai==0.27.8) (0.3.2)\n",
            "Requirement already satisfied: yarl<2.0,>=1.17.0 in /usr/local/lib/python3.11/dist-packages (from aiohttp->openai==0.27.8) (1.20.1)\n"
          ]
        },
        {
          "output_type": "stream",
          "name": "stderr",
          "text": [
            "/tmp/ipython-input-2-192766835.py:6: LangChainDeprecationWarning: The class `ChatOpenAI` was deprecated in LangChain 0.0.10 and will be removed in 1.0. An updated version of the class exists in the :class:`~langchain-openai package and should be used instead. To use it run `pip install -U :class:`~langchain-openai` and import as `from :class:`~langchain_openai import ChatOpenAI``.\n",
            "  llm = ChatOpenAI(model_name=\"gpt-4o-mini\", temperature=0,max_tokens=200)\n",
            "/tmp/ipython-input-2-192766835.py:8: LangChainDeprecationWarning: LangChain agents will continue to be supported, but it is recommended for new use cases to be built with LangGraph. LangGraph offers a more flexible and full-featured framework for building agents, including support for tool-calling, persistence of state, and human-in-the-loop workflows. For details, refer to the `LangGraph documentation <https://langchain-ai.github.io/langgraph/>`_ as well as guides for `Migrating from AgentExecutor <https://python.langchain.com/docs/how_to/migrate_agent/>`_ and LangGraph's `Pre-built ReAct agent <https://langchain-ai.github.io/langgraph/how-tos/create-react-agent/>`_.\n",
            "  agent = initialize_agent(tools, llm, agent=\"zero-shot-react-description\", verbose=True)\n"
          ]
        }
      ]
    },
    {
      "cell_type": "code",
      "source": [
        "# run the agent\n",
        "agent.run(\"Who are Dr. Raj Dandekar's co-founders? What is their current age raised to the 1 power?\")"
      ],
      "metadata": {
        "colab": {
          "base_uri": "https://localhost:8080/",
          "height": 576
        },
        "id": "L-iH9ZXPBNau",
        "outputId": "e4d78d60-521f-4599-809e-bbb927e7cfd7"
      },
      "execution_count": null,
      "outputs": [
        {
          "output_type": "stream",
          "name": "stderr",
          "text": [
            "/tmp/ipython-input-3-2843818337.py:2: LangChainDeprecationWarning: The method `Chain.run` was deprecated in langchain 0.1.0 and will be removed in 1.0. Use :meth:`~invoke` instead.\n",
            "  agent.run(\"Who are Dr. Raj Dandekar's co-founders? What is their current age raised to the 1 power?\")\n"
          ]
        },
        {
          "output_type": "stream",
          "name": "stdout",
          "text": [
            "\n",
            "\n",
            "\u001b[1m> Entering new AgentExecutor chain...\u001b[0m\n",
            "\u001b[32;1m\u001b[1;3mTo answer the question about Dr. Raj Dandekar's co-founders, I will need to search for information regarding him and his co-founders. After that, I can calculate their current age raised to the 1 power, which will simply be their current age since any number raised to the power of 1 is itself. \n",
            "\n",
            "Action: google_serper  \n",
            "Action Input: \"Dr. Raj Dandekar co-founders\"  \u001b[0m\n",
            "Observation: \u001b[36;1m\u001b[1;3mDr. Raj Abhijit Dandekar. MIT PhD, IIT Madras BTech. Co-founder, Vizuara AI Labs ; Dr. Rajat Dandekar​. Purdue PhD, IIT Madras BTech Co-founder, Vizuara AI Labs ... I am currently the co-founder of two startups Vizuara and Videsh. At Vizuara, we are on a… · Experience: Vizuara · Education: Purdue University · Location: ... As the Co-Founder of Vizuara and Videsh, Raj is responsible for spearheading the strategic vision, product development, and growth initiatives of these dynamic ... Industry Presentation: Raj Dandekar, Co Founder, Vizuara · Comments. Missing: Dr. | Show results with:Dr.. My support were my co-founders Rajat Dandekar and Sreedath Panat. I was 100% convinced that even if I failed, we would start something new. If ... How can you transition to ML from any field? Dr. Raj Dandekar, Dr. Sreedath Panat, and Dr. Rajat Dandekar. MIT, Purdue PhDs | AI Startup founders | IIT Madras ... Missing: co- | Show results with:co-. Co-founders of Vizuara, Raj Dandekar, Rajat Dandekar and Sreedath Panat share about their brand at an industry presentation at 22nd Elets ... Raj Dandekar. Bachelor of Technology; PhD Student at Massachusetts Institute of Technology · About · Publications · Network. Missing: founders | Show results with:founders. This emotional tribute honored both Raja Dandekar and Renu Dandekar , co-founder of Loksadhana, for their decades of visionary leadership and selfless ...\u001b[0m\n",
            "Thought:\u001b[32;1m\u001b[1;3mI found that Dr. Raj Dandekar's co-founders are Dr. Rajat Dandekar and Dr. Sreedath Panat. Now, I need to find their current ages to calculate their ages raised to the 1 power.\n",
            "\n",
            "Action: google_serper  \n",
            "Action Input: \"Dr. Rajat Dandekar age\"  \u001b[0m\n",
            "Observation: \u001b[36;1m\u001b[1;3mHello my name is my day and i'm currently in. In grade 12, I enrolled in the long term mentorship program when I was in grade 11 and at that ... Rajat Dandekar ; 󱚸. Works at Shaastra, IIT Madras ; 󱜧. Studied at IIT Madras ; 󱜧. Went to Dr. Kalmadi Shamarao High School ; 󱜏. Lives in Chennai, India ; 󱘛. From ... As I was already attending a YouTube course on ML for research by Dr. Sreedath Panat . I am inspired by your passion and skills for teaching. In this video, Dr. Rajat Dandekar (IIT Madras BTech, Purdue PhD) ... Generative AI in a Nutshell - how to survive and thrive in the age of AI. Dr. Rajat Dandekar. Purdue PhD, IIT Madras BTech. AI researcher with expertise in machine learning algorithms and computational models. Specializations:. Name of the customer. Address of the customer. Name of the authorized signatory/ies in case of non- individual a/c. 1. APS3460100201041. / rajat-dandekar-901324b1 Dr. Sreedath Panat (MIT PhD, IIT Madras ... age of AI. Henrik Kniberg•3.3M views · 25:41 · Go to channel · AI and ... pdf icon · Raymundo Vazquez Martinez, Raj Abhijit Dandekar, Rajat Dandekar, Sreedath Panat. Published: 11 Oct 2024, Last Modified: 11 Nov 2024; Neurips 2024 ... student Rajat Dandekar receives an award for Best Undergraduate Student. Grad Student Dandekar Examines How Ocean Layers Affect Microbial Motion Towards Oil. Rajat Dandekar (IIT Madras Mtech, Purdue PhD) and Dr. Sreedath ... / rajat-dandekar-901324b1 Dr. Sreedath Panat (MIT PhD, IIT Madras ...\u001b[0m\n",
            "Thought:\u001b[32;1m\u001b[1;3mI wasn't able to find the current age of Dr. Rajat Dandekar. I will now search for the age of Dr. Sreedath Panat to see if I can find any relevant information.\n",
            "\n",
            "Action: google_serper  \n",
            "Action Input: \"Dr. Sreedath Panat age\"  \u001b[0m\n",
            "Observation: \u001b[36;1m\u001b[1;3mSreedath Panat. 87 Courses • 284 Students. 4.50 (4.00). Biography. Bio data is ... By Sreedath Panat In Mentorship · Enroll Course ... I am pursuing PhD from IIT Roorkee and I am also about to marry in 1-1.5 years and will parallely do my PhD. So my suggestion to those people ... I am Dr. Sreedath Panat, a PhD graduate (2022) from Massachusetts Institute of Technology (MIT) and Dual-degree graduate from IIT Madras (2017). Missing: age | Show results with:age. Sreedath Panat. Dual Degree: B.Tech in Mechanical Engineering and. M.Tech in Intelligent Manufacturing. Indian Institute of Technology Madras (2017). Submitted ... In this video we introduce the course instructor Dr. Sreedath Panat ... Generative AI in a Nutshell - how to survive and thrive in the age of AI. Just like how people get less impulsive with age, your model becomes more conservative with updates as training progresses. And it worked ... Dr. Sreedath Panat. MIT PhD, IIT Madras BTech. Specialized in AI applications and computational approaches to problem-solving. Specializations:. 17:20. Go to channel · Do and Don'ts that 50+ aged people should follow to have healthy legs (VNo: 418 ). Dr.Lalitha Appukuttan New 98K views. I was fortunate to connect with Dr. Raj Abhijit Dandekar and Dr. Sreedath Panat and start a collaboration to create content on Physics-informed ...\u001b[0m\n",
            "Thought:\u001b[32;1m\u001b[1;3mI wasn't able to find the current age of Dr. Sreedath Panat either. It seems that specific age information for both co-founders is not readily available. I will now search for the ages of Dr. Raj Dandekar, Dr. Rajat Dandekar, and Dr. Sreedath Panat collectively to see if I can find any relevant information.\n",
            "\n",
            "Action: google_serper  \n",
            "Action Input: \"Dr. Raj Dandekar Rajat Dandekar Sreedath Panat age\"  \u001b[0m\n",
            "Observation: \u001b[36;1m\u001b[1;3mWe, Dr. Raj Dandekar, Dr. Rajat Dandekar and Dr. Sreedath Panat, are a vibrant group of passionate achievers who have come together to help you turn your dreams ... Me, Rajat Dandekar and Sreedath Panat came back to India from USA with a goal to create an impact in the Indian education system. ... Rajat Dandekar and Sreedath Panat always used to discuss various ideas about returning to India and starting our own ventures. One day, I ... Dr. Rajat Dandekar. Purdue PhD, IIT Madras BTech. AI researcher with expertise in machine learning algorithms and computational models. Specializations:. ... sreedath-panat ... Raj Dandekar (IIT Madras Btech, MIT PhD), Dr. Rajat Dandekar (IIT Madras Mtech, Purdue PhD) and Dr. Prathamesh Dinesh Joshi, Sahil Pocker, Raj Abhijit Dandekar, Rajat Dandekar, Sreedath Panat. Comments: 17 pages, 8 figures. Subjects ... pdf icon · Raymundo Vazquez Martinez, Raj Abhijit Dandekar, Rajat Dandekar, Sreedath Panat ... Predicting Age from White Matter Diffusivity with Residual Learning ... ... Dr. Raj Dandekar (IIT Madras Btech, MIT PhD), Dr. Rajat Dandekar (IIT Madras Mtech, Purdue PhD) and Dr. Sreedath Panat (IIT Madras Mtech, MIT ... Prathamesh Dinesh Joshi, Sahil Pocker, Raj Abhijit Dandekar, Rajat Dandekar, Sreedath Panat. Comments: 17 pages, 8 figures. Subjects: Artificial Intelligence ...\u001b[0m\n",
            "Thought:\u001b[32;1m\u001b[1;3mI have not been able to find specific age information for Dr. Raj Dandekar, Dr. Rajat Dandekar, or Dr. Sreedath Panat. It seems that their ages are not publicly available or easily accessible through the search results. Since I cannot determine their ages, I cannot perform the calculation of their ages raised to the 1 power.\n",
            "\n",
            "Final Answer: I am unable to provide the ages of Dr. Raj Dandekar's co-founders or their ages raised to the 1 power, as this information is not readily available.\u001b[0m\n",
            "\n",
            "\u001b[1m> Finished chain.\u001b[0m\n"
          ]
        },
        {
          "output_type": "execute_result",
          "data": {
            "text/plain": [
              "\"I am unable to provide the ages of Dr. Raj Dandekar's co-founders or their ages raised to the 1 power, as this information is not readily available.\""
            ],
            "application/vnd.google.colaboratory.intrinsic+json": {
              "type": "string"
            }
          },
          "metadata": {},
          "execution_count": 3
        }
      ]
    }
  ],
  "metadata": {
    "accelerator": "GPU",
    "colab": {
      "gpuType": "T4",
      "provenance": []
    },
    "kernelspec": {
      "display_name": "Python 3",
      "name": "python3"
    },
    "language_info": {
      "codemirror_mode": {
        "name": "ipython",
        "version": 3
      },
      "file_extension": ".py",
      "mimetype": "text/x-python",
      "name": "python",
      "nbconvert_exporter": "python",
      "pygments_lexer": "ipython3",
      "version": "3.12.9"
    }
  },
  "nbformat": 4,
  "nbformat_minor": 0
}