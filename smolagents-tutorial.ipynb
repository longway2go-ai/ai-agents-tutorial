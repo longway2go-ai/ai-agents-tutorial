{
  "cells": [
    {
      "cell_type": "markdown",
      "metadata": {
        "id": "fXCVEZC2z3Pf"
      },
      "source": [
        "## Let's build and evaluate agents using Smolagents\n",
        "\n",
        "If you haven't installed `smolagents` yet, you can do so by running the following command:"
      ]
    },
    {
      "cell_type": "code",
      "execution_count": null,
      "metadata": {
        "id": "u8AXJMCnxm6C",
        "colab": {
          "base_uri": "https://localhost:8080/"
        },
        "outputId": "e58e1249-d0d7-40c0-bfd8-0b2724e3fdc0"
      },
      "outputs": [
        {
          "output_type": "stream",
          "name": "stdout",
          "text": [
            "Collecting smolagents\n",
            "  Downloading smolagents-1.19.0-py3-none-any.whl.metadata (16 kB)\n",
            "Requirement already satisfied: huggingface-hub>=0.31.2 in /usr/local/lib/python3.11/dist-packages (from smolagents) (0.33.0)\n",
            "Requirement already satisfied: requests>=2.32.3 in /usr/local/lib/python3.11/dist-packages (from smolagents) (2.32.3)\n",
            "Requirement already satisfied: rich>=13.9.4 in /usr/local/lib/python3.11/dist-packages (from smolagents) (13.9.4)\n",
            "Requirement already satisfied: jinja2>=3.1.4 in /usr/local/lib/python3.11/dist-packages (from smolagents) (3.1.6)\n",
            "Requirement already satisfied: pillow>=10.0.1 in /usr/local/lib/python3.11/dist-packages (from smolagents) (11.2.1)\n",
            "Collecting python-dotenv (from smolagents)\n",
            "  Downloading python_dotenv-1.1.1-py3-none-any.whl.metadata (24 kB)\n",
            "Requirement already satisfied: filelock in /usr/local/lib/python3.11/dist-packages (from huggingface-hub>=0.31.2->smolagents) (3.18.0)\n",
            "Requirement already satisfied: fsspec>=2023.5.0 in /usr/local/lib/python3.11/dist-packages (from huggingface-hub>=0.31.2->smolagents) (2025.3.2)\n",
            "Requirement already satisfied: packaging>=20.9 in /usr/local/lib/python3.11/dist-packages (from huggingface-hub>=0.31.2->smolagents) (24.2)\n",
            "Requirement already satisfied: pyyaml>=5.1 in /usr/local/lib/python3.11/dist-packages (from huggingface-hub>=0.31.2->smolagents) (6.0.2)\n",
            "Requirement already satisfied: tqdm>=4.42.1 in /usr/local/lib/python3.11/dist-packages (from huggingface-hub>=0.31.2->smolagents) (4.67.1)\n",
            "Requirement already satisfied: typing-extensions>=3.7.4.3 in /usr/local/lib/python3.11/dist-packages (from huggingface-hub>=0.31.2->smolagents) (4.14.0)\n",
            "Requirement already satisfied: hf-xet<2.0.0,>=1.1.2 in /usr/local/lib/python3.11/dist-packages (from huggingface-hub>=0.31.2->smolagents) (1.1.5)\n",
            "Requirement already satisfied: MarkupSafe>=2.0 in /usr/local/lib/python3.11/dist-packages (from jinja2>=3.1.4->smolagents) (3.0.2)\n",
            "Requirement already satisfied: charset-normalizer<4,>=2 in /usr/local/lib/python3.11/dist-packages (from requests>=2.32.3->smolagents) (3.4.2)\n",
            "Requirement already satisfied: idna<4,>=2.5 in /usr/local/lib/python3.11/dist-packages (from requests>=2.32.3->smolagents) (3.10)\n",
            "Requirement already satisfied: urllib3<3,>=1.21.1 in /usr/local/lib/python3.11/dist-packages (from requests>=2.32.3->smolagents) (2.4.0)\n",
            "Requirement already satisfied: certifi>=2017.4.17 in /usr/local/lib/python3.11/dist-packages (from requests>=2.32.3->smolagents) (2025.6.15)\n",
            "Requirement already satisfied: markdown-it-py>=2.2.0 in /usr/local/lib/python3.11/dist-packages (from rich>=13.9.4->smolagents) (3.0.0)\n",
            "Requirement already satisfied: pygments<3.0.0,>=2.13.0 in /usr/local/lib/python3.11/dist-packages (from rich>=13.9.4->smolagents) (2.19.2)\n",
            "Requirement already satisfied: mdurl~=0.1 in /usr/local/lib/python3.11/dist-packages (from markdown-it-py>=2.2.0->rich>=13.9.4->smolagents) (0.1.2)\n",
            "Downloading smolagents-1.19.0-py3-none-any.whl (138 kB)\n",
            "\u001b[2K   \u001b[90m━━━━━━━━━━━━━━━━━━━━━━━━━━━━━━━━━━━━━━━━\u001b[0m \u001b[32m138.2/138.2 kB\u001b[0m \u001b[31m7.7 MB/s\u001b[0m eta \u001b[36m0:00:00\u001b[0m\n",
            "\u001b[?25hDownloading python_dotenv-1.1.1-py3-none-any.whl (20 kB)\n",
            "Installing collected packages: python-dotenv, smolagents\n",
            "Successfully installed python-dotenv-1.1.1 smolagents-1.19.0\n",
            "Collecting duckduckgo-search\n",
            "  Downloading duckduckgo_search-8.0.4-py3-none-any.whl.metadata (16 kB)\n",
            "Requirement already satisfied: click>=8.1.8 in /usr/local/lib/python3.11/dist-packages (from duckduckgo-search) (8.2.1)\n",
            "Collecting primp>=0.15.0 (from duckduckgo-search)\n",
            "  Downloading primp-0.15.0-cp38-abi3-manylinux_2_17_x86_64.manylinux2014_x86_64.whl.metadata (13 kB)\n",
            "Requirement already satisfied: lxml>=5.3.0 in /usr/local/lib/python3.11/dist-packages (from duckduckgo-search) (5.4.0)\n",
            "Downloading duckduckgo_search-8.0.4-py3-none-any.whl (18 kB)\n",
            "Downloading primp-0.15.0-cp38-abi3-manylinux_2_17_x86_64.manylinux2014_x86_64.whl (3.3 MB)\n",
            "\u001b[2K   \u001b[90m━━━━━━━━━━━━━━━━━━━━━━━━━━━━━━━━━━━━━━━━\u001b[0m \u001b[32m3.3/3.3 MB\u001b[0m \u001b[31m54.0 MB/s\u001b[0m eta \u001b[36m0:00:00\u001b[0m\n",
            "\u001b[?25hInstalling collected packages: primp, duckduckgo-search\n",
            "Successfully installed duckduckgo-search-8.0.4 primp-0.15.0\n"
          ]
        }
      ],
      "source": [
        "!pip install smolagents -U\n",
        "!pip install duckduckgo-search\n"
      ]
    },
    {
      "cell_type": "code",
      "execution_count": null,
      "metadata": {
        "colab": {
          "base_uri": "https://localhost:8080/",
          "height": 17,
          "referenced_widgets": [
            "f0654e554dda4db9b92db9184e3ec558",
            "41f5fcbf777b4d38a2ce5f02d4b41d28",
            "37ec146fa40d43ef9f59e465d74fa2af",
            "d1d11353060e45d484ca2b96c1342ef5",
            "343b63b40a754d05ad4949b5cfdd90b1",
            "56063e7357cd4bb6b480964ea8f50ee3",
            "e4756049e3ef4ae08c139353d91d4399",
            "4f3435ad7bc244fda193056a05f0149f",
            "6878b0b7018c4f3cb1c031980f711a32",
            "1b54bd21647845dc81ce5a202cda69a9",
            "b87bf2b1ce664814aff0e684180f270a",
            "c6ce8768ad1a4d2c8fd068de28580292",
            "1b2dd88e2a624c2da8fcf95bc019e527",
            "5f7cea526e444cc7b53d0661232c615b",
            "d0ed44c6812e4da48bf00ce70e3dfe09",
            "8d52f27418d343cf870db3a5b26bdb96",
            "9725a267b8e64081a4d1785e78186580",
            "0cd8d3e2086843048b5bcdfacdd8a77b",
            "060189a23906471a85c18ba595fc80d3",
            "8d1677f211fa4d90a807e3b3fa3f6c05"
          ]
        },
        "id": "3TuJYDo2yGZP",
        "outputId": "2a80c9bd-112c-40e7-d989-556191e0c7fe"
      },
      "outputs": [
        {
          "output_type": "display_data",
          "data": {
            "text/plain": [
              "VBox(children=(HTML(value='<center> <img\\nsrc=https://huggingface.co/front/assets/huggingface_logo-noborder.sv…"
            ],
            "application/vnd.jupyter.widget-view+json": {
              "version_major": 2,
              "version_minor": 0,
              "model_id": "f0654e554dda4db9b92db9184e3ec558"
            }
          },
          "metadata": {}
        }
      ],
      "source": [
        "from huggingface_hub import notebook_login\n",
        "\n",
        "notebook_login()"
      ]
    },
    {
      "cell_type": "markdown",
      "metadata": {
        "id": "VcFo_ztwyVA7"
      },
      "source": [
        "## Finding books for implementing AI-ML in the workplace, using `smolagents`\n",
        "\n",
        "\n",
        "For the model, we'll rely on `InferenceClientModel`, which provides access to Hugging Face's [Inference API](https://huggingface.co/docs/api-inference/index). The default model is `\"Qwen/Qwen2.5-Coder-32B-Instruct\"`, which is performant and available for fast inference, but you can select any compatible model from the Hub.\n",
        "\n",
        "Running an agent is quite straightforward:"
      ]
    },
    {
      "cell_type": "code",
      "execution_count": null,
      "metadata": {
        "colab": {
          "base_uri": "https://localhost:8080/",
          "height": 1000
        },
        "id": "DeBvQBEpx-VO",
        "outputId": "bf935504-4249-40c4-ab7e-ecee6272df57"
      },
      "outputs": [
        {
          "output_type": "display_data",
          "data": {
            "text/plain": [
              "\u001b[38;2;212;183;2m╭─\u001b[0m\u001b[38;2;212;183;2m───────────────────────────────────────────────────\u001b[0m\u001b[38;2;212;183;2m \u001b[0m\u001b[1;38;2;212;183;2mNew run\u001b[0m\u001b[38;2;212;183;2m \u001b[0m\u001b[38;2;212;183;2m───────────────────────────────────────────────────\u001b[0m\u001b[38;2;212;183;2m─╮\u001b[0m\n",
              "\u001b[38;2;212;183;2m│\u001b[0m                                                                                                                 \u001b[38;2;212;183;2m│\u001b[0m\n",
              "\u001b[38;2;212;183;2m│\u001b[0m \u001b[1mSearch for the best book recommendations for implementing AI in the workplace.\u001b[0m                                  \u001b[38;2;212;183;2m│\u001b[0m\n",
              "\u001b[38;2;212;183;2m│\u001b[0m                                                                                                                 \u001b[38;2;212;183;2m│\u001b[0m\n",
              "\u001b[38;2;212;183;2m╰─\u001b[0m\u001b[38;2;212;183;2m InferenceClientModel - Qwen/Qwen2.5-Coder-32B-Instruct \u001b[0m\u001b[38;2;212;183;2m───────────────────────────────────────────────────────\u001b[0m\u001b[38;2;212;183;2m─╯\u001b[0m\n"
            ],
            "text/html": [
              "<pre style=\"white-space:pre;overflow-x:auto;line-height:normal;font-family:Menlo,'DejaVu Sans Mono',consolas,'Courier New',monospace\"><span style=\"color: #d4b702; text-decoration-color: #d4b702\">╭──────────────────────────────────────────────────── </span><span style=\"color: #d4b702; text-decoration-color: #d4b702; font-weight: bold\">New run</span><span style=\"color: #d4b702; text-decoration-color: #d4b702\"> ────────────────────────────────────────────────────╮</span>\n",
              "<span style=\"color: #d4b702; text-decoration-color: #d4b702\">│</span>                                                                                                                 <span style=\"color: #d4b702; text-decoration-color: #d4b702\">│</span>\n",
              "<span style=\"color: #d4b702; text-decoration-color: #d4b702\">│</span> <span style=\"font-weight: bold\">Search for the best book recommendations for implementing AI in the workplace.</span>                                  <span style=\"color: #d4b702; text-decoration-color: #d4b702\">│</span>\n",
              "<span style=\"color: #d4b702; text-decoration-color: #d4b702\">│</span>                                                                                                                 <span style=\"color: #d4b702; text-decoration-color: #d4b702\">│</span>\n",
              "<span style=\"color: #d4b702; text-decoration-color: #d4b702\">╰─ InferenceClientModel - Qwen/Qwen2.5-Coder-32B-Instruct ────────────────────────────────────────────────────────╯</span>\n",
              "</pre>\n"
            ]
          },
          "metadata": {}
        },
        {
          "output_type": "display_data",
          "data": {
            "text/plain": [
              "\u001b[38;2;212;183;2m━━━━━━━━━━━━━━━━━━━━━━━━━━━━━━━━━━━━━━━━━━━━━━━━━━━━━ \u001b[0m\u001b[1mStep \u001b[0m\u001b[1;36m1\u001b[0m\u001b[38;2;212;183;2m ━━━━━━━━━━━━━━━━━━━━━━━━━━━━━━━━━━━━━━━━━━━━━━━━━━━━━━\u001b[0m\n"
            ],
            "text/html": [
              "<pre style=\"white-space:pre;overflow-x:auto;line-height:normal;font-family:Menlo,'DejaVu Sans Mono',consolas,'Courier New',monospace\"><span style=\"color: #d4b702; text-decoration-color: #d4b702\">━━━━━━━━━━━━━━━━━━━━━━━━━━━━━━━━━━━━━━━━━━━━━━━━━━━━━ </span><span style=\"font-weight: bold\">Step </span><span style=\"color: #008080; text-decoration-color: #008080; font-weight: bold\">1</span><span style=\"color: #d4b702; text-decoration-color: #d4b702\"> ━━━━━━━━━━━━━━━━━━━━━━━━━━━━━━━━━━━━━━━━━━━━━━━━━━━━━━</span>\n",
              "</pre>\n"
            ]
          },
          "metadata": {}
        },
        {
          "output_type": "stream",
          "name": "stderr",
          "text": [
            "/usr/local/lib/python3.11/dist-packages/huggingface_hub/utils/_auth.py:94: UserWarning: \n",
            "The secret `HF_TOKEN` does not exist in your Colab secrets.\n",
            "To authenticate with the Hugging Face Hub, create a token in your settings tab (https://huggingface.co/settings/tokens), set it as secret in your Google Colab and restart your session.\n",
            "You will be able to reuse this secret in all of your notebooks.\n",
            "Please note that authentication is recommended but still optional to access public models or datasets.\n",
            "  warnings.warn(\n"
          ]
        },
        {
          "output_type": "display_data",
          "data": {
            "text/plain": [
              " ─ \u001b[1mExecuting parsed code:\u001b[0m ──────────────────────────────────────────────────────────────────────────────────────── \n",
              "  \u001b[38;2;248;248;242;48;2;39;40;34mbook_recommendations\u001b[0m\u001b[38;2;248;248;242;48;2;39;40;34m \u001b[0m\u001b[38;2;255;70;137;48;2;39;40;34m=\u001b[0m\u001b[38;2;248;248;242;48;2;39;40;34m \u001b[0m\u001b[38;2;248;248;242;48;2;39;40;34mweb_search\u001b[0m\u001b[38;2;248;248;242;48;2;39;40;34m(\u001b[0m\u001b[38;2;248;248;242;48;2;39;40;34mquery\u001b[0m\u001b[38;2;255;70;137;48;2;39;40;34m=\u001b[0m\u001b[38;2;230;219;116;48;2;39;40;34m\"\u001b[0m\u001b[38;2;230;219;116;48;2;39;40;34mbest books for implementing AI in the workplace\u001b[0m\u001b[38;2;230;219;116;48;2;39;40;34m\"\u001b[0m\u001b[38;2;248;248;242;48;2;39;40;34m)\u001b[0m\u001b[48;2;39;40;34m                     \u001b[0m  \n",
              "  \u001b[38;2;248;248;242;48;2;39;40;34mprint\u001b[0m\u001b[38;2;248;248;242;48;2;39;40;34m(\u001b[0m\u001b[38;2;248;248;242;48;2;39;40;34mbook_recommendations\u001b[0m\u001b[38;2;248;248;242;48;2;39;40;34m)\u001b[0m\u001b[48;2;39;40;34m                                                                                    \u001b[0m  \n",
              " ───────────────────────────────────────────────────────────────────────────────────────────────────────────────── \n"
            ],
            "text/html": [
              "<pre style=\"white-space:pre;overflow-x:auto;line-height:normal;font-family:Menlo,'DejaVu Sans Mono',consolas,'Courier New',monospace\"> ─ <span style=\"font-weight: bold\">Executing parsed code:</span> ──────────────────────────────────────────────────────────────────────────────────────── \n",
              "  <span style=\"color: #f8f8f2; text-decoration-color: #f8f8f2; background-color: #272822\">book_recommendations </span><span style=\"color: #ff4689; text-decoration-color: #ff4689; background-color: #272822\">=</span><span style=\"color: #f8f8f2; text-decoration-color: #f8f8f2; background-color: #272822\"> web_search(query</span><span style=\"color: #ff4689; text-decoration-color: #ff4689; background-color: #272822\">=</span><span style=\"color: #e6db74; text-decoration-color: #e6db74; background-color: #272822\">\"best books for implementing AI in the workplace\"</span><span style=\"color: #f8f8f2; text-decoration-color: #f8f8f2; background-color: #272822\">)</span><span style=\"background-color: #272822\">                     </span>  \n",
              "  <span style=\"color: #f8f8f2; text-decoration-color: #f8f8f2; background-color: #272822\">print(book_recommendations)</span><span style=\"background-color: #272822\">                                                                                    </span>  \n",
              " ───────────────────────────────────────────────────────────────────────────────────────────────────────────────── \n",
              "</pre>\n"
            ]
          },
          "metadata": {}
        },
        {
          "output_type": "display_data",
          "data": {
            "text/plain": [
              "\u001b[1mExecution logs:\u001b[0m\n",
              "## Search Results\n",
              "\n",
              "[6 Books on AI in the Workplace - Publishers \n",
              "Weekly](https://www.publishersweekly.com/pw/by-topic/new-titles/adult-announcements/article/95171-six-books-on-ai-i\n",
              "n-the-workplace.html)\n",
              "Implementing AI practices in a workplace needs to be more than good for the bottom line: it should also be done \n",
              "carefully and thoughtfully, says Gambelin, who founded the AI Ethics advisory firm ...\n",
              "\n",
              "[10 Must-Read Books on AI Recommended by Thought \n",
              "Leaders](https://medium.com/@rpatech.ai/10-must-read-books-on-ai-recommended-by-thought-leaders-b3eaecb2bf43)\n",
              "Here are some books on AI that are recommended by technology leaders like Lila Ibrahim, COO of Google DeepMind, Amy\n",
              "Webb, founder and CEO of Future Today Institute, and others.\n",
              "\n",
              "[Empower Your Business with Artificial Intelligence: 10 Books Every \n",
              "...](https://www.gend.co/blog/empower-your-business-with-artificial-intelligence-top-10-books-every-business-leader\n",
              "-should-read)\n",
              "From understanding AI fundamentals to implementing AI initiatives and navigating ethical considerations, these \n",
              "books offer valuable guidance and inspiration for business leaders on their AI journey. So don't wait - dive into \n",
              "these AI books today and unlock the transformative potential of artificial intelligence for your business.\n",
              "\n",
              "[20 of the Best Books on AI and Machine Learning in \n",
              "2024](https://www.rareconnections.io/best-books-on-ai-and-machine-learning)\n",
              "3. The Business Case for AI The Business Case for AI: A Leader's Guide to AI Strategies, Best Practices & \n",
              "Real-World Applications by Kavita Ganesan is one of the best AI books for business leaders and serves as a \n",
              "comprehensive guide for implementing artificial intelligence into business operations.\n",
              "\n",
              "[9 Must-Read AI Books for Business Leaders - Nextiva](https://www.nextiva.com/blog/ai-business-books.html)\n",
              "These top AI business books shed light on the impact of artificial intelligence in business, and how people and \n",
              "computers will work together.\n",
              "\n",
              "[Best AI Books 2024: The Essential Guide to ... - \n",
              "digitalcreatorai](https://digitalcreatorai.com/best-ai-books-2024/)\n",
              "Discover the best AI books of 2024. Essential reads for workflow optimization, AI leadership, and future-proofing \n",
              "your strategies.\n",
              "\n",
              "[The 11 Best AI Books in 2025 [Updated Guide] | Beginner to Pro - \n",
              "Hackr](https://hackr.io/blog/artificial-intelligence-books)\n",
              "In this article, we share the 11 best ai books in 2024. Whether you'd like to land a job in AI or want to further \n",
              "your career by learning new skills, we've included ai books for beginners and experienced professionals.\n",
              "\n",
              "[AI and the Future of Work: 7 Must-Read Books - Analytics \n",
              "Insight](https://www.analyticsinsight.net/ampstories/artificial-intelligence/ai-and-the-future-of-work-7-must-read-\n",
              "books)\n",
              "Discover 7 essential books on AI's impact on work, offering insights and strategies to thrive in the evolving job \n",
              "landscape.\n",
              "\n",
              "[10 Best Books on Artificial Intelligence - \n",
              "thewolfofai.co](https://www.thewolfofai.co/post/best-books-on-artificial-intelligence)\n",
              "Artificial intelligence is changing the world. To understand and thrive in this new era, finding the best \n",
              "artificial intelligence books is crucial. This guide provides a roadmap, offering a carefully curated selection of \n",
              "impactful books on artificial intelligence.\n",
              "\n",
              "[The Best Books on Artificial Intelligence (AI) to Read in 2025](https://www.qualtrics.com/blog/books-on-ai/)\n",
              "Discover the top 10 best books on artificial intelligence that provide valuable insights and knowledge. Click \n",
              "though to genuinely gain a detailed understanding on AI.\n",
              "\n",
              "Out: None\n"
            ],
            "text/html": [
              "<pre style=\"white-space:pre;overflow-x:auto;line-height:normal;font-family:Menlo,'DejaVu Sans Mono',consolas,'Courier New',monospace\"><span style=\"font-weight: bold\">Execution logs:</span>\n",
              "## Search Results\n",
              "\n",
              "[6 Books on AI in the Workplace - Publishers \n",
              "Weekly](https://www.publishersweekly.com/pw/by-topic/new-titles/adult-announcements/article/95171-six-books-on-ai-i\n",
              "n-the-workplace.html)\n",
              "Implementing AI practices in a workplace needs to be more than good for the bottom line: it should also be done \n",
              "carefully and thoughtfully, says Gambelin, who founded the AI Ethics advisory firm ...\n",
              "\n",
              "[10 Must-Read Books on AI Recommended by Thought \n",
              "Leaders](https://medium.com/@rpatech.ai/10-must-read-books-on-ai-recommended-by-thought-leaders-b3eaecb2bf43)\n",
              "Here are some books on AI that are recommended by technology leaders like Lila Ibrahim, COO of Google DeepMind, Amy\n",
              "Webb, founder and CEO of Future Today Institute, and others.\n",
              "\n",
              "[Empower Your Business with Artificial Intelligence: 10 Books Every \n",
              "...](https://www.gend.co/blog/empower-your-business-with-artificial-intelligence-top-10-books-every-business-leader\n",
              "-should-read)\n",
              "From understanding AI fundamentals to implementing AI initiatives and navigating ethical considerations, these \n",
              "books offer valuable guidance and inspiration for business leaders on their AI journey. So don't wait - dive into \n",
              "these AI books today and unlock the transformative potential of artificial intelligence for your business.\n",
              "\n",
              "[20 of the Best Books on AI and Machine Learning in \n",
              "2024](https://www.rareconnections.io/best-books-on-ai-and-machine-learning)\n",
              "3. The Business Case for AI The Business Case for AI: A Leader's Guide to AI Strategies, Best Practices &amp; \n",
              "Real-World Applications by Kavita Ganesan is one of the best AI books for business leaders and serves as a \n",
              "comprehensive guide for implementing artificial intelligence into business operations.\n",
              "\n",
              "[9 Must-Read AI Books for Business Leaders - Nextiva](https://www.nextiva.com/blog/ai-business-books.html)\n",
              "These top AI business books shed light on the impact of artificial intelligence in business, and how people and \n",
              "computers will work together.\n",
              "\n",
              "[Best AI Books 2024: The Essential Guide to ... - \n",
              "digitalcreatorai](https://digitalcreatorai.com/best-ai-books-2024/)\n",
              "Discover the best AI books of 2024. Essential reads for workflow optimization, AI leadership, and future-proofing \n",
              "your strategies.\n",
              "\n",
              "[The 11 Best AI Books in 2025 [Updated Guide] | Beginner to Pro - \n",
              "Hackr](https://hackr.io/blog/artificial-intelligence-books)\n",
              "In this article, we share the 11 best ai books in 2024. Whether you'd like to land a job in AI or want to further \n",
              "your career by learning new skills, we've included ai books for beginners and experienced professionals.\n",
              "\n",
              "[AI and the Future of Work: 7 Must-Read Books - Analytics \n",
              "Insight](https://www.analyticsinsight.net/ampstories/artificial-intelligence/ai-and-the-future-of-work-7-must-read-\n",
              "books)\n",
              "Discover 7 essential books on AI's impact on work, offering insights and strategies to thrive in the evolving job \n",
              "landscape.\n",
              "\n",
              "[10 Best Books on Artificial Intelligence - \n",
              "thewolfofai.co](https://www.thewolfofai.co/post/best-books-on-artificial-intelligence)\n",
              "Artificial intelligence is changing the world. To understand and thrive in this new era, finding the best \n",
              "artificial intelligence books is crucial. This guide provides a roadmap, offering a carefully curated selection of \n",
              "impactful books on artificial intelligence.\n",
              "\n",
              "[The Best Books on Artificial Intelligence (AI) to Read in 2025](https://www.qualtrics.com/blog/books-on-ai/)\n",
              "Discover the top 10 best books on artificial intelligence that provide valuable insights and knowledge. Click \n",
              "though to genuinely gain a detailed understanding on AI.\n",
              "\n",
              "Out: None\n",
              "</pre>\n"
            ]
          },
          "metadata": {}
        },
        {
          "output_type": "display_data",
          "data": {
            "text/plain": [
              "\u001b[2m[Step 1: Duration 2.56 seconds| Input tokens: 2,002 | Output tokens: 69]\u001b[0m\n"
            ],
            "text/html": [
              "<pre style=\"white-space:pre;overflow-x:auto;line-height:normal;font-family:Menlo,'DejaVu Sans Mono',consolas,'Courier New',monospace\"><span style=\"color: #7f7f7f; text-decoration-color: #7f7f7f\">[Step 1: Duration 2.56 seconds| Input tokens: 2,002 | Output tokens: 69]</span>\n",
              "</pre>\n"
            ]
          },
          "metadata": {}
        },
        {
          "output_type": "display_data",
          "data": {
            "text/plain": [
              "\u001b[38;2;212;183;2m━━━━━━━━━━━━━━━━━━━━━━━━━━━━━━━━━━━━━━━━━━━━━━━━━━━━━ \u001b[0m\u001b[1mStep \u001b[0m\u001b[1;36m2\u001b[0m\u001b[38;2;212;183;2m ━━━━━━━━━━━━━━━━━━━━━━━━━━━━━━━━━━━━━━━━━━━━━━━━━━━━━━\u001b[0m\n"
            ],
            "text/html": [
              "<pre style=\"white-space:pre;overflow-x:auto;line-height:normal;font-family:Menlo,'DejaVu Sans Mono',consolas,'Courier New',monospace\"><span style=\"color: #d4b702; text-decoration-color: #d4b702\">━━━━━━━━━━━━━━━━━━━━━━━━━━━━━━━━━━━━━━━━━━━━━━━━━━━━━ </span><span style=\"font-weight: bold\">Step </span><span style=\"color: #008080; text-decoration-color: #008080; font-weight: bold\">2</span><span style=\"color: #d4b702; text-decoration-color: #d4b702\"> ━━━━━━━━━━━━━━━━━━━━━━━━━━━━━━━━━━━━━━━━━━━━━━━━━━━━━━</span>\n",
              "</pre>\n"
            ]
          },
          "metadata": {}
        },
        {
          "output_type": "display_data",
          "data": {
            "text/plain": [
              " ─ \u001b[1mExecuting parsed code:\u001b[0m ──────────────────────────────────────────────────────────────────────────────────────── \n",
              "  \u001b[38;2;149;144;119;48;2;39;40;34m# Extracting book titles from the search results\u001b[0m\u001b[48;2;39;40;34m                                                               \u001b[0m  \n",
              "  \u001b[38;2;248;248;242;48;2;39;40;34mbook_titles\u001b[0m\u001b[38;2;248;248;242;48;2;39;40;34m \u001b[0m\u001b[38;2;255;70;137;48;2;39;40;34m=\u001b[0m\u001b[38;2;248;248;242;48;2;39;40;34m \u001b[0m\u001b[38;2;248;248;242;48;2;39;40;34m[\u001b[0m\u001b[48;2;39;40;34m                                                                                                \u001b[0m  \n",
              "  \u001b[38;2;248;248;242;48;2;39;40;34m    \u001b[0m\u001b[38;2;230;219;116;48;2;39;40;34m\"\u001b[0m\u001b[38;2;230;219;116;48;2;39;40;34mThe Business Case for AI: A Leader\u001b[0m\u001b[38;2;230;219;116;48;2;39;40;34m'\u001b[0m\u001b[38;2;230;219;116;48;2;39;40;34ms Guide to AI Strategies, Best Practices & Real-World Applications by \u001b[0m\u001b[48;2;39;40;34m \u001b[0m  \n",
              "  \u001b[38;2;230;219;116;48;2;39;40;34mKavita Ganesan\u001b[0m\u001b[38;2;230;219;116;48;2;39;40;34m\"\u001b[0m\u001b[38;2;248;248;242;48;2;39;40;34m,\u001b[0m\u001b[48;2;39;40;34m                                                                                               \u001b[0m  \n",
              "  \u001b[38;2;248;248;242;48;2;39;40;34m    \u001b[0m\u001b[38;2;230;219;116;48;2;39;40;34m\"\u001b[0m\u001b[38;2;230;219;116;48;2;39;40;34mAI Superpowers: China, Silicon Valley, and New World Order by Kai-Fu Lee\u001b[0m\u001b[38;2;230;219;116;48;2;39;40;34m\"\u001b[0m\u001b[38;2;248;248;242;48;2;39;40;34m,\u001b[0m\u001b[48;2;39;40;34m                                \u001b[0m  \n",
              "  \u001b[38;2;248;248;242;48;2;39;40;34m    \u001b[0m\u001b[38;2;230;219;116;48;2;39;40;34m\"\u001b[0m\u001b[38;2;230;219;116;48;2;39;40;34mLife 3. 0: Being Human in the Age of Artificial Intelligence by Max Tegmark\u001b[0m\u001b[38;2;230;219;116;48;2;39;40;34m\"\u001b[0m\u001b[38;2;248;248;242;48;2;39;40;34m,\u001b[0m\u001b[48;2;39;40;34m                             \u001b[0m  \n",
              "  \u001b[38;2;248;248;242;48;2;39;40;34m    \u001b[0m\u001b[38;2;230;219;116;48;2;39;40;34m\"\u001b[0m\u001b[38;2;230;219;116;48;2;39;40;34mArtificial Intelligence for Business: A Practical Guide to Implementing AI in Your Organization by Tom \u001b[0m\u001b[48;2;39;40;34m   \u001b[0m  \n",
              "  \u001b[38;2;230;219;116;48;2;39;40;34mTaulli\u001b[0m\u001b[38;2;230;219;116;48;2;39;40;34m\"\u001b[0m\u001b[38;2;248;248;242;48;2;39;40;34m,\u001b[0m\u001b[48;2;39;40;34m                                                                                                       \u001b[0m  \n",
              "  \u001b[38;2;248;248;242;48;2;39;40;34m    \u001b[0m\u001b[38;2;230;219;116;48;2;39;40;34m\"\u001b[0m\u001b[38;2;230;219;116;48;2;39;40;34mHuman + Machine: Reimagining Work in the Age of AI by Paul R. Daugherty and James Wilson\u001b[0m\u001b[38;2;230;219;116;48;2;39;40;34m\"\u001b[0m\u001b[38;2;248;248;242;48;2;39;40;34m,\u001b[0m\u001b[48;2;39;40;34m                \u001b[0m  \n",
              "  \u001b[38;2;248;248;242;48;2;39;40;34m    \u001b[0m\u001b[38;2;230;219;116;48;2;39;40;34m\"\u001b[0m\u001b[38;2;230;219;116;48;2;39;40;34mAI in the Workplace: A Practical Guide to Implementing AI in Your Business by Kavita Ganesan\u001b[0m\u001b[38;2;230;219;116;48;2;39;40;34m\"\u001b[0m\u001b[38;2;248;248;242;48;2;39;40;34m,\u001b[0m\u001b[48;2;39;40;34m            \u001b[0m  \n",
              "  \u001b[38;2;248;248;242;48;2;39;40;34m    \u001b[0m\u001b[38;2;230;219;116;48;2;39;40;34m\"\u001b[0m\u001b[38;2;230;219;116;48;2;39;40;34mThe AI Advantage: How to Put Artificial Intelligence to Work for Your Business by James V. Demmel\u001b[0m\u001b[38;2;230;219;116;48;2;39;40;34m\"\u001b[0m\u001b[38;2;248;248;242;48;2;39;40;34m,\u001b[0m\u001b[48;2;39;40;34m       \u001b[0m  \n",
              "  \u001b[38;2;248;248;242;48;2;39;40;34m    \u001b[0m\u001b[38;2;230;219;116;48;2;39;40;34m\"\u001b[0m\u001b[38;2;230;219;116;48;2;39;40;34mThe Master Algorithm: How the Quest for the Ultimate Learning Machine Will Remake Our World by Pedro \u001b[0m\u001b[48;2;39;40;34m     \u001b[0m  \n",
              "  \u001b[38;2;230;219;116;48;2;39;40;34mDomingos\u001b[0m\u001b[38;2;230;219;116;48;2;39;40;34m\"\u001b[0m\u001b[38;2;248;248;242;48;2;39;40;34m,\u001b[0m\u001b[48;2;39;40;34m                                                                                                     \u001b[0m  \n",
              "  \u001b[38;2;248;248;242;48;2;39;40;34m    \u001b[0m\u001b[38;2;230;219;116;48;2;39;40;34m\"\u001b[0m\u001b[38;2;230;219;116;48;2;39;40;34mArtificial Intelligence: A Guide for Thinking Humans by Melanie Mitchell\u001b[0m\u001b[38;2;230;219;116;48;2;39;40;34m\"\u001b[0m\u001b[38;2;248;248;242;48;2;39;40;34m,\u001b[0m\u001b[48;2;39;40;34m                                \u001b[0m  \n",
              "  \u001b[38;2;248;248;242;48;2;39;40;34m    \u001b[0m\u001b[38;2;230;219;116;48;2;39;40;34m\"\u001b[0m\u001b[38;2;230;219;116;48;2;39;40;34mAI Today: What Everyone Needs to Know by Melanie Mitchell\u001b[0m\u001b[38;2;230;219;116;48;2;39;40;34m\"\u001b[0m\u001b[48;2;39;40;34m                                                \u001b[0m  \n",
              "  \u001b[38;2;248;248;242;48;2;39;40;34m]\u001b[0m\u001b[48;2;39;40;34m                                                                                                              \u001b[0m  \n",
              "  \u001b[48;2;39;40;34m                                                                                                               \u001b[0m  \n",
              "  \u001b[38;2;149;144;119;48;2;39;40;34m# Printing the book titles\u001b[0m\u001b[48;2;39;40;34m                                                                                     \u001b[0m  \n",
              "  \u001b[38;2;248;248;242;48;2;39;40;34mprint\u001b[0m\u001b[38;2;248;248;242;48;2;39;40;34m(\u001b[0m\u001b[38;2;248;248;242;48;2;39;40;34mbook_titles\u001b[0m\u001b[38;2;248;248;242;48;2;39;40;34m)\u001b[0m\u001b[48;2;39;40;34m                                                                                             \u001b[0m  \n",
              " ───────────────────────────────────────────────────────────────────────────────────────────────────────────────── \n"
            ],
            "text/html": [
              "<pre style=\"white-space:pre;overflow-x:auto;line-height:normal;font-family:Menlo,'DejaVu Sans Mono',consolas,'Courier New',monospace\"> ─ <span style=\"font-weight: bold\">Executing parsed code:</span> ──────────────────────────────────────────────────────────────────────────────────────── \n",
              "  <span style=\"color: #959077; text-decoration-color: #959077; background-color: #272822\"># Extracting book titles from the search results</span><span style=\"background-color: #272822\">                                                               </span>  \n",
              "  <span style=\"color: #f8f8f2; text-decoration-color: #f8f8f2; background-color: #272822\">book_titles </span><span style=\"color: #ff4689; text-decoration-color: #ff4689; background-color: #272822\">=</span><span style=\"color: #f8f8f2; text-decoration-color: #f8f8f2; background-color: #272822\"> [</span><span style=\"background-color: #272822\">                                                                                                </span>  \n",
              "  <span style=\"color: #f8f8f2; text-decoration-color: #f8f8f2; background-color: #272822\">    </span><span style=\"color: #e6db74; text-decoration-color: #e6db74; background-color: #272822\">\"The Business Case for AI: A Leader's Guide to AI Strategies, Best Practices &amp; Real-World Applications by </span><span style=\"background-color: #272822\"> </span>  \n",
              "  <span style=\"color: #e6db74; text-decoration-color: #e6db74; background-color: #272822\">Kavita Ganesan\"</span><span style=\"color: #f8f8f2; text-decoration-color: #f8f8f2; background-color: #272822\">,</span><span style=\"background-color: #272822\">                                                                                               </span>  \n",
              "  <span style=\"color: #f8f8f2; text-decoration-color: #f8f8f2; background-color: #272822\">    </span><span style=\"color: #e6db74; text-decoration-color: #e6db74; background-color: #272822\">\"AI Superpowers: China, Silicon Valley, and New World Order by Kai-Fu Lee\"</span><span style=\"color: #f8f8f2; text-decoration-color: #f8f8f2; background-color: #272822\">,</span><span style=\"background-color: #272822\">                                </span>  \n",
              "  <span style=\"color: #f8f8f2; text-decoration-color: #f8f8f2; background-color: #272822\">    </span><span style=\"color: #e6db74; text-decoration-color: #e6db74; background-color: #272822\">\"Life 3. 0: Being Human in the Age of Artificial Intelligence by Max Tegmark\"</span><span style=\"color: #f8f8f2; text-decoration-color: #f8f8f2; background-color: #272822\">,</span><span style=\"background-color: #272822\">                             </span>  \n",
              "  <span style=\"color: #f8f8f2; text-decoration-color: #f8f8f2; background-color: #272822\">    </span><span style=\"color: #e6db74; text-decoration-color: #e6db74; background-color: #272822\">\"Artificial Intelligence for Business: A Practical Guide to Implementing AI in Your Organization by Tom </span><span style=\"background-color: #272822\">   </span>  \n",
              "  <span style=\"color: #e6db74; text-decoration-color: #e6db74; background-color: #272822\">Taulli\"</span><span style=\"color: #f8f8f2; text-decoration-color: #f8f8f2; background-color: #272822\">,</span><span style=\"background-color: #272822\">                                                                                                       </span>  \n",
              "  <span style=\"color: #f8f8f2; text-decoration-color: #f8f8f2; background-color: #272822\">    </span><span style=\"color: #e6db74; text-decoration-color: #e6db74; background-color: #272822\">\"Human + Machine: Reimagining Work in the Age of AI by Paul R. Daugherty and James Wilson\"</span><span style=\"color: #f8f8f2; text-decoration-color: #f8f8f2; background-color: #272822\">,</span><span style=\"background-color: #272822\">                </span>  \n",
              "  <span style=\"color: #f8f8f2; text-decoration-color: #f8f8f2; background-color: #272822\">    </span><span style=\"color: #e6db74; text-decoration-color: #e6db74; background-color: #272822\">\"AI in the Workplace: A Practical Guide to Implementing AI in Your Business by Kavita Ganesan\"</span><span style=\"color: #f8f8f2; text-decoration-color: #f8f8f2; background-color: #272822\">,</span><span style=\"background-color: #272822\">            </span>  \n",
              "  <span style=\"color: #f8f8f2; text-decoration-color: #f8f8f2; background-color: #272822\">    </span><span style=\"color: #e6db74; text-decoration-color: #e6db74; background-color: #272822\">\"The AI Advantage: How to Put Artificial Intelligence to Work for Your Business by James V. Demmel\"</span><span style=\"color: #f8f8f2; text-decoration-color: #f8f8f2; background-color: #272822\">,</span><span style=\"background-color: #272822\">       </span>  \n",
              "  <span style=\"color: #f8f8f2; text-decoration-color: #f8f8f2; background-color: #272822\">    </span><span style=\"color: #e6db74; text-decoration-color: #e6db74; background-color: #272822\">\"The Master Algorithm: How the Quest for the Ultimate Learning Machine Will Remake Our World by Pedro </span><span style=\"background-color: #272822\">     </span>  \n",
              "  <span style=\"color: #e6db74; text-decoration-color: #e6db74; background-color: #272822\">Domingos\"</span><span style=\"color: #f8f8f2; text-decoration-color: #f8f8f2; background-color: #272822\">,</span><span style=\"background-color: #272822\">                                                                                                     </span>  \n",
              "  <span style=\"color: #f8f8f2; text-decoration-color: #f8f8f2; background-color: #272822\">    </span><span style=\"color: #e6db74; text-decoration-color: #e6db74; background-color: #272822\">\"Artificial Intelligence: A Guide for Thinking Humans by Melanie Mitchell\"</span><span style=\"color: #f8f8f2; text-decoration-color: #f8f8f2; background-color: #272822\">,</span><span style=\"background-color: #272822\">                                </span>  \n",
              "  <span style=\"color: #f8f8f2; text-decoration-color: #f8f8f2; background-color: #272822\">    </span><span style=\"color: #e6db74; text-decoration-color: #e6db74; background-color: #272822\">\"AI Today: What Everyone Needs to Know by Melanie Mitchell\"</span><span style=\"background-color: #272822\">                                                </span>  \n",
              "  <span style=\"color: #f8f8f2; text-decoration-color: #f8f8f2; background-color: #272822\">]</span><span style=\"background-color: #272822\">                                                                                                              </span>  \n",
              "  <span style=\"background-color: #272822\">                                                                                                               </span>  \n",
              "  <span style=\"color: #959077; text-decoration-color: #959077; background-color: #272822\"># Printing the book titles</span><span style=\"background-color: #272822\">                                                                                     </span>  \n",
              "  <span style=\"color: #f8f8f2; text-decoration-color: #f8f8f2; background-color: #272822\">print(book_titles)</span><span style=\"background-color: #272822\">                                                                                             </span>  \n",
              " ───────────────────────────────────────────────────────────────────────────────────────────────────────────────── \n",
              "</pre>\n"
            ]
          },
          "metadata": {}
        },
        {
          "output_type": "display_data",
          "data": {
            "text/plain": [
              "\u001b[1mExecution logs:\u001b[0m\n",
              "[\"The Business Case for AI: A Leader's Guide to AI Strategies, Best Practices & Real-World Applications by Kavita \n",
              "Ganesan\", 'AI Superpowers: China, Silicon Valley, and New World Order by Kai-Fu Lee', 'Life 3. 0: Being Human in \n",
              "the Age of Artificial Intelligence by Max Tegmark', 'Artificial Intelligence for Business: A Practical Guide to \n",
              "Implementing AI in Your Organization by Tom Taulli', 'Human + Machine: Reimagining Work in the Age of AI by Paul R.\n",
              "Daugherty and James Wilson', 'AI in the Workplace: A Practical Guide to Implementing AI in Your Business by Kavita \n",
              "Ganesan', 'The AI Advantage: How to Put Artificial Intelligence to Work for Your Business by James V. Demmel', 'The\n",
              "Master Algorithm: How the Quest for the Ultimate Learning Machine Will Remake Our World by Pedro Domingos', \n",
              "'Artificial Intelligence: A Guide for Thinking Humans by Melanie Mitchell', 'AI Today: What Everyone Needs to Know \n",
              "by Melanie Mitchell']\n",
              "\n",
              "Out: None\n"
            ],
            "text/html": [
              "<pre style=\"white-space:pre;overflow-x:auto;line-height:normal;font-family:Menlo,'DejaVu Sans Mono',consolas,'Courier New',monospace\"><span style=\"font-weight: bold\">Execution logs:</span>\n",
              "[\"The Business Case for AI: A Leader's Guide to AI Strategies, Best Practices &amp; Real-World Applications by Kavita \n",
              "Ganesan\", 'AI Superpowers: China, Silicon Valley, and New World Order by Kai-Fu Lee', 'Life 3. 0: Being Human in \n",
              "the Age of Artificial Intelligence by Max Tegmark', 'Artificial Intelligence for Business: A Practical Guide to \n",
              "Implementing AI in Your Organization by Tom Taulli', 'Human + Machine: Reimagining Work in the Age of AI by Paul R.\n",
              "Daugherty and James Wilson', 'AI in the Workplace: A Practical Guide to Implementing AI in Your Business by Kavita \n",
              "Ganesan', 'The AI Advantage: How to Put Artificial Intelligence to Work for Your Business by James V. Demmel', 'The\n",
              "Master Algorithm: How the Quest for the Ultimate Learning Machine Will Remake Our World by Pedro Domingos', \n",
              "'Artificial Intelligence: A Guide for Thinking Humans by Melanie Mitchell', 'AI Today: What Everyone Needs to Know \n",
              "by Melanie Mitchell']\n",
              "\n",
              "Out: None\n",
              "</pre>\n"
            ]
          },
          "metadata": {}
        },
        {
          "output_type": "display_data",
          "data": {
            "text/plain": [
              "\u001b[2m[Step 2: Duration 7.62 seconds| Input tokens: 4,948 | Output tokens: 661]\u001b[0m\n"
            ],
            "text/html": [
              "<pre style=\"white-space:pre;overflow-x:auto;line-height:normal;font-family:Menlo,'DejaVu Sans Mono',consolas,'Courier New',monospace\"><span style=\"color: #7f7f7f; text-decoration-color: #7f7f7f\">[Step 2: Duration 7.62 seconds| Input tokens: 4,948 | Output tokens: 661]</span>\n",
              "</pre>\n"
            ]
          },
          "metadata": {}
        },
        {
          "output_type": "display_data",
          "data": {
            "text/plain": [
              "\u001b[38;2;212;183;2m━━━━━━━━━━━━━━━━━━━━━━━━━━━━━━━━━━━━━━━━━━━━━━━━━━━━━ \u001b[0m\u001b[1mStep \u001b[0m\u001b[1;36m3\u001b[0m\u001b[38;2;212;183;2m ━━━━━━━━━━━━━━━━━━━━━━━━━━━━━━━━━━━━━━━━━━━━━━━━━━━━━━\u001b[0m\n"
            ],
            "text/html": [
              "<pre style=\"white-space:pre;overflow-x:auto;line-height:normal;font-family:Menlo,'DejaVu Sans Mono',consolas,'Courier New',monospace\"><span style=\"color: #d4b702; text-decoration-color: #d4b702\">━━━━━━━━━━━━━━━━━━━━━━━━━━━━━━━━━━━━━━━━━━━━━━━━━━━━━ </span><span style=\"font-weight: bold\">Step </span><span style=\"color: #008080; text-decoration-color: #008080; font-weight: bold\">3</span><span style=\"color: #d4b702; text-decoration-color: #d4b702\"> ━━━━━━━━━━━━━━━━━━━━━━━━━━━━━━━━━━━━━━━━━━━━━━━━━━━━━━</span>\n",
              "</pre>\n"
            ]
          },
          "metadata": {}
        },
        {
          "output_type": "display_data",
          "data": {
            "text/plain": [
              " ─ \u001b[1mExecuting parsed code:\u001b[0m ──────────────────────────────────────────────────────────────────────────────────────── \n",
              "  \u001b[38;2;248;248;242;48;2;39;40;34mfinal_answer\u001b[0m\u001b[38;2;248;248;242;48;2;39;40;34m(\u001b[0m\u001b[38;2;248;248;242;48;2;39;40;34mbook_titles\u001b[0m\u001b[38;2;248;248;242;48;2;39;40;34m)\u001b[0m\u001b[48;2;39;40;34m                                                                                      \u001b[0m  \n",
              " ───────────────────────────────────────────────────────────────────────────────────────────────────────────────── \n"
            ],
            "text/html": [
              "<pre style=\"white-space:pre;overflow-x:auto;line-height:normal;font-family:Menlo,'DejaVu Sans Mono',consolas,'Courier New',monospace\"> ─ <span style=\"font-weight: bold\">Executing parsed code:</span> ──────────────────────────────────────────────────────────────────────────────────────── \n",
              "  <span style=\"color: #f8f8f2; text-decoration-color: #f8f8f2; background-color: #272822\">final_answer(book_titles)</span><span style=\"background-color: #272822\">                                                                                      </span>  \n",
              " ───────────────────────────────────────────────────────────────────────────────────────────────────────────────── \n",
              "</pre>\n"
            ]
          },
          "metadata": {}
        },
        {
          "output_type": "display_data",
          "data": {
            "text/plain": [
              "\u001b[1;38;2;212;183;2mOut - Final answer: [\"The Business Case for AI: A Leader's Guide to AI Strategies, Best Practices & Real-World \u001b[0m\n",
              "\u001b[1;38;2;212;183;2mApplications by Kavita Ganesan\", 'AI Superpowers: China, Silicon Valley, and New World Order by Kai-Fu Lee', 'Life \u001b[0m\n",
              "\u001b[1;38;2;212;183;2m3. 0: Being Human in the Age of Artificial Intelligence by Max Tegmark', 'Artificial Intelligence for Business: A \u001b[0m\n",
              "\u001b[1;38;2;212;183;2mPractical Guide to Implementing AI in Your Organization by Tom Taulli', 'Human + Machine: Reimagining Work in the \u001b[0m\n",
              "\u001b[1;38;2;212;183;2mAge of AI by Paul R. Daugherty and James Wilson', 'AI in the Workplace: A Practical Guide to Implementing AI in \u001b[0m\n",
              "\u001b[1;38;2;212;183;2mYour Business by Kavita Ganesan', 'The AI Advantage: How to Put Artificial Intelligence to Work for Your Business \u001b[0m\n",
              "\u001b[1;38;2;212;183;2mby James V. Demmel', 'The Master Algorithm: How the Quest for the Ultimate Learning Machine Will Remake Our World \u001b[0m\n",
              "\u001b[1;38;2;212;183;2mby Pedro Domingos', 'Artificial Intelligence: A Guide for Thinking Humans by Melanie Mitchell', 'AI Today: What \u001b[0m\n",
              "\u001b[1;38;2;212;183;2mEveryone Needs to Know by Melanie Mitchell']\u001b[0m\n"
            ],
            "text/html": [
              "<pre style=\"white-space:pre;overflow-x:auto;line-height:normal;font-family:Menlo,'DejaVu Sans Mono',consolas,'Courier New',monospace\"><span style=\"color: #d4b702; text-decoration-color: #d4b702; font-weight: bold\">Out - Final answer: [\"The Business Case for AI: A Leader's Guide to AI Strategies, Best Practices &amp; Real-World </span>\n",
              "<span style=\"color: #d4b702; text-decoration-color: #d4b702; font-weight: bold\">Applications by Kavita Ganesan\", 'AI Superpowers: China, Silicon Valley, and New World Order by Kai-Fu Lee', 'Life </span>\n",
              "<span style=\"color: #d4b702; text-decoration-color: #d4b702; font-weight: bold\">3. 0: Being Human in the Age of Artificial Intelligence by Max Tegmark', 'Artificial Intelligence for Business: A </span>\n",
              "<span style=\"color: #d4b702; text-decoration-color: #d4b702; font-weight: bold\">Practical Guide to Implementing AI in Your Organization by Tom Taulli', 'Human + Machine: Reimagining Work in the </span>\n",
              "<span style=\"color: #d4b702; text-decoration-color: #d4b702; font-weight: bold\">Age of AI by Paul R. Daugherty and James Wilson', 'AI in the Workplace: A Practical Guide to Implementing AI in </span>\n",
              "<span style=\"color: #d4b702; text-decoration-color: #d4b702; font-weight: bold\">Your Business by Kavita Ganesan', 'The AI Advantage: How to Put Artificial Intelligence to Work for Your Business </span>\n",
              "<span style=\"color: #d4b702; text-decoration-color: #d4b702; font-weight: bold\">by James V. Demmel', 'The Master Algorithm: How the Quest for the Ultimate Learning Machine Will Remake Our World </span>\n",
              "<span style=\"color: #d4b702; text-decoration-color: #d4b702; font-weight: bold\">by Pedro Domingos', 'Artificial Intelligence: A Guide for Thinking Humans by Melanie Mitchell', 'AI Today: What </span>\n",
              "<span style=\"color: #d4b702; text-decoration-color: #d4b702; font-weight: bold\">Everyone Needs to Know by Melanie Mitchell']</span>\n",
              "</pre>\n"
            ]
          },
          "metadata": {}
        },
        {
          "output_type": "display_data",
          "data": {
            "text/plain": [
              "\u001b[2m[Step 3: Duration 0.95 seconds| Input tokens: 9,032 | Output tokens: 700]\u001b[0m\n"
            ],
            "text/html": [
              "<pre style=\"white-space:pre;overflow-x:auto;line-height:normal;font-family:Menlo,'DejaVu Sans Mono',consolas,'Courier New',monospace\"><span style=\"color: #7f7f7f; text-decoration-color: #7f7f7f\">[Step 3: Duration 0.95 seconds| Input tokens: 9,032 | Output tokens: 700]</span>\n",
              "</pre>\n"
            ]
          },
          "metadata": {}
        },
        {
          "output_type": "execute_result",
          "data": {
            "text/plain": [
              "[\"The Business Case for AI: A Leader's Guide to AI Strategies, Best Practices & Real-World Applications by Kavita Ganesan\",\n",
              " 'AI Superpowers: China, Silicon Valley, and New World Order by Kai-Fu Lee',\n",
              " 'Life 3. 0: Being Human in the Age of Artificial Intelligence by Max Tegmark',\n",
              " 'Artificial Intelligence for Business: A Practical Guide to Implementing AI in Your Organization by Tom Taulli',\n",
              " 'Human + Machine: Reimagining Work in the Age of AI by Paul R. Daugherty and James Wilson',\n",
              " 'AI in the Workplace: A Practical Guide to Implementing AI in Your Business by Kavita Ganesan',\n",
              " 'The AI Advantage: How to Put Artificial Intelligence to Work for Your Business by James V. Demmel',\n",
              " 'The Master Algorithm: How the Quest for the Ultimate Learning Machine Will Remake Our World by Pedro Domingos',\n",
              " 'Artificial Intelligence: A Guide for Thinking Humans by Melanie Mitchell',\n",
              " 'AI Today: What Everyone Needs to Know by Melanie Mitchell']"
            ]
          },
          "metadata": {},
          "execution_count": 3
        }
      ],
      "source": [
        "\n",
        "from smolagents import CodeAgent, DuckDuckGoSearchTool, InferenceClientModel\n",
        "\n",
        "agent = CodeAgent(tools=[DuckDuckGoSearchTool()], model=InferenceClientModel(provider=\"together\"))\n",
        "\n",
        "agent.run(\"Search for the best book recommendations for implementing AI in the workplace.\")"
      ]
    },
    {
      "cell_type": "markdown",
      "source": [
        "Let's revisit the previous example, but this time we'll use a `ToolCallingAgent` to highlight the difference. We'll build an agent that can search the web using DuckDuckGo, just like in our Code Agent example. The only difference is the agent type - the framework handles everything else:"
      ],
      "metadata": {
        "id": "paCVH_LMaINX"
      }
    },
    {
      "cell_type": "code",
      "source": [
        "!pip install duckduckgo-search\n",
        "\n",
        "from smolagents import ToolCallingAgent, DuckDuckGoSearchTool, InferenceClientModel\n",
        "\n",
        "agent = ToolCallingAgent(tools=[DuckDuckGoSearchTool()], model=InferenceClientModel(provider = \"together\"))\n",
        "\n",
        "agent.run(\"Search for the best book recommendations for implementing AI in the workplace.\")"
      ],
      "metadata": {
        "colab": {
          "base_uri": "https://localhost:8080/",
          "height": 1000
        },
        "id": "9a5rbdY6aJkd",
        "outputId": "977d35da-2030-4603-95d9-92c78f7d25ef"
      },
      "execution_count": null,
      "outputs": [
        {
          "output_type": "stream",
          "name": "stdout",
          "text": [
            "Requirement already satisfied: duckduckgo-search in /usr/local/lib/python3.11/dist-packages (8.0.4)\n",
            "Requirement already satisfied: click>=8.1.8 in /usr/local/lib/python3.11/dist-packages (from duckduckgo-search) (8.2.1)\n",
            "Requirement already satisfied: primp>=0.15.0 in /usr/local/lib/python3.11/dist-packages (from duckduckgo-search) (0.15.0)\n",
            "Requirement already satisfied: lxml>=5.3.0 in /usr/local/lib/python3.11/dist-packages (from duckduckgo-search) (5.4.0)\n"
          ]
        },
        {
          "output_type": "display_data",
          "data": {
            "text/plain": [
              "\u001b[38;2;212;183;2m╭─\u001b[0m\u001b[38;2;212;183;2m───────────────────────────────────────────────────\u001b[0m\u001b[38;2;212;183;2m \u001b[0m\u001b[1;38;2;212;183;2mNew run\u001b[0m\u001b[38;2;212;183;2m \u001b[0m\u001b[38;2;212;183;2m───────────────────────────────────────────────────\u001b[0m\u001b[38;2;212;183;2m─╮\u001b[0m\n",
              "\u001b[38;2;212;183;2m│\u001b[0m                                                                                                                 \u001b[38;2;212;183;2m│\u001b[0m\n",
              "\u001b[38;2;212;183;2m│\u001b[0m \u001b[1mSearch for the best book recommendations for implementing AI in the workplace.\u001b[0m                                  \u001b[38;2;212;183;2m│\u001b[0m\n",
              "\u001b[38;2;212;183;2m│\u001b[0m                                                                                                                 \u001b[38;2;212;183;2m│\u001b[0m\n",
              "\u001b[38;2;212;183;2m╰─\u001b[0m\u001b[38;2;212;183;2m InferenceClientModel - Qwen/Qwen2.5-Coder-32B-Instruct \u001b[0m\u001b[38;2;212;183;2m───────────────────────────────────────────────────────\u001b[0m\u001b[38;2;212;183;2m─╯\u001b[0m\n"
            ],
            "text/html": [
              "<pre style=\"white-space:pre;overflow-x:auto;line-height:normal;font-family:Menlo,'DejaVu Sans Mono',consolas,'Courier New',monospace\"><span style=\"color: #d4b702; text-decoration-color: #d4b702\">╭──────────────────────────────────────────────────── </span><span style=\"color: #d4b702; text-decoration-color: #d4b702; font-weight: bold\">New run</span><span style=\"color: #d4b702; text-decoration-color: #d4b702\"> ────────────────────────────────────────────────────╮</span>\n",
              "<span style=\"color: #d4b702; text-decoration-color: #d4b702\">│</span>                                                                                                                 <span style=\"color: #d4b702; text-decoration-color: #d4b702\">│</span>\n",
              "<span style=\"color: #d4b702; text-decoration-color: #d4b702\">│</span> <span style=\"font-weight: bold\">Search for the best book recommendations for implementing AI in the workplace.</span>                                  <span style=\"color: #d4b702; text-decoration-color: #d4b702\">│</span>\n",
              "<span style=\"color: #d4b702; text-decoration-color: #d4b702\">│</span>                                                                                                                 <span style=\"color: #d4b702; text-decoration-color: #d4b702\">│</span>\n",
              "<span style=\"color: #d4b702; text-decoration-color: #d4b702\">╰─ InferenceClientModel - Qwen/Qwen2.5-Coder-32B-Instruct ────────────────────────────────────────────────────────╯</span>\n",
              "</pre>\n"
            ]
          },
          "metadata": {}
        },
        {
          "output_type": "display_data",
          "data": {
            "text/plain": [
              "\u001b[38;2;212;183;2m━━━━━━━━━━━━━━━━━━━━━━━━━━━━━━━━━━━━━━━━━━━━━━━━━━━━━ \u001b[0m\u001b[1mStep \u001b[0m\u001b[1;36m1\u001b[0m\u001b[38;2;212;183;2m ━━━━━━━━━━━━━━━━━━━━━━━━━━━━━━━━━━━━━━━━━━━━━━━━━━━━━━\u001b[0m\n"
            ],
            "text/html": [
              "<pre style=\"white-space:pre;overflow-x:auto;line-height:normal;font-family:Menlo,'DejaVu Sans Mono',consolas,'Courier New',monospace\"><span style=\"color: #d4b702; text-decoration-color: #d4b702\">━━━━━━━━━━━━━━━━━━━━━━━━━━━━━━━━━━━━━━━━━━━━━━━━━━━━━ </span><span style=\"font-weight: bold\">Step </span><span style=\"color: #008080; text-decoration-color: #008080; font-weight: bold\">1</span><span style=\"color: #d4b702; text-decoration-color: #d4b702\"> ━━━━━━━━━━━━━━━━━━━━━━━━━━━━━━━━━━━━━━━━━━━━━━━━━━━━━━</span>\n",
              "</pre>\n"
            ]
          },
          "metadata": {}
        },
        {
          "output_type": "display_data",
          "data": {
            "text/plain": [
              "╭─────────────────────────────────────────────────────────────────────────────────────────────────────────────────╮\n",
              "│ Calling tool: 'web_search' with arguments: {'query': 'best book recommendations for implementing AI in the      │\n",
              "│ workplace'}                                                                                                     │\n",
              "╰─────────────────────────────────────────────────────────────────────────────────────────────────────────────────╯\n"
            ],
            "text/html": [
              "<pre style=\"white-space:pre;overflow-x:auto;line-height:normal;font-family:Menlo,'DejaVu Sans Mono',consolas,'Courier New',monospace\">╭─────────────────────────────────────────────────────────────────────────────────────────────────────────────────╮\n",
              "│ Calling tool: 'web_search' with arguments: {'query': 'best book recommendations for implementing AI in the      │\n",
              "│ workplace'}                                                                                                     │\n",
              "╰─────────────────────────────────────────────────────────────────────────────────────────────────────────────────╯\n",
              "</pre>\n"
            ]
          },
          "metadata": {}
        },
        {
          "output_type": "display_data",
          "data": {
            "text/plain": [
              "Observations: ## Search Results\n",
              "\n",
              "|\u001b[1;36m6\u001b[0m Books on AI in the Workplace - Publishers \n",
              "Weekly\u001b[1m]\u001b[0m\u001b[1m(\u001b[0m\u001b[4;94mhttps://www.publishersweekly.com/pw/by-topic/new-titles/adult-announcements/article/95171-six-books-on-ai-i\u001b[0m\n",
              "\u001b[4;94mn-the-workplace.html\u001b[0m\u001b[4;94m)\u001b[0m\n",
              "Implementing AI practices in a workplace needs to be more than good for the bottom line: it should also be done \n",
              "carefully and thoughtfully, says Gambelin, who founded the AI Ethics advisory firm \u001b[33m...\u001b[0m\n",
              "\n",
              "|\u001b[1;36m10\u001b[0m Must-Read Books on AI Recommended by Thought \n",
              "Leaders\u001b[1m]\u001b[0m\u001b[1m(\u001b[0m\u001b[4;94mhttps://medium.com/@rpatech.ai/10-must-read-books-on-ai-recommended-by-thought-leaders-b3eaecb2bf43\u001b[0m\u001b[4;94m)\u001b[0m\n",
              "Here are some books on AI that are recommended by technology leaders like Lila Ibrahim, COO of Google DeepMind, Amy\n",
              "Webb, founder and CEO of Future Today Institute, and others.\n",
              "\n",
              "|What to read next: books on AI - McKinsey & \n",
              "Company\u001b[1m]\u001b[0m\u001b[1m(\u001b[0m\u001b[4;94mhttps://www.mckinsey.com/featured-insights/themes/what-to-read-next-books-on-ai\u001b[0m\u001b[4;94m)\u001b[0m\n",
              "Here are six books recommended by leaders, including McKinsey's Yuval Atsmon and Lareina Yee. For more suggestions \n",
              "from \u001b[1;36m50\u001b[0m-plus global executives, editors in chief, and McKinsey leaders, check out \u001b[32m\" What to read next: McKinsey's \u001b[0m\n",
              "\u001b[32m2024 annual book recommendations.\"\u001b[0m AI Needs You: How We Can Change AI's Future and Save Our Own by Verity \u001b[33m...\u001b[0m\n",
              "\n",
              "|The Best Books on Artificial Intelligence \u001b[1m(\u001b[0mAI\u001b[1m)\u001b[0m to Read in \u001b[1;36m2025\u001b[0m\u001b[1m]\u001b[0m\u001b[1m(\u001b[0m\u001b[4;94mhttps://www.qualtrics.com/blog/books-on-ai/\u001b[0m\u001b[4;94m)\u001b[0m\n",
              "Discover the top \u001b[1;36m10\u001b[0m best books on artificial intelligence that provide valuable insights and knowledge. Click \n",
              "though to genuinely gain a detailed understanding on AI.\n",
              "\n",
              "|\u001b[1;36m26\u001b[0m Best Books on AI in \u001b[1;36m2025\u001b[0m \u001b[1m(\u001b[0m\u001b[1;36m65\u001b[0m+ Reviewed\u001b[1m)\u001b[0m\u001b[1m]\u001b[0m\u001b[1m(\u001b[0m\u001b[4;94mhttps://usefulai.com/books\u001b[0m\u001b[4;94m)\u001b[0m\n",
              "Discover the top \u001b[1;36m26\u001b[0m AI books for \u001b[1;36m2025\u001b[0m, from technological advancements to ethical dilemmas. Over \u001b[1;36m65\u001b[0m books reviewed \n",
              "to guide you through the AI revolution.\n",
              "\n",
              "|\u001b[1;36m22\u001b[0m Best Books on AI and Machine Learning in \u001b[1;36m2025\u001b[0m \u001b[1m(\u001b[0mTop Rated\u001b[1m)\u001b[0m\u001b[1m]\u001b[0m\u001b[1m(\u001b[0m\u001b[4;94mhttps://aimojo.io/books-ai-and-machine-learning/\u001b[0m\u001b[4;94m)\u001b[0m\n",
              "Elevate your understanding of AI with our selection of the \u001b[1;36m22\u001b[0m best books on AI and Machine Learning for \u001b[1;36m2025\u001b[0m. \n",
              "Discover groundbreaking concepts and innovative techniques.\n",
              "\n",
              "|AI and the Future of Work: \u001b[1;36m7\u001b[0m Must-Read Books - Analytics \n",
              "Insight\u001b[1m]\u001b[0m\u001b[1m(\u001b[0m\u001b[4;94mhttps://www.analyticsinsight.net/ampstories/artificial-intelligence/ai-and-the-future-of-work-7-must-read-\u001b[0m\n",
              "\u001b[4;94mbooks\u001b[0m\u001b[4;94m)\u001b[0m\n",
              "Discover \u001b[1;36m7\u001b[0m essential books on AI's impact on work, offering insights and strategies to thrive in the evolving job \n",
              "landscape.\n",
              "\n",
              "|\u001b[1;36m4\u001b[0m Great Books on How to Implement AI in Business, Automation, and the \n",
              "\u001b[33m...\u001b[0m\u001b[1m]\u001b[0m\u001b[1m(\u001b[0m\u001b[4;94mhttps://globisinsights.com/future-of-work/books-on-how-to-implement-ai-in-business/\u001b[0m\u001b[4;94m)\u001b[0m\n",
              "GLOBIS University faculty discuss their favorite books on how to implement AI in business, automation, and the \n",
              "future of work.\n",
              "\n",
              "|\u001b[1;36m12\u001b[0m Best Books on Artificial Intelligence \u001b[1m(\u001b[0mAI\u001b[1m)\u001b[0m You Can't Miss\u001b[1m]\u001b[0m\u001b[1m(\u001b[0m\u001b[4;94mhttps://maven.com/articles/best-books-on-ai\u001b[0m\u001b[4;94m)\u001b[0m\n",
              "And if you already have a basic understanding of AI, work in artificial intelligence, or are in a line of work that\n",
              "may be affected by it, there's even more reason to stay on top of the field. Here's a list of AI book \n",
              "recommendations suitable for beginners, intermediates, and experts.\n",
              "\n",
              "|Empower Your Business with Artificial Intelligence: \u001b[1;36m10\u001b[0m Books Every \n",
              "\u001b[33m...\u001b[0m\u001b[1m]\u001b[0m\u001b[1m(\u001b[0m\u001b[4;94mhttps://www.gend.co/blog/empower-your-business-with-artificial-intelligence-top-10-books-every-business-leader\u001b[0m\n",
              "\u001b[4;94m-should-read\u001b[0m\u001b[4;94m)\u001b[0m\n",
              "From understanding AI fundamentals to implementing AI initiatives and navigating ethical considerations, these \n",
              "books offer valuable guidance and inspiration for business leaders on their AI journey. So don't wait - dive into \n",
              "these AI books today and unlock the transformative potential of artificial intelligence for your business.\n"
            ],
            "text/html": [
              "<pre style=\"white-space:pre;overflow-x:auto;line-height:normal;font-family:Menlo,'DejaVu Sans Mono',consolas,'Courier New',monospace\">Observations: ## Search Results\n",
              "\n",
              "|<span style=\"color: #008080; text-decoration-color: #008080; font-weight: bold\">6</span> Books on AI in the Workplace - Publishers \n",
              "Weekly<span style=\"font-weight: bold\">](</span><span style=\"color: #0000ff; text-decoration-color: #0000ff; text-decoration: underline\">https://www.publishersweekly.com/pw/by-topic/new-titles/adult-announcements/article/95171-six-books-on-ai-i</span>\n",
              "<span style=\"color: #0000ff; text-decoration-color: #0000ff; text-decoration: underline\">n-the-workplace.html)</span>\n",
              "Implementing AI practices in a workplace needs to be more than good for the bottom line: it should also be done \n",
              "carefully and thoughtfully, says Gambelin, who founded the AI Ethics advisory firm <span style=\"color: #808000; text-decoration-color: #808000\">...</span>\n",
              "\n",
              "|<span style=\"color: #008080; text-decoration-color: #008080; font-weight: bold\">10</span> Must-Read Books on AI Recommended by Thought \n",
              "Leaders<span style=\"font-weight: bold\">](</span><span style=\"color: #0000ff; text-decoration-color: #0000ff; text-decoration: underline\">https://medium.com/@rpatech.ai/10-must-read-books-on-ai-recommended-by-thought-leaders-b3eaecb2bf43)</span>\n",
              "Here are some books on AI that are recommended by technology leaders like Lila Ibrahim, COO of Google DeepMind, Amy\n",
              "Webb, founder and CEO of Future Today Institute, and others.\n",
              "\n",
              "|What to read next: books on AI - McKinsey &amp; \n",
              "Company<span style=\"font-weight: bold\">](</span><span style=\"color: #0000ff; text-decoration-color: #0000ff; text-decoration: underline\">https://www.mckinsey.com/featured-insights/themes/what-to-read-next-books-on-ai)</span>\n",
              "Here are six books recommended by leaders, including McKinsey's Yuval Atsmon and Lareina Yee. For more suggestions \n",
              "from <span style=\"color: #008080; text-decoration-color: #008080; font-weight: bold\">50</span>-plus global executives, editors in chief, and McKinsey leaders, check out <span style=\"color: #008000; text-decoration-color: #008000\">\" What to read next: McKinsey's </span>\n",
              "<span style=\"color: #008000; text-decoration-color: #008000\">2024 annual book recommendations.\"</span> AI Needs You: How We Can Change AI's Future and Save Our Own by Verity <span style=\"color: #808000; text-decoration-color: #808000\">...</span>\n",
              "\n",
              "|The Best Books on Artificial Intelligence <span style=\"font-weight: bold\">(</span>AI<span style=\"font-weight: bold\">)</span> to Read in <span style=\"color: #008080; text-decoration-color: #008080; font-weight: bold\">2025</span><span style=\"font-weight: bold\">](</span><span style=\"color: #0000ff; text-decoration-color: #0000ff; text-decoration: underline\">https://www.qualtrics.com/blog/books-on-ai/)</span>\n",
              "Discover the top <span style=\"color: #008080; text-decoration-color: #008080; font-weight: bold\">10</span> best books on artificial intelligence that provide valuable insights and knowledge. Click \n",
              "though to genuinely gain a detailed understanding on AI.\n",
              "\n",
              "|<span style=\"color: #008080; text-decoration-color: #008080; font-weight: bold\">26</span> Best Books on AI in <span style=\"color: #008080; text-decoration-color: #008080; font-weight: bold\">2025</span> <span style=\"font-weight: bold\">(</span><span style=\"color: #008080; text-decoration-color: #008080; font-weight: bold\">65</span>+ Reviewed<span style=\"font-weight: bold\">)](</span><span style=\"color: #0000ff; text-decoration-color: #0000ff; text-decoration: underline\">https://usefulai.com/books)</span>\n",
              "Discover the top <span style=\"color: #008080; text-decoration-color: #008080; font-weight: bold\">26</span> AI books for <span style=\"color: #008080; text-decoration-color: #008080; font-weight: bold\">2025</span>, from technological advancements to ethical dilemmas. Over <span style=\"color: #008080; text-decoration-color: #008080; font-weight: bold\">65</span> books reviewed \n",
              "to guide you through the AI revolution.\n",
              "\n",
              "|<span style=\"color: #008080; text-decoration-color: #008080; font-weight: bold\">22</span> Best Books on AI and Machine Learning in <span style=\"color: #008080; text-decoration-color: #008080; font-weight: bold\">2025</span> <span style=\"font-weight: bold\">(</span>Top Rated<span style=\"font-weight: bold\">)](</span><span style=\"color: #0000ff; text-decoration-color: #0000ff; text-decoration: underline\">https://aimojo.io/books-ai-and-machine-learning/)</span>\n",
              "Elevate your understanding of AI with our selection of the <span style=\"color: #008080; text-decoration-color: #008080; font-weight: bold\">22</span> best books on AI and Machine Learning for <span style=\"color: #008080; text-decoration-color: #008080; font-weight: bold\">2025</span>. \n",
              "Discover groundbreaking concepts and innovative techniques.\n",
              "\n",
              "|AI and the Future of Work: <span style=\"color: #008080; text-decoration-color: #008080; font-weight: bold\">7</span> Must-Read Books - Analytics \n",
              "Insight<span style=\"font-weight: bold\">](</span><span style=\"color: #0000ff; text-decoration-color: #0000ff; text-decoration: underline\">https://www.analyticsinsight.net/ampstories/artificial-intelligence/ai-and-the-future-of-work-7-must-read-</span>\n",
              "<span style=\"color: #0000ff; text-decoration-color: #0000ff; text-decoration: underline\">books)</span>\n",
              "Discover <span style=\"color: #008080; text-decoration-color: #008080; font-weight: bold\">7</span> essential books on AI's impact on work, offering insights and strategies to thrive in the evolving job \n",
              "landscape.\n",
              "\n",
              "|<span style=\"color: #008080; text-decoration-color: #008080; font-weight: bold\">4</span> Great Books on How to Implement AI in Business, Automation, and the \n",
              "<span style=\"color: #808000; text-decoration-color: #808000\">...</span><span style=\"font-weight: bold\">](</span><span style=\"color: #0000ff; text-decoration-color: #0000ff; text-decoration: underline\">https://globisinsights.com/future-of-work/books-on-how-to-implement-ai-in-business/)</span>\n",
              "GLOBIS University faculty discuss their favorite books on how to implement AI in business, automation, and the \n",
              "future of work.\n",
              "\n",
              "|<span style=\"color: #008080; text-decoration-color: #008080; font-weight: bold\">12</span> Best Books on Artificial Intelligence <span style=\"font-weight: bold\">(</span>AI<span style=\"font-weight: bold\">)</span> You Can't Miss<span style=\"font-weight: bold\">](</span><span style=\"color: #0000ff; text-decoration-color: #0000ff; text-decoration: underline\">https://maven.com/articles/best-books-on-ai)</span>\n",
              "And if you already have a basic understanding of AI, work in artificial intelligence, or are in a line of work that\n",
              "may be affected by it, there's even more reason to stay on top of the field. Here's a list of AI book \n",
              "recommendations suitable for beginners, intermediates, and experts.\n",
              "\n",
              "|Empower Your Business with Artificial Intelligence: <span style=\"color: #008080; text-decoration-color: #008080; font-weight: bold\">10</span> Books Every \n",
              "<span style=\"color: #808000; text-decoration-color: #808000\">...</span><span style=\"font-weight: bold\">](</span><span style=\"color: #0000ff; text-decoration-color: #0000ff; text-decoration: underline\">https://www.gend.co/blog/empower-your-business-with-artificial-intelligence-top-10-books-every-business-leader</span>\n",
              "<span style=\"color: #0000ff; text-decoration-color: #0000ff; text-decoration: underline\">-should-read)</span>\n",
              "From understanding AI fundamentals to implementing AI initiatives and navigating ethical considerations, these \n",
              "books offer valuable guidance and inspiration for business leaders on their AI journey. So don't wait - dive into \n",
              "these AI books today and unlock the transformative potential of artificial intelligence for your business.\n",
              "</pre>\n"
            ]
          },
          "metadata": {}
        },
        {
          "output_type": "display_data",
          "data": {
            "text/plain": [
              "\u001b[2m[Step 1: Duration 1.36 seconds| Input tokens: 1,188 | Output tokens: 31]\u001b[0m\n"
            ],
            "text/html": [
              "<pre style=\"white-space:pre;overflow-x:auto;line-height:normal;font-family:Menlo,'DejaVu Sans Mono',consolas,'Courier New',monospace\"><span style=\"color: #7f7f7f; text-decoration-color: #7f7f7f\">[Step 1: Duration 1.36 seconds| Input tokens: 1,188 | Output tokens: 31]</span>\n",
              "</pre>\n"
            ]
          },
          "metadata": {}
        },
        {
          "output_type": "display_data",
          "data": {
            "text/plain": [
              "\u001b[38;2;212;183;2m━━━━━━━━━━━━━━━━━━━━━━━━━━━━━━━━━━━━━━━━━━━━━━━━━━━━━ \u001b[0m\u001b[1mStep \u001b[0m\u001b[1;36m2\u001b[0m\u001b[38;2;212;183;2m ━━━━━━━━━━━━━━━━━━━━━━━━━━━━━━━━━━━━━━━━━━━━━━━━━━━━━━\u001b[0m\n"
            ],
            "text/html": [
              "<pre style=\"white-space:pre;overflow-x:auto;line-height:normal;font-family:Menlo,'DejaVu Sans Mono',consolas,'Courier New',monospace\"><span style=\"color: #d4b702; text-decoration-color: #d4b702\">━━━━━━━━━━━━━━━━━━━━━━━━━━━━━━━━━━━━━━━━━━━━━━━━━━━━━ </span><span style=\"font-weight: bold\">Step </span><span style=\"color: #008080; text-decoration-color: #008080; font-weight: bold\">2</span><span style=\"color: #d4b702; text-decoration-color: #d4b702\"> ━━━━━━━━━━━━━━━━━━━━━━━━━━━━━━━━━━━━━━━━━━━━━━━━━━━━━━</span>\n",
              "</pre>\n"
            ]
          },
          "metadata": {}
        },
        {
          "output_type": "display_data",
          "data": {
            "text/plain": [
              "╭─────────────────────────────────────────────────────────────────────────────────────────────────────────────────╮\n",
              "│ Calling tool: 'final_answer' with arguments: Top book recommendations for implementing AI in the workplace      │\n",
              "│ include 'AI Needs You: How We Can Change AI's Future and Save Our Own' by Verity Harding, 'AI Superpowers:      │\n",
              "│ China, Silicon Valley, and New World Order' by Kai-Fu Lee, 'Life 3. 0: Being Human in the Age of Artificial     │\n",
              "│ Intelligence' by Max Tegmark, 'Artificial Intelligence for Business: A Practical Guide' by Tom Taulli, 'The AI  │\n",
              "│ Advantage: How to Put the Artificial Intelligence Revolution to Work' by James Manyika, Sangeet Paul Choudary,  │\n",
              "│ and Michael Chui, 'Human + Machine: Reimagining Work in the Age of AI' by Paul R. Daugherty and H. James        │\n",
              "│ Wilson, 'AI in Business: A Guide for Managers and Leaders' by Michael Chui, James Manyika, and Mehdi Miremadi,  │\n",
              "│ 'The Future of Work: How the New World of Artificial Intelligence Will Change Us' by Martin Ford, 'AI for       │\n",
              "│ Everyone' by Andrew Ng, and 'The Master Algorithm: How the Quest for the Ultimate Learning Machine Will Remake  │\n",
              "│ Our World' by Pedro Domingos.                                                                                   │\n",
              "╰─────────────────────────────────────────────────────────────────────────────────────────────────────────────────╯\n"
            ],
            "text/html": [
              "<pre style=\"white-space:pre;overflow-x:auto;line-height:normal;font-family:Menlo,'DejaVu Sans Mono',consolas,'Courier New',monospace\">╭─────────────────────────────────────────────────────────────────────────────────────────────────────────────────╮\n",
              "│ Calling tool: 'final_answer' with arguments: Top book recommendations for implementing AI in the workplace      │\n",
              "│ include 'AI Needs You: How We Can Change AI's Future and Save Our Own' by Verity Harding, 'AI Superpowers:      │\n",
              "│ China, Silicon Valley, and New World Order' by Kai-Fu Lee, 'Life 3. 0: Being Human in the Age of Artificial     │\n",
              "│ Intelligence' by Max Tegmark, 'Artificial Intelligence for Business: A Practical Guide' by Tom Taulli, 'The AI  │\n",
              "│ Advantage: How to Put the Artificial Intelligence Revolution to Work' by James Manyika, Sangeet Paul Choudary,  │\n",
              "│ and Michael Chui, 'Human + Machine: Reimagining Work in the Age of AI' by Paul R. Daugherty and H. James        │\n",
              "│ Wilson, 'AI in Business: A Guide for Managers and Leaders' by Michael Chui, James Manyika, and Mehdi Miremadi,  │\n",
              "│ 'The Future of Work: How the New World of Artificial Intelligence Will Change Us' by Martin Ford, 'AI for       │\n",
              "│ Everyone' by Andrew Ng, and 'The Master Algorithm: How the Quest for the Ultimate Learning Machine Will Remake  │\n",
              "│ Our World' by Pedro Domingos.                                                                                   │\n",
              "╰─────────────────────────────────────────────────────────────────────────────────────────────────────────────────╯\n",
              "</pre>\n"
            ]
          },
          "metadata": {}
        },
        {
          "output_type": "display_data",
          "data": {
            "text/plain": [
              "\u001b[1;38;2;212;183;2mFinal answer: Top book recommendations for implementing AI in the workplace include 'AI Needs You: How We Can \u001b[0m\n",
              "\u001b[1;38;2;212;183;2mChange AI's Future and Save Our Own' by Verity Harding, 'AI Superpowers: China, Silicon Valley, and New World \u001b[0m\n",
              "\u001b[1;38;2;212;183;2mOrder' by Kai-Fu Lee, 'Life 3. 0: Being Human in the Age of Artificial Intelligence' by Max Tegmark, 'Artificial \u001b[0m\n",
              "\u001b[1;38;2;212;183;2mIntelligence for Business: A Practical Guide' by Tom Taulli, 'The AI Advantage: How to Put the Artificial \u001b[0m\n",
              "\u001b[1;38;2;212;183;2mIntelligence Revolution to Work' by James Manyika, Sangeet Paul Choudary, and Michael Chui, 'Human + Machine: \u001b[0m\n",
              "\u001b[1;38;2;212;183;2mReimagining Work in the Age of AI' by Paul R. Daugherty and H. James Wilson, 'AI in Business: A Guide for Managers \u001b[0m\n",
              "\u001b[1;38;2;212;183;2mand Leaders' by Michael Chui, James Manyika, and Mehdi Miremadi, 'The Future of Work: How the New World of \u001b[0m\n",
              "\u001b[1;38;2;212;183;2mArtificial Intelligence Will Change Us' by Martin Ford, 'AI for Everyone' by Andrew Ng, and 'The Master Algorithm: \u001b[0m\n",
              "\u001b[1;38;2;212;183;2mHow the Quest for the Ultimate Learning Machine Will Remake Our World' by Pedro Domingos.\u001b[0m\n"
            ],
            "text/html": [
              "<pre style=\"white-space:pre;overflow-x:auto;line-height:normal;font-family:Menlo,'DejaVu Sans Mono',consolas,'Courier New',monospace\"><span style=\"color: #d4b702; text-decoration-color: #d4b702; font-weight: bold\">Final answer: Top book recommendations for implementing AI in the workplace include 'AI Needs You: How We Can </span>\n",
              "<span style=\"color: #d4b702; text-decoration-color: #d4b702; font-weight: bold\">Change AI's Future and Save Our Own' by Verity Harding, 'AI Superpowers: China, Silicon Valley, and New World </span>\n",
              "<span style=\"color: #d4b702; text-decoration-color: #d4b702; font-weight: bold\">Order' by Kai-Fu Lee, 'Life 3. 0: Being Human in the Age of Artificial Intelligence' by Max Tegmark, 'Artificial </span>\n",
              "<span style=\"color: #d4b702; text-decoration-color: #d4b702; font-weight: bold\">Intelligence for Business: A Practical Guide' by Tom Taulli, 'The AI Advantage: How to Put the Artificial </span>\n",
              "<span style=\"color: #d4b702; text-decoration-color: #d4b702; font-weight: bold\">Intelligence Revolution to Work' by James Manyika, Sangeet Paul Choudary, and Michael Chui, 'Human + Machine: </span>\n",
              "<span style=\"color: #d4b702; text-decoration-color: #d4b702; font-weight: bold\">Reimagining Work in the Age of AI' by Paul R. Daugherty and H. James Wilson, 'AI in Business: A Guide for Managers </span>\n",
              "<span style=\"color: #d4b702; text-decoration-color: #d4b702; font-weight: bold\">and Leaders' by Michael Chui, James Manyika, and Mehdi Miremadi, 'The Future of Work: How the New World of </span>\n",
              "<span style=\"color: #d4b702; text-decoration-color: #d4b702; font-weight: bold\">Artificial Intelligence Will Change Us' by Martin Ford, 'AI for Everyone' by Andrew Ng, and 'The Master Algorithm: </span>\n",
              "<span style=\"color: #d4b702; text-decoration-color: #d4b702; font-weight: bold\">How the Quest for the Ultimate Learning Machine Will Remake Our World' by Pedro Domingos.</span>\n",
              "</pre>\n"
            ]
          },
          "metadata": {}
        },
        {
          "output_type": "display_data",
          "data": {
            "text/plain": [
              "\u001b[2m[Step 2: Duration 8.64 seconds| Input tokens: 3,294 | Output tokens: 738]\u001b[0m\n"
            ],
            "text/html": [
              "<pre style=\"white-space:pre;overflow-x:auto;line-height:normal;font-family:Menlo,'DejaVu Sans Mono',consolas,'Courier New',monospace\"><span style=\"color: #7f7f7f; text-decoration-color: #7f7f7f\">[Step 2: Duration 8.64 seconds| Input tokens: 3,294 | Output tokens: 738]</span>\n",
              "</pre>\n"
            ]
          },
          "metadata": {}
        },
        {
          "output_type": "execute_result",
          "data": {
            "text/plain": [
              "\"Top book recommendations for implementing AI in the workplace include 'AI Needs You: How We Can Change AI's Future and Save Our Own' by Verity Harding, 'AI Superpowers: China, Silicon Valley, and New World Order' by Kai-Fu Lee, 'Life 3. 0: Being Human in the Age of Artificial Intelligence' by Max Tegmark, 'Artificial Intelligence for Business: A Practical Guide' by Tom Taulli, 'The AI Advantage: How to Put the Artificial Intelligence Revolution to Work' by James Manyika, Sangeet Paul Choudary, and Michael Chui, 'Human + Machine: Reimagining Work in the Age of AI' by Paul R. Daugherty and H. James Wilson, 'AI in Business: A Guide for Managers and Leaders' by Michael Chui, James Manyika, and Mehdi Miremadi, 'The Future of Work: How the New World of Artificial Intelligence Will Change Us' by Martin Ford, 'AI for Everyone' by Andrew Ng, and 'The Master Algorithm: How the Quest for the Ultimate Learning Machine Will Remake Our World' by Pedro Domingos.\""
            ],
            "application/vnd.google.colaboratory.intrinsic+json": {
              "type": "string"
            }
          },
          "metadata": {},
          "execution_count": 4
        }
      ]
    },
    {
      "cell_type": "markdown",
      "source": [
        "\n",
        "When you examine the agent's trace, instead of seeing `Executing parsed code:`, you'll see something like:\n",
        "\n",
        "```text\n",
        "╭─────────────────────────────────────────────────────────────────────────────────────────────────────────────────╮\n",
        "│ Calling tool: 'web_search' with arguments: {'query': \"best music recommendations for a party at Wayne's         │\n",
        "│ mansion\"}                                                                                                       │\n",
        "╰─────────────────────────────────────────────────────────────────────────────────────────────────────────────────╯\n",
        "```  \n",
        "\n",
        "The agent generates a structured tool call that the system processes to produce the output, rather than directly executing code like a `CodeAgent`.\n",
        "\n",
        "Now that we understand both agent types, we can choose the right one for our needs. Let's continue exploring `smolagents` to make Alfred's party a success! 🎉"
      ],
      "metadata": {
        "id": "jBQsE702aMFL"
      }
    },
    {
      "cell_type": "markdown",
      "metadata": {
        "id": "wxWcQqkYl1Pm"
      },
      "source": [
        "### Inspecting Our Agent with OpenTelemetry and Langfuse 📡\n",
        "\n",
        "Agents, by nature, are unpredictable and difficult to inspect.\n",
        "\n",
        "Once again, `smolagents` comes to the rescue! It embraces the [OpenTelemetry](https://opentelemetry.io/) standard for instrumenting agent runs, allowing seamless inspection and logging. With the help of [Langfuse](https://langfuse.com/) and the `SmolagentsInstrumentor`, we can easily track and analyze the agent’s behavior.  \n",
        "\n",
        "Setting it up is straightforward!  \n",
        "\n",
        "First, we need to install the necessary dependencies:  "
      ]
    },
    {
      "cell_type": "code",
      "execution_count": null,
      "metadata": {
        "id": "CTtNDFOMl3BM",
        "colab": {
          "base_uri": "https://localhost:8080/"
        },
        "outputId": "6835e15d-31bf-41f8-cb1b-2e724c64d3b3"
      },
      "outputs": [
        {
          "output_type": "stream",
          "name": "stdout",
          "text": [
            "Collecting opentelemetry-sdk\n",
            "  Downloading opentelemetry_sdk-1.34.1-py3-none-any.whl.metadata (1.6 kB)\n",
            "Collecting opentelemetry-exporter-otlp\n",
            "  Downloading opentelemetry_exporter_otlp-1.34.1-py3-none-any.whl.metadata (2.4 kB)\n",
            "Collecting openinference-instrumentation-smolagents\n",
            "  Downloading openinference_instrumentation_smolagents-0.1.13-py3-none-any.whl.metadata (4.5 kB)\n",
            "Requirement already satisfied: smolagents[telemetry] in /usr/local/lib/python3.11/dist-packages (1.19.0)\n",
            "Requirement already satisfied: huggingface-hub>=0.31.2 in /usr/local/lib/python3.11/dist-packages (from smolagents[telemetry]) (0.33.0)\n",
            "Requirement already satisfied: requests>=2.32.3 in /usr/local/lib/python3.11/dist-packages (from smolagents[telemetry]) (2.32.3)\n",
            "Requirement already satisfied: rich>=13.9.4 in /usr/local/lib/python3.11/dist-packages (from smolagents[telemetry]) (13.9.4)\n",
            "Requirement already satisfied: jinja2>=3.1.4 in /usr/local/lib/python3.11/dist-packages (from smolagents[telemetry]) (3.1.6)\n",
            "Requirement already satisfied: pillow>=10.0.1 in /usr/local/lib/python3.11/dist-packages (from smolagents[telemetry]) (11.2.1)\n",
            "Requirement already satisfied: python-dotenv in /usr/local/lib/python3.11/dist-packages (from smolagents[telemetry]) (1.1.1)\n",
            "Collecting arize-phoenix (from smolagents[telemetry])\n",
            "  Downloading arize_phoenix-11.0.0-py3-none-any.whl.metadata (27 kB)\n",
            "Collecting opentelemetry-api==1.34.1 (from opentelemetry-sdk)\n",
            "  Downloading opentelemetry_api-1.34.1-py3-none-any.whl.metadata (1.5 kB)\n",
            "Collecting opentelemetry-semantic-conventions==0.55b1 (from opentelemetry-sdk)\n",
            "  Downloading opentelemetry_semantic_conventions-0.55b1-py3-none-any.whl.metadata (2.5 kB)\n",
            "Requirement already satisfied: typing-extensions>=4.5.0 in /usr/local/lib/python3.11/dist-packages (from opentelemetry-sdk) (4.14.0)\n",
            "Requirement already satisfied: importlib-metadata<8.8.0,>=6.0 in /usr/local/lib/python3.11/dist-packages (from opentelemetry-api==1.34.1->opentelemetry-sdk) (8.7.0)\n",
            "Collecting opentelemetry-exporter-otlp-proto-grpc==1.34.1 (from opentelemetry-exporter-otlp)\n",
            "  Downloading opentelemetry_exporter_otlp_proto_grpc-1.34.1-py3-none-any.whl.metadata (2.4 kB)\n",
            "Collecting opentelemetry-exporter-otlp-proto-http==1.34.1 (from opentelemetry-exporter-otlp)\n",
            "  Downloading opentelemetry_exporter_otlp_proto_http-1.34.1-py3-none-any.whl.metadata (2.3 kB)\n",
            "Requirement already satisfied: googleapis-common-protos~=1.52 in /usr/local/lib/python3.11/dist-packages (from opentelemetry-exporter-otlp-proto-grpc==1.34.1->opentelemetry-exporter-otlp) (1.70.0)\n",
            "Requirement already satisfied: grpcio<2.0.0,>=1.63.2 in /usr/local/lib/python3.11/dist-packages (from opentelemetry-exporter-otlp-proto-grpc==1.34.1->opentelemetry-exporter-otlp) (1.73.0)\n",
            "Collecting opentelemetry-exporter-otlp-proto-common==1.34.1 (from opentelemetry-exporter-otlp-proto-grpc==1.34.1->opentelemetry-exporter-otlp)\n",
            "  Downloading opentelemetry_exporter_otlp_proto_common-1.34.1-py3-none-any.whl.metadata (1.9 kB)\n",
            "Collecting opentelemetry-proto==1.34.1 (from opentelemetry-exporter-otlp-proto-grpc==1.34.1->opentelemetry-exporter-otlp)\n",
            "  Downloading opentelemetry_proto-1.34.1-py3-none-any.whl.metadata (2.4 kB)\n",
            "Requirement already satisfied: protobuf<6.0,>=5.0 in /usr/local/lib/python3.11/dist-packages (from opentelemetry-proto==1.34.1->opentelemetry-exporter-otlp-proto-grpc==1.34.1->opentelemetry-exporter-otlp) (5.29.5)\n",
            "Collecting openinference-instrumentation>=0.1.27 (from openinference-instrumentation-smolagents)\n",
            "  Downloading openinference_instrumentation-0.1.34-py3-none-any.whl.metadata (4.9 kB)\n",
            "Collecting openinference-semantic-conventions>=0.1.17 (from openinference-instrumentation-smolagents)\n",
            "  Downloading openinference_semantic_conventions-0.1.21-py3-none-any.whl.metadata (1.2 kB)\n",
            "Collecting opentelemetry-instrumentation (from openinference-instrumentation-smolagents)\n",
            "  Downloading opentelemetry_instrumentation-0.55b1-py3-none-any.whl.metadata (6.7 kB)\n",
            "Requirement already satisfied: wrapt in /usr/local/lib/python3.11/dist-packages (from openinference-instrumentation-smolagents) (1.17.2)\n",
            "Requirement already satisfied: filelock in /usr/local/lib/python3.11/dist-packages (from huggingface-hub>=0.31.2->smolagents[telemetry]) (3.18.0)\n",
            "Requirement already satisfied: fsspec>=2023.5.0 in /usr/local/lib/python3.11/dist-packages (from huggingface-hub>=0.31.2->smolagents[telemetry]) (2025.3.2)\n",
            "Requirement already satisfied: packaging>=20.9 in /usr/local/lib/python3.11/dist-packages (from huggingface-hub>=0.31.2->smolagents[telemetry]) (24.2)\n",
            "Requirement already satisfied: pyyaml>=5.1 in /usr/local/lib/python3.11/dist-packages (from huggingface-hub>=0.31.2->smolagents[telemetry]) (6.0.2)\n",
            "Requirement already satisfied: tqdm>=4.42.1 in /usr/local/lib/python3.11/dist-packages (from huggingface-hub>=0.31.2->smolagents[telemetry]) (4.67.1)\n",
            "Requirement already satisfied: hf-xet<2.0.0,>=1.1.2 in /usr/local/lib/python3.11/dist-packages (from huggingface-hub>=0.31.2->smolagents[telemetry]) (1.1.5)\n",
            "Requirement already satisfied: MarkupSafe>=2.0 in /usr/local/lib/python3.11/dist-packages (from jinja2>=3.1.4->smolagents[telemetry]) (3.0.2)\n",
            "Requirement already satisfied: charset-normalizer<4,>=2 in /usr/local/lib/python3.11/dist-packages (from requests>=2.32.3->smolagents[telemetry]) (3.4.2)\n",
            "Requirement already satisfied: idna<4,>=2.5 in /usr/local/lib/python3.11/dist-packages (from requests>=2.32.3->smolagents[telemetry]) (3.10)\n",
            "Requirement already satisfied: urllib3<3,>=1.21.1 in /usr/local/lib/python3.11/dist-packages (from requests>=2.32.3->smolagents[telemetry]) (2.4.0)\n",
            "Requirement already satisfied: certifi>=2017.4.17 in /usr/local/lib/python3.11/dist-packages (from requests>=2.32.3->smolagents[telemetry]) (2025.6.15)\n",
            "Requirement already satisfied: markdown-it-py>=2.2.0 in /usr/local/lib/python3.11/dist-packages (from rich>=13.9.4->smolagents[telemetry]) (3.0.0)\n",
            "Requirement already satisfied: pygments<3.0.0,>=2.13.0 in /usr/local/lib/python3.11/dist-packages (from rich>=13.9.4->smolagents[telemetry]) (2.19.2)\n",
            "Collecting aioitertools (from arize-phoenix->smolagents[telemetry])\n",
            "  Downloading aioitertools-0.12.0-py3-none-any.whl.metadata (3.8 kB)\n",
            "Collecting aiosqlite (from arize-phoenix->smolagents[telemetry])\n",
            "  Downloading aiosqlite-0.21.0-py3-none-any.whl.metadata (4.3 kB)\n",
            "Collecting alembic<2,>=1.3.0 (from arize-phoenix->smolagents[telemetry])\n",
            "  Downloading alembic-1.16.2-py3-none-any.whl.metadata (7.3 kB)\n",
            "Collecting arize-phoenix-client (from arize-phoenix->smolagents[telemetry])\n",
            "  Downloading arize_phoenix_client-1.11.0-py3-none-any.whl.metadata (4.3 kB)\n",
            "Collecting arize-phoenix-evals>=0.20.6 (from arize-phoenix->smolagents[telemetry])\n",
            "  Downloading arize_phoenix_evals-0.21.0-py3-none-any.whl.metadata (4.8 kB)\n",
            "Collecting arize-phoenix-otel>=0.10.3 (from arize-phoenix->smolagents[telemetry])\n",
            "  Downloading arize_phoenix_otel-0.12.1-py3-none-any.whl.metadata (9.3 kB)\n",
            "Collecting authlib (from arize-phoenix->smolagents[telemetry])\n",
            "  Downloading authlib-1.6.0-py2.py3-none-any.whl.metadata (4.1 kB)\n",
            "Requirement already satisfied: cachetools in /usr/local/lib/python3.11/dist-packages (from arize-phoenix->smolagents[telemetry]) (5.5.2)\n",
            "Collecting email-validator (from arize-phoenix->smolagents[telemetry])\n",
            "  Downloading email_validator-2.2.0-py3-none-any.whl.metadata (25 kB)\n",
            "Requirement already satisfied: fastapi in /usr/local/lib/python3.11/dist-packages (from arize-phoenix->smolagents[telemetry]) (0.115.13)\n",
            "Requirement already satisfied: grpc-interceptor in /usr/local/lib/python3.11/dist-packages (from arize-phoenix->smolagents[telemetry]) (0.15.4)\n",
            "Requirement already satisfied: httpx in /usr/local/lib/python3.11/dist-packages (from arize-phoenix->smolagents[telemetry]) (0.28.1)\n",
            "Requirement already satisfied: numpy!=2.0.0 in /usr/local/lib/python3.11/dist-packages (from arize-phoenix->smolagents[telemetry]) (2.0.2)\n",
            "Requirement already satisfied: pandas>=1.0 in /usr/local/lib/python3.11/dist-packages (from arize-phoenix->smolagents[telemetry]) (2.2.2)\n",
            "Requirement already satisfied: psutil in /usr/local/lib/python3.11/dist-packages (from arize-phoenix->smolagents[telemetry]) (5.9.5)\n",
            "Requirement already satisfied: pyarrow in /usr/local/lib/python3.11/dist-packages (from arize-phoenix->smolagents[telemetry]) (18.1.0)\n",
            "Requirement already satisfied: pydantic>=2.1.0 in /usr/local/lib/python3.11/dist-packages (from arize-phoenix->smolagents[telemetry]) (2.11.7)\n",
            "Requirement already satisfied: python-multipart in /usr/local/lib/python3.11/dist-packages (from arize-phoenix->smolagents[telemetry]) (0.0.20)\n",
            "Requirement already satisfied: scikit-learn in /usr/local/lib/python3.11/dist-packages (from arize-phoenix->smolagents[telemetry]) (1.6.1)\n",
            "Requirement already satisfied: scipy in /usr/local/lib/python3.11/dist-packages (from arize-phoenix->smolagents[telemetry]) (1.15.3)\n",
            "Requirement already satisfied: sqlalchemy<3,>=2.0.4 in /usr/local/lib/python3.11/dist-packages (from sqlalchemy[asyncio]<3,>=2.0.4->arize-phoenix->smolagents[telemetry]) (2.0.41)\n",
            "Collecting sqlean-py>=3.45.1 (from arize-phoenix->smolagents[telemetry])\n",
            "  Downloading sqlean_py-3.49.1-cp311-cp311-manylinux_2_17_x86_64.manylinux2014_x86_64.whl.metadata (4.7 kB)\n",
            "Requirement already satisfied: starlette in /usr/local/lib/python3.11/dist-packages (from arize-phoenix->smolagents[telemetry]) (0.46.2)\n",
            "Collecting strawberry-graphql==0.270.1 (from arize-phoenix->smolagents[telemetry])\n",
            "  Downloading strawberry_graphql-0.270.1-py3-none-any.whl.metadata (7.7 kB)\n",
            "Requirement already satisfied: uvicorn in /usr/local/lib/python3.11/dist-packages (from arize-phoenix->smolagents[telemetry]) (0.34.3)\n",
            "Collecting graphql-core<3.4.0,>=3.2.0 (from strawberry-graphql==0.270.1->arize-phoenix->smolagents[telemetry])\n",
            "  Downloading graphql_core-3.2.6-py3-none-any.whl.metadata (11 kB)\n",
            "Requirement already satisfied: python-dateutil<3.0.0,>=2.7.0 in /usr/local/lib/python3.11/dist-packages (from strawberry-graphql==0.270.1->arize-phoenix->smolagents[telemetry]) (2.9.0.post0)\n",
            "Requirement already satisfied: Mako in /usr/lib/python3/dist-packages (from alembic<2,>=1.3.0->arize-phoenix->smolagents[telemetry]) (1.1.3)\n",
            "Requirement already satisfied: zipp>=3.20 in /usr/local/lib/python3.11/dist-packages (from importlib-metadata<8.8.0,>=6.0->opentelemetry-api==1.34.1->opentelemetry-sdk) (3.23.0)\n",
            "Requirement already satisfied: mdurl~=0.1 in /usr/local/lib/python3.11/dist-packages (from markdown-it-py>=2.2.0->rich>=13.9.4->smolagents[telemetry]) (0.1.2)\n",
            "Requirement already satisfied: pytz>=2020.1 in /usr/local/lib/python3.11/dist-packages (from pandas>=1.0->arize-phoenix->smolagents[telemetry]) (2025.2)\n",
            "Requirement already satisfied: tzdata>=2022.7 in /usr/local/lib/python3.11/dist-packages (from pandas>=1.0->arize-phoenix->smolagents[telemetry]) (2025.2)\n",
            "Requirement already satisfied: annotated-types>=0.6.0 in /usr/local/lib/python3.11/dist-packages (from pydantic>=2.1.0->arize-phoenix->smolagents[telemetry]) (0.7.0)\n",
            "Requirement already satisfied: pydantic-core==2.33.2 in /usr/local/lib/python3.11/dist-packages (from pydantic>=2.1.0->arize-phoenix->smolagents[telemetry]) (2.33.2)\n",
            "Requirement already satisfied: typing-inspection>=0.4.0 in /usr/local/lib/python3.11/dist-packages (from pydantic>=2.1.0->arize-phoenix->smolagents[telemetry]) (0.4.1)\n",
            "Requirement already satisfied: greenlet>=1 in /usr/local/lib/python3.11/dist-packages (from sqlalchemy<3,>=2.0.4->sqlalchemy[asyncio]<3,>=2.0.4->arize-phoenix->smolagents[telemetry]) (3.2.3)\n",
            "Requirement already satisfied: cryptography in /usr/local/lib/python3.11/dist-packages (from authlib->arize-phoenix->smolagents[telemetry]) (43.0.3)\n",
            "Collecting dnspython>=2.0.0 (from email-validator->arize-phoenix->smolagents[telemetry])\n",
            "  Downloading dnspython-2.7.0-py3-none-any.whl.metadata (5.8 kB)\n",
            "Requirement already satisfied: anyio<5,>=3.6.2 in /usr/local/lib/python3.11/dist-packages (from starlette->arize-phoenix->smolagents[telemetry]) (4.9.0)\n",
            "Requirement already satisfied: httpcore==1.* in /usr/local/lib/python3.11/dist-packages (from httpx->arize-phoenix->smolagents[telemetry]) (1.0.9)\n",
            "Requirement already satisfied: h11>=0.16 in /usr/local/lib/python3.11/dist-packages (from httpcore==1.*->httpx->arize-phoenix->smolagents[telemetry]) (0.16.0)\n",
            "Requirement already satisfied: joblib>=1.2.0 in /usr/local/lib/python3.11/dist-packages (from scikit-learn->arize-phoenix->smolagents[telemetry]) (1.5.1)\n",
            "Requirement already satisfied: threadpoolctl>=3.1.0 in /usr/local/lib/python3.11/dist-packages (from scikit-learn->arize-phoenix->smolagents[telemetry]) (3.6.0)\n",
            "Requirement already satisfied: click>=7.0 in /usr/local/lib/python3.11/dist-packages (from uvicorn->arize-phoenix->smolagents[telemetry]) (8.2.1)\n",
            "Requirement already satisfied: sniffio>=1.1 in /usr/local/lib/python3.11/dist-packages (from anyio<5,>=3.6.2->starlette->arize-phoenix->smolagents[telemetry]) (1.3.1)\n",
            "Requirement already satisfied: six>=1.5 in /usr/local/lib/python3.11/dist-packages (from python-dateutil<3.0.0,>=2.7.0->strawberry-graphql==0.270.1->arize-phoenix->smolagents[telemetry]) (1.17.0)\n",
            "Requirement already satisfied: cffi>=1.12 in /usr/local/lib/python3.11/dist-packages (from cryptography->authlib->arize-phoenix->smolagents[telemetry]) (1.17.1)\n",
            "Requirement already satisfied: pycparser in /usr/local/lib/python3.11/dist-packages (from cffi>=1.12->cryptography->authlib->arize-phoenix->smolagents[telemetry]) (2.22)\n",
            "Downloading opentelemetry_sdk-1.34.1-py3-none-any.whl (118 kB)\n",
            "\u001b[2K   \u001b[90m━━━━━━━━━━━━━━━━━━━━━━━━━━━━━━━━━━━━━━━━\u001b[0m \u001b[32m118.5/118.5 kB\u001b[0m \u001b[31m5.5 MB/s\u001b[0m eta \u001b[36m0:00:00\u001b[0m\n",
            "\u001b[?25hDownloading opentelemetry_api-1.34.1-py3-none-any.whl (65 kB)\n",
            "\u001b[2K   \u001b[90m━━━━━━━━━━━━━━━━━━━━━━━━━━━━━━━━━━━━━━━━\u001b[0m \u001b[32m65.8/65.8 kB\u001b[0m \u001b[31m5.6 MB/s\u001b[0m eta \u001b[36m0:00:00\u001b[0m\n",
            "\u001b[?25hDownloading opentelemetry_semantic_conventions-0.55b1-py3-none-any.whl (196 kB)\n",
            "\u001b[2K   \u001b[90m━━━━━━━━━━━━━━━━━━━━━━━━━━━━━━━━━━━━━━━━\u001b[0m \u001b[32m196.2/196.2 kB\u001b[0m \u001b[31m10.6 MB/s\u001b[0m eta \u001b[36m0:00:00\u001b[0m\n",
            "\u001b[?25hDownloading opentelemetry_exporter_otlp-1.34.1-py3-none-any.whl (7.0 kB)\n",
            "Downloading opentelemetry_exporter_otlp_proto_grpc-1.34.1-py3-none-any.whl (18 kB)\n",
            "Downloading opentelemetry_exporter_otlp_proto_http-1.34.1-py3-none-any.whl (17 kB)\n",
            "Downloading opentelemetry_exporter_otlp_proto_common-1.34.1-py3-none-any.whl (18 kB)\n",
            "Downloading opentelemetry_proto-1.34.1-py3-none-any.whl (55 kB)\n",
            "\u001b[2K   \u001b[90m━━━━━━━━━━━━━━━━━━━━━━━━━━━━━━━━━━━━━━━━\u001b[0m \u001b[32m55.7/55.7 kB\u001b[0m \u001b[31m4.8 MB/s\u001b[0m eta \u001b[36m0:00:00\u001b[0m\n",
            "\u001b[?25hDownloading openinference_instrumentation_smolagents-0.1.13-py3-none-any.whl (12 kB)\n",
            "Downloading openinference_instrumentation-0.1.34-py3-none-any.whl (28 kB)\n",
            "Downloading openinference_semantic_conventions-0.1.21-py3-none-any.whl (10 kB)\n",
            "Downloading arize_phoenix-11.0.0-py3-none-any.whl (4.1 MB)\n",
            "\u001b[2K   \u001b[90m━━━━━━━━━━━━━━━━━━━━━━━━━━━━━━━━━━━━━━━━\u001b[0m \u001b[32m4.1/4.1 MB\u001b[0m \u001b[31m81.1 MB/s\u001b[0m eta \u001b[36m0:00:00\u001b[0m\n",
            "\u001b[?25hDownloading strawberry_graphql-0.270.1-py3-none-any.whl (301 kB)\n",
            "\u001b[2K   \u001b[90m━━━━━━━━━━━━━━━━━━━━━━━━━━━━━━━━━━━━━━━━\u001b[0m \u001b[32m301.2/301.2 kB\u001b[0m \u001b[31m24.8 MB/s\u001b[0m eta \u001b[36m0:00:00\u001b[0m\n",
            "\u001b[?25hDownloading opentelemetry_instrumentation-0.55b1-py3-none-any.whl (31 kB)\n",
            "Downloading alembic-1.16.2-py3-none-any.whl (242 kB)\n",
            "\u001b[2K   \u001b[90m━━━━━━━━━━━━━━━━━━━━━━━━━━━━━━━━━━━━━━━━\u001b[0m \u001b[32m242.7/242.7 kB\u001b[0m \u001b[31m20.0 MB/s\u001b[0m eta \u001b[36m0:00:00\u001b[0m\n",
            "\u001b[?25hDownloading arize_phoenix_evals-0.21.0-py3-none-any.whl (63 kB)\n",
            "\u001b[2K   \u001b[90m━━━━━━━━━━━━━━━━━━━━━━━━━━━━━━━━━━━━━━━━\u001b[0m \u001b[32m63.2/63.2 kB\u001b[0m \u001b[31m5.3 MB/s\u001b[0m eta \u001b[36m0:00:00\u001b[0m\n",
            "\u001b[?25hDownloading arize_phoenix_otel-0.12.1-py3-none-any.whl (13 kB)\n",
            "Downloading sqlean_py-3.49.1-cp311-cp311-manylinux_2_17_x86_64.manylinux2014_x86_64.whl (3.0 MB)\n",
            "\u001b[2K   \u001b[90m━━━━━━━━━━━━━━━━━━━━━━━━━━━━━━━━━━━━━━━━\u001b[0m \u001b[32m3.0/3.0 MB\u001b[0m \u001b[31m93.9 MB/s\u001b[0m eta \u001b[36m0:00:00\u001b[0m\n",
            "\u001b[?25hDownloading aioitertools-0.12.0-py3-none-any.whl (24 kB)\n",
            "Downloading aiosqlite-0.21.0-py3-none-any.whl (15 kB)\n",
            "Downloading arize_phoenix_client-1.11.0-py3-none-any.whl (64 kB)\n",
            "\u001b[2K   \u001b[90m━━━━━━━━━━━━━━━━━━━━━━━━━━━━━━━━━━━━━━━━\u001b[0m \u001b[32m64.9/64.9 kB\u001b[0m \u001b[31m5.6 MB/s\u001b[0m eta \u001b[36m0:00:00\u001b[0m\n",
            "\u001b[?25hDownloading authlib-1.6.0-py2.py3-none-any.whl (239 kB)\n",
            "\u001b[2K   \u001b[90m━━━━━━━━━━━━━━━━━━━━━━━━━━━━━━━━━━━━━━━━\u001b[0m \u001b[32m240.0/240.0 kB\u001b[0m \u001b[31m18.8 MB/s\u001b[0m eta \u001b[36m0:00:00\u001b[0m\n",
            "\u001b[?25hDownloading email_validator-2.2.0-py3-none-any.whl (33 kB)\n",
            "Downloading dnspython-2.7.0-py3-none-any.whl (313 kB)\n",
            "\u001b[2K   \u001b[90m━━━━━━━━━━━━━━━━━━━━━━━━━━━━━━━━━━━━━━━━\u001b[0m \u001b[32m313.6/313.6 kB\u001b[0m \u001b[31m24.6 MB/s\u001b[0m eta \u001b[36m0:00:00\u001b[0m\n",
            "\u001b[?25hDownloading graphql_core-3.2.6-py3-none-any.whl (203 kB)\n",
            "\u001b[2K   \u001b[90m━━━━━━━━━━━━━━━━━━━━━━━━━━━━━━━━━━━━━━━━\u001b[0m \u001b[32m203.4/203.4 kB\u001b[0m \u001b[31m17.7 MB/s\u001b[0m eta \u001b[36m0:00:00\u001b[0m\n",
            "\u001b[?25hInstalling collected packages: sqlean-py, opentelemetry-proto, openinference-semantic-conventions, graphql-core, dnspython, aiosqlite, aioitertools, strawberry-graphql, opentelemetry-exporter-otlp-proto-common, opentelemetry-api, email-validator, alembic, opentelemetry-semantic-conventions, authlib, arize-phoenix-evals, arize-phoenix-client, opentelemetry-sdk, opentelemetry-instrumentation, opentelemetry-exporter-otlp-proto-http, opentelemetry-exporter-otlp-proto-grpc, openinference-instrumentation, opentelemetry-exporter-otlp, openinference-instrumentation-smolagents, arize-phoenix-otel, arize-phoenix\n",
            "Successfully installed aioitertools-0.12.0 aiosqlite-0.21.0 alembic-1.16.2 arize-phoenix-11.0.0 arize-phoenix-client-1.11.0 arize-phoenix-evals-0.21.0 arize-phoenix-otel-0.12.1 authlib-1.6.0 dnspython-2.7.0 email-validator-2.2.0 graphql-core-3.2.6 openinference-instrumentation-0.1.34 openinference-instrumentation-smolagents-0.1.13 openinference-semantic-conventions-0.1.21 opentelemetry-api-1.34.1 opentelemetry-exporter-otlp-1.34.1 opentelemetry-exporter-otlp-proto-common-1.34.1 opentelemetry-exporter-otlp-proto-grpc-1.34.1 opentelemetry-exporter-otlp-proto-http-1.34.1 opentelemetry-instrumentation-0.55b1 opentelemetry-proto-1.34.1 opentelemetry-sdk-1.34.1 opentelemetry-semantic-conventions-0.55b1 sqlean-py-3.49.1 strawberry-graphql-0.270.1\n"
          ]
        }
      ],
      "source": [
        "!pip install smolagents[telemetry] opentelemetry-sdk opentelemetry-exporter-otlp openinference-instrumentation-smolagents"
      ]
    },
    {
      "cell_type": "markdown",
      "metadata": {
        "id": "IVBwrNgbXPS-"
      },
      "source": [
        "Next, Alfred has already created an account on Langfuse and has his API keys ready. If you haven’t done so yet, you can sign up for Langfuse Cloud [here](https://cloud.langfuse.com/) or explore [alternatives](https://huggingface.co/docs/smolagents/tutorials/inspect_runs).  \n",
        "\n",
        "Once you have your API keys, they need to be properly configured as follows:"
      ]
    },
    {
      "cell_type": "code",
      "execution_count": null,
      "metadata": {
        "id": "9mJfphSMnGwZ",
        "colab": {
          "base_uri": "https://localhost:8080/"
        },
        "outputId": "5a7880fa-b46e-4e6d-fa3c-03cd7988112e"
      },
      "outputs": [
        {
          "output_type": "stream",
          "name": "stdout",
          "text": [
            "Langfuse environment variables set successfully!\n"
          ]
        }
      ],
      "source": [
        "import base64\n",
        "import os\n",
        "\n",
        "os.environ[\"LANGFUSE_PUBLIC_KEY\"] = \"pk-lf-95943c16-c0ac-4e04-a0d1-957ba4e494b9\"\n",
        "os.environ[\"LANGFUSE_SECRET_KEY\"] = \"sk-lf-5c31d3cd-cd23-4945-8d8c-f6ed51faf2e1\"\n",
        "\n",
        "LANGFUSE_PUBLIC_KEY = os.environ.get(\"LANGFUSE_PUBLIC_KEY\")\n",
        "LANGFUSE_SECRET_KEY = os.environ.get(\"LANGFUSE_SECRET_KEY\")\n",
        "\n",
        "if not LANGFUSE_PUBLIC_KEY or not LANGFUSE_SECRET_KEY:\n",
        "    raise ValueError(\"Langfuse public or secret keys are missing!\")\n",
        "\n",
        "LANGFUSE_AUTH = base64.b64encode(f\"{LANGFUSE_PUBLIC_KEY}:{LANGFUSE_SECRET_KEY}\".encode()).decode()\n",
        "\n",
        "#os.environ[\"OTEL_EXPORTER_OTLP_ENDPOINT\"] = \"https://cloud.langfuse.com/api/public/otel\" # EU data region\n",
        "os.environ[\"OTEL_EXPORTER_OTLP_ENDPOINT\"] = \"https://us.cloud.langfuse.com/api/public/otel\" # US data region\n",
        "os.environ[\"OTEL_EXPORTER_OTLP_HEADERS\"] = f\"Authorization=Basic {LANGFUSE_AUTH}\"\n",
        "\n",
        "print(\"Langfuse environment variables set successfully!\")\n",
        "\n"
      ]
    },
    {
      "cell_type": "markdown",
      "metadata": {
        "id": "ZIRRj-PJXRGH"
      },
      "source": [
        "Finally, Alfred is ready to initialize the `SmolagentsInstrumentor` and start tracking his agent's performance.  "
      ]
    },
    {
      "cell_type": "code",
      "execution_count": null,
      "metadata": {
        "id": "kmQdrMK_nyU0",
        "colab": {
          "base_uri": "https://localhost:8080/"
        },
        "outputId": "531f112a-9926-417d-f4b6-5b8993849819"
      },
      "outputs": [
        {
          "output_type": "stream",
          "name": "stderr",
          "text": [
            "WARNING:opentelemetry.instrumentation.instrumentor:Attempting to instrument while already instrumented\n"
          ]
        }
      ],
      "source": [
        "from opentelemetry.sdk.trace import TracerProvider\n",
        "\n",
        "from openinference.instrumentation.smolagents import SmolagentsInstrumentor\n",
        "from opentelemetry.exporter.otlp.proto.http.trace_exporter import OTLPSpanExporter\n",
        "from opentelemetry.sdk.trace.export import SimpleSpanProcessor\n",
        "\n",
        "trace_provider = TracerProvider()\n",
        "trace_provider.add_span_processor(SimpleSpanProcessor(OTLPSpanExporter()))\n",
        "\n",
        "SmolagentsInstrumentor().instrument(tracer_provider=trace_provider)"
      ]
    },
    {
      "cell_type": "markdown",
      "metadata": {
        "id": "B0oLBr_qXSjA"
      },
      "source": [
        "Alfred is now connected 🔌! The runs from `smolagents` are being logged in Langfuse, giving him full visibility into the agent's behavior. With this setup, he's ready to revisit previous runs and refine his Party Preparator Agent even further.  "
      ]
    },
    {
      "cell_type": "code",
      "execution_count": null,
      "metadata": {
        "colab": {
          "base_uri": "https://localhost:8080/",
          "height": 1000
        },
        "id": "3Oer9q0AoG28",
        "outputId": "b65c7633-9dc5-446b-ea0c-6add59ba7b23"
      },
      "outputs": [
        {
          "output_type": "display_data",
          "data": {
            "text/plain": [
              "\u001b[38;2;212;183;2m╭─\u001b[0m\u001b[38;2;212;183;2m───────────────────────────────────────────────────\u001b[0m\u001b[38;2;212;183;2m \u001b[0m\u001b[1;38;2;212;183;2mNew run\u001b[0m\u001b[38;2;212;183;2m \u001b[0m\u001b[38;2;212;183;2m───────────────────────────────────────────────────\u001b[0m\u001b[38;2;212;183;2m─╮\u001b[0m\n",
              "\u001b[38;2;212;183;2m│\u001b[0m                                                                                                                 \u001b[38;2;212;183;2m│\u001b[0m\n",
              "\u001b[38;2;212;183;2m│\u001b[0m \u001b[1mSearch for the best book recommendations for implementing AI in the workplace.\u001b[0m                                  \u001b[38;2;212;183;2m│\u001b[0m\n",
              "\u001b[38;2;212;183;2m│\u001b[0m                                                                                                                 \u001b[38;2;212;183;2m│\u001b[0m\n",
              "\u001b[38;2;212;183;2m╰─\u001b[0m\u001b[38;2;212;183;2m InferenceClientModel - Qwen/Qwen2.5-Coder-32B-Instruct \u001b[0m\u001b[38;2;212;183;2m───────────────────────────────────────────────────────\u001b[0m\u001b[38;2;212;183;2m─╯\u001b[0m\n"
            ],
            "text/html": [
              "<pre style=\"white-space:pre;overflow-x:auto;line-height:normal;font-family:Menlo,'DejaVu Sans Mono',consolas,'Courier New',monospace\"><span style=\"color: #d4b702; text-decoration-color: #d4b702\">╭──────────────────────────────────────────────────── </span><span style=\"color: #d4b702; text-decoration-color: #d4b702; font-weight: bold\">New run</span><span style=\"color: #d4b702; text-decoration-color: #d4b702\"> ────────────────────────────────────────────────────╮</span>\n",
              "<span style=\"color: #d4b702; text-decoration-color: #d4b702\">│</span>                                                                                                                 <span style=\"color: #d4b702; text-decoration-color: #d4b702\">│</span>\n",
              "<span style=\"color: #d4b702; text-decoration-color: #d4b702\">│</span> <span style=\"font-weight: bold\">Search for the best book recommendations for implementing AI in the workplace.</span>                                  <span style=\"color: #d4b702; text-decoration-color: #d4b702\">│</span>\n",
              "<span style=\"color: #d4b702; text-decoration-color: #d4b702\">│</span>                                                                                                                 <span style=\"color: #d4b702; text-decoration-color: #d4b702\">│</span>\n",
              "<span style=\"color: #d4b702; text-decoration-color: #d4b702\">╰─ InferenceClientModel - Qwen/Qwen2.5-Coder-32B-Instruct ────────────────────────────────────────────────────────╯</span>\n",
              "</pre>\n"
            ]
          },
          "metadata": {}
        },
        {
          "output_type": "display_data",
          "data": {
            "text/plain": [
              "\u001b[38;2;212;183;2m━━━━━━━━━━━━━━━━━━━━━━━━━━━━━━━━━━━━━━━━━━━━━━━━━━━━━ \u001b[0m\u001b[1mStep \u001b[0m\u001b[1;36m1\u001b[0m\u001b[38;2;212;183;2m ━━━━━━━━━━━━━━━━━━━━━━━━━━━━━━━━━━━━━━━━━━━━━━━━━━━━━━\u001b[0m\n"
            ],
            "text/html": [
              "<pre style=\"white-space:pre;overflow-x:auto;line-height:normal;font-family:Menlo,'DejaVu Sans Mono',consolas,'Courier New',monospace\"><span style=\"color: #d4b702; text-decoration-color: #d4b702\">━━━━━━━━━━━━━━━━━━━━━━━━━━━━━━━━━━━━━━━━━━━━━━━━━━━━━ </span><span style=\"font-weight: bold\">Step </span><span style=\"color: #008080; text-decoration-color: #008080; font-weight: bold\">1</span><span style=\"color: #d4b702; text-decoration-color: #d4b702\"> ━━━━━━━━━━━━━━━━━━━━━━━━━━━━━━━━━━━━━━━━━━━━━━━━━━━━━━</span>\n",
              "</pre>\n"
            ]
          },
          "metadata": {}
        },
        {
          "output_type": "stream",
          "name": "stderr",
          "text": [
            "/usr/local/lib/python3.11/dist-packages/smolagents/models.py:393: FutureWarning: Attribute last_input_token_count is deprecated and will be removed in version 1.20. Please use TokenUsage.input_tokens instead.\n",
            "  warnings.warn(\n",
            "/usr/local/lib/python3.11/dist-packages/smolagents/models.py:402: FutureWarning: Attribute last_output_token_count is deprecated and will be removed in version 1.20. Please use TokenUsage.output_tokens instead.\n",
            "  warnings.warn(\n",
            "ERROR:opentelemetry.exporter.otlp.proto.http.trace_exporter:Failed to export batch code: 401, reason: {\"message\":\"Invalid credentials. Confirm that you've configured the correct host.\"}\n"
          ]
        },
        {
          "output_type": "display_data",
          "data": {
            "text/plain": [
              " ─ \u001b[1mExecuting parsed code:\u001b[0m ──────────────────────────────────────────────────────────────────────────────────────── \n",
              "  \u001b[38;2;248;248;242;48;2;39;40;34mbook_recommendations\u001b[0m\u001b[38;2;248;248;242;48;2;39;40;34m \u001b[0m\u001b[38;2;255;70;137;48;2;39;40;34m=\u001b[0m\u001b[38;2;248;248;242;48;2;39;40;34m \u001b[0m\u001b[38;2;248;248;242;48;2;39;40;34mweb_search\u001b[0m\u001b[38;2;248;248;242;48;2;39;40;34m(\u001b[0m\u001b[38;2;248;248;242;48;2;39;40;34mquery\u001b[0m\u001b[38;2;255;70;137;48;2;39;40;34m=\u001b[0m\u001b[38;2;230;219;116;48;2;39;40;34m\"\u001b[0m\u001b[38;2;230;219;116;48;2;39;40;34mbest books for implementing AI in the workplace\u001b[0m\u001b[38;2;230;219;116;48;2;39;40;34m\"\u001b[0m\u001b[38;2;248;248;242;48;2;39;40;34m)\u001b[0m\u001b[48;2;39;40;34m                     \u001b[0m  \n",
              "  \u001b[38;2;248;248;242;48;2;39;40;34mprint\u001b[0m\u001b[38;2;248;248;242;48;2;39;40;34m(\u001b[0m\u001b[38;2;248;248;242;48;2;39;40;34mbook_recommendations\u001b[0m\u001b[38;2;248;248;242;48;2;39;40;34m)\u001b[0m\u001b[48;2;39;40;34m                                                                                    \u001b[0m  \n",
              " ───────────────────────────────────────────────────────────────────────────────────────────────────────────────── \n"
            ],
            "text/html": [
              "<pre style=\"white-space:pre;overflow-x:auto;line-height:normal;font-family:Menlo,'DejaVu Sans Mono',consolas,'Courier New',monospace\"> ─ <span style=\"font-weight: bold\">Executing parsed code:</span> ──────────────────────────────────────────────────────────────────────────────────────── \n",
              "  <span style=\"color: #f8f8f2; text-decoration-color: #f8f8f2; background-color: #272822\">book_recommendations </span><span style=\"color: #ff4689; text-decoration-color: #ff4689; background-color: #272822\">=</span><span style=\"color: #f8f8f2; text-decoration-color: #f8f8f2; background-color: #272822\"> web_search(query</span><span style=\"color: #ff4689; text-decoration-color: #ff4689; background-color: #272822\">=</span><span style=\"color: #e6db74; text-decoration-color: #e6db74; background-color: #272822\">\"best books for implementing AI in the workplace\"</span><span style=\"color: #f8f8f2; text-decoration-color: #f8f8f2; background-color: #272822\">)</span><span style=\"background-color: #272822\">                     </span>  \n",
              "  <span style=\"color: #f8f8f2; text-decoration-color: #f8f8f2; background-color: #272822\">print(book_recommendations)</span><span style=\"background-color: #272822\">                                                                                    </span>  \n",
              " ───────────────────────────────────────────────────────────────────────────────────────────────────────────────── \n",
              "</pre>\n"
            ]
          },
          "metadata": {}
        },
        {
          "output_type": "stream",
          "name": "stderr",
          "text": [
            "ERROR:opentelemetry.exporter.otlp.proto.http.trace_exporter:Failed to export batch code: 401, reason: {\"message\":\"Invalid credentials. Confirm that you've configured the correct host.\"}\n"
          ]
        },
        {
          "output_type": "display_data",
          "data": {
            "text/plain": [
              "\u001b[1mExecution logs:\u001b[0m\n",
              "## Search Results\n",
              "\n",
              "[6 Books on AI in the Workplace - Publishers \n",
              "Weekly](https://www.publishersweekly.com/pw/by-topic/new-titles/adult-announcements/article/95171-six-books-on-ai-i\n",
              "n-the-workplace.html)\n",
              "Implementing AI practices in a workplace needs to be more than good for the bottom line: it should also be done \n",
              "carefully and thoughtfully, says Gambelin, who founded the AI Ethics advisory firm ...\n",
              "\n",
              "[10 Must-Read Books on AI Recommended by Thought \n",
              "Leaders](https://medium.com/@rpatech.ai/10-must-read-books-on-ai-recommended-by-thought-leaders-b3eaecb2bf43)\n",
              "Here are some books on AI that are recommended by technology leaders like Lila Ibrahim, COO of Google DeepMind, Amy\n",
              "Webb, founder and CEO of Future Today Institute, and others.\n",
              "\n",
              "[The Best Books on Artificial Intelligence (AI) to Read in 2025](https://www.qualtrics.com/blog/books-on-ai/)\n",
              "Discover the top 10 best books on artificial intelligence that provide valuable insights and knowledge. Click \n",
              "though to genuinely gain a detailed understanding on AI.\n",
              "\n",
              "[9 Must-Read AI Books for Business Leaders - Nextiva](https://www.nextiva.com/blog/ai-business-books.html)\n",
              "These top AI business books shed light on the impact of artificial intelligence in business, and how people and \n",
              "computers will work together.\n",
              "\n",
              "[Top 18+ Books on Artificial Intelligence That you Must \n",
              "Read](https://www.theknowledgeacademy.com/blog/best-books-on-artificial-intelligence/)\n",
              "We hope that the above-mentioned list of the Best Books on Artificial Intelligence served as a valuable resource \n",
              "for both beginner and professional readers. These books provide a strong foundation for understanding AI's \n",
              "fundamentals and offer practical guidance for implementing AI in real-world scenarios. So, keep learning and \n",
              "enhance your ...\n",
              "\n",
              "[20 of the Best Books on AI and Machine Learning in \n",
              "2024](https://www.rareconnections.io/best-books-on-ai-and-machine-learning)\n",
              "3. The Business Case for AI The Business Case for AI: A Leader's Guide to AI Strategies, Best Practices & \n",
              "Real-World Applications by Kavita Ganesan is one of the best AI books for business leaders and serves as a \n",
              "comprehensive guide for implementing artificial intelligence into business operations.\n",
              "\n",
              "[Empower Your Business with Artificial Intelligence: 10 Books Every \n",
              "...](https://www.gend.co/blog/empower-your-business-with-artificial-intelligence-top-10-books-every-business-leader\n",
              "-should-read)\n",
              "From understanding AI fundamentals to implementing AI initiatives and navigating ethical considerations, these \n",
              "books offer valuable guidance and inspiration for business leaders on their AI journey. So don't wait - dive into \n",
              "these AI books today and unlock the transformative potential of artificial intelligence for your business.\n",
              "\n",
              "[AI and the Future of Work: 7 Must-Read Books - Analytics \n",
              "Insight](https://www.analyticsinsight.net/ampstories/artificial-intelligence/ai-and-the-future-of-work-7-must-read-\n",
              "books)\n",
              "Discover 7 essential books on AI's impact on work, offering insights and strategies to thrive in the evolving job \n",
              "landscape.\n",
              "\n",
              "[4 Great Books on How to Implement AI in Business, Automation, and the \n",
              "...](https://globisinsights.com/future-of-work/books-on-how-to-implement-ai-in-business/)\n",
              "GLOBIS University faculty discuss their favorite books on how to implement AI in business, automation, and the \n",
              "future of work.\n",
              "\n",
              "[Best Artificial Intelligence Books for Leaders - Toby \n",
              "Sinclair](https://www.tobysinclair.com/post/best-artificial-intelligence-books-for-leadership-development)\n",
              "The best artificial intelligence books to help leaders grow and have an impact on their business. Covering the \n",
              "fundamentals and advanced decision making.\n",
              "\n",
              "Out: None\n"
            ],
            "text/html": [
              "<pre style=\"white-space:pre;overflow-x:auto;line-height:normal;font-family:Menlo,'DejaVu Sans Mono',consolas,'Courier New',monospace\"><span style=\"font-weight: bold\">Execution logs:</span>\n",
              "## Search Results\n",
              "\n",
              "[6 Books on AI in the Workplace - Publishers \n",
              "Weekly](https://www.publishersweekly.com/pw/by-topic/new-titles/adult-announcements/article/95171-six-books-on-ai-i\n",
              "n-the-workplace.html)\n",
              "Implementing AI practices in a workplace needs to be more than good for the bottom line: it should also be done \n",
              "carefully and thoughtfully, says Gambelin, who founded the AI Ethics advisory firm ...\n",
              "\n",
              "[10 Must-Read Books on AI Recommended by Thought \n",
              "Leaders](https://medium.com/@rpatech.ai/10-must-read-books-on-ai-recommended-by-thought-leaders-b3eaecb2bf43)\n",
              "Here are some books on AI that are recommended by technology leaders like Lila Ibrahim, COO of Google DeepMind, Amy\n",
              "Webb, founder and CEO of Future Today Institute, and others.\n",
              "\n",
              "[The Best Books on Artificial Intelligence (AI) to Read in 2025](https://www.qualtrics.com/blog/books-on-ai/)\n",
              "Discover the top 10 best books on artificial intelligence that provide valuable insights and knowledge. Click \n",
              "though to genuinely gain a detailed understanding on AI.\n",
              "\n",
              "[9 Must-Read AI Books for Business Leaders - Nextiva](https://www.nextiva.com/blog/ai-business-books.html)\n",
              "These top AI business books shed light on the impact of artificial intelligence in business, and how people and \n",
              "computers will work together.\n",
              "\n",
              "[Top 18+ Books on Artificial Intelligence That you Must \n",
              "Read](https://www.theknowledgeacademy.com/blog/best-books-on-artificial-intelligence/)\n",
              "We hope that the above-mentioned list of the Best Books on Artificial Intelligence served as a valuable resource \n",
              "for both beginner and professional readers. These books provide a strong foundation for understanding AI's \n",
              "fundamentals and offer practical guidance for implementing AI in real-world scenarios. So, keep learning and \n",
              "enhance your ...\n",
              "\n",
              "[20 of the Best Books on AI and Machine Learning in \n",
              "2024](https://www.rareconnections.io/best-books-on-ai-and-machine-learning)\n",
              "3. The Business Case for AI The Business Case for AI: A Leader's Guide to AI Strategies, Best Practices &amp; \n",
              "Real-World Applications by Kavita Ganesan is one of the best AI books for business leaders and serves as a \n",
              "comprehensive guide for implementing artificial intelligence into business operations.\n",
              "\n",
              "[Empower Your Business with Artificial Intelligence: 10 Books Every \n",
              "...](https://www.gend.co/blog/empower-your-business-with-artificial-intelligence-top-10-books-every-business-leader\n",
              "-should-read)\n",
              "From understanding AI fundamentals to implementing AI initiatives and navigating ethical considerations, these \n",
              "books offer valuable guidance and inspiration for business leaders on their AI journey. So don't wait - dive into \n",
              "these AI books today and unlock the transformative potential of artificial intelligence for your business.\n",
              "\n",
              "[AI and the Future of Work: 7 Must-Read Books - Analytics \n",
              "Insight](https://www.analyticsinsight.net/ampstories/artificial-intelligence/ai-and-the-future-of-work-7-must-read-\n",
              "books)\n",
              "Discover 7 essential books on AI's impact on work, offering insights and strategies to thrive in the evolving job \n",
              "landscape.\n",
              "\n",
              "[4 Great Books on How to Implement AI in Business, Automation, and the \n",
              "...](https://globisinsights.com/future-of-work/books-on-how-to-implement-ai-in-business/)\n",
              "GLOBIS University faculty discuss their favorite books on how to implement AI in business, automation, and the \n",
              "future of work.\n",
              "\n",
              "[Best Artificial Intelligence Books for Leaders - Toby \n",
              "Sinclair](https://www.tobysinclair.com/post/best-artificial-intelligence-books-for-leadership-development)\n",
              "The best artificial intelligence books to help leaders grow and have an impact on their business. Covering the \n",
              "fundamentals and advanced decision making.\n",
              "\n",
              "Out: None\n",
              "</pre>\n"
            ]
          },
          "metadata": {}
        },
        {
          "output_type": "display_data",
          "data": {
            "text/plain": [
              "\u001b[2m[Step 1: Duration 1.97 seconds| Input tokens: 2,002 | Output tokens: 69]\u001b[0m\n"
            ],
            "text/html": [
              "<pre style=\"white-space:pre;overflow-x:auto;line-height:normal;font-family:Menlo,'DejaVu Sans Mono',consolas,'Courier New',monospace\"><span style=\"color: #7f7f7f; text-decoration-color: #7f7f7f\">[Step 1: Duration 1.97 seconds| Input tokens: 2,002 | Output tokens: 69]</span>\n",
              "</pre>\n"
            ]
          },
          "metadata": {}
        },
        {
          "output_type": "display_data",
          "data": {
            "text/plain": [
              "\u001b[38;2;212;183;2m━━━━━━━━━━━━━━━━━━━━━━━━━━━━━━━━━━━━━━━━━━━━━━━━━━━━━ \u001b[0m\u001b[1mStep \u001b[0m\u001b[1;36m2\u001b[0m\u001b[38;2;212;183;2m ━━━━━━━━━━━━━━━━━━━━━━━━━━━━━━━━━━━━━━━━━━━━━━━━━━━━━━\u001b[0m\n"
            ],
            "text/html": [
              "<pre style=\"white-space:pre;overflow-x:auto;line-height:normal;font-family:Menlo,'DejaVu Sans Mono',consolas,'Courier New',monospace\"><span style=\"color: #d4b702; text-decoration-color: #d4b702\">━━━━━━━━━━━━━━━━━━━━━━━━━━━━━━━━━━━━━━━━━━━━━━━━━━━━━ </span><span style=\"font-weight: bold\">Step </span><span style=\"color: #008080; text-decoration-color: #008080; font-weight: bold\">2</span><span style=\"color: #d4b702; text-decoration-color: #d4b702\"> ━━━━━━━━━━━━━━━━━━━━━━━━━━━━━━━━━━━━━━━━━━━━━━━━━━━━━━</span>\n",
              "</pre>\n"
            ]
          },
          "metadata": {}
        },
        {
          "output_type": "stream",
          "name": "stderr",
          "text": [
            "/usr/local/lib/python3.11/dist-packages/smolagents/models.py:393: FutureWarning: Attribute last_input_token_count is deprecated and will be removed in version 1.20. Please use TokenUsage.input_tokens instead.\n",
            "  warnings.warn(\n",
            "/usr/local/lib/python3.11/dist-packages/smolagents/models.py:402: FutureWarning: Attribute last_output_token_count is deprecated and will be removed in version 1.20. Please use TokenUsage.output_tokens instead.\n",
            "  warnings.warn(\n",
            "ERROR:opentelemetry.exporter.otlp.proto.http.trace_exporter:Failed to export batch code: 401, reason: {\"message\":\"Invalid credentials. Confirm that you've configured the correct host.\"}\n"
          ]
        },
        {
          "output_type": "display_data",
          "data": {
            "text/plain": [
              " ─ \u001b[1mExecuting parsed code:\u001b[0m ──────────────────────────────────────────────────────────────────────────────────────── \n",
              "  \u001b[38;2;149;144;119;48;2;39;40;34m# Extract book titles from the search results\u001b[0m\u001b[48;2;39;40;34m                                                                  \u001b[0m  \n",
              "  \u001b[38;2;248;248;242;48;2;39;40;34mbook_titles\u001b[0m\u001b[38;2;248;248;242;48;2;39;40;34m \u001b[0m\u001b[38;2;255;70;137;48;2;39;40;34m=\u001b[0m\u001b[38;2;248;248;242;48;2;39;40;34m \u001b[0m\u001b[38;2;248;248;242;48;2;39;40;34m[\u001b[0m\u001b[48;2;39;40;34m                                                                                                \u001b[0m  \n",
              "  \u001b[38;2;248;248;242;48;2;39;40;34m    \u001b[0m\u001b[38;2;230;219;116;48;2;39;40;34m\"\u001b[0m\u001b[38;2;230;219;116;48;2;39;40;34mThe Business Case for AI: A Leader\u001b[0m\u001b[38;2;230;219;116;48;2;39;40;34m'\u001b[0m\u001b[38;2;230;219;116;48;2;39;40;34ms Guide to AI Strategies, Best Practices & Real-World Applications by \u001b[0m\u001b[48;2;39;40;34m \u001b[0m  \n",
              "  \u001b[38;2;230;219;116;48;2;39;40;34mKavita Ganesan\u001b[0m\u001b[38;2;230;219;116;48;2;39;40;34m\"\u001b[0m\u001b[38;2;248;248;242;48;2;39;40;34m,\u001b[0m\u001b[48;2;39;40;34m                                                                                               \u001b[0m  \n",
              "  \u001b[38;2;248;248;242;48;2;39;40;34m    \u001b[0m\u001b[38;2;230;219;116;48;2;39;40;34m\"\u001b[0m\u001b[38;2;230;219;116;48;2;39;40;34mAI Superpowers: China, Silicon Valley, and New World Order by Kai-Fu Lee\u001b[0m\u001b[38;2;230;219;116;48;2;39;40;34m\"\u001b[0m\u001b[38;2;248;248;242;48;2;39;40;34m,\u001b[0m\u001b[48;2;39;40;34m                                \u001b[0m  \n",
              "  \u001b[38;2;248;248;242;48;2;39;40;34m    \u001b[0m\u001b[38;2;230;219;116;48;2;39;40;34m\"\u001b[0m\u001b[38;2;230;219;116;48;2;39;40;34mLife 3. 0: Being Human in the Age of Artificial Intelligence by Max Tegmark\u001b[0m\u001b[38;2;230;219;116;48;2;39;40;34m\"\u001b[0m\u001b[38;2;248;248;242;48;2;39;40;34m,\u001b[0m\u001b[48;2;39;40;34m                             \u001b[0m  \n",
              "  \u001b[38;2;248;248;242;48;2;39;40;34m    \u001b[0m\u001b[38;2;230;219;116;48;2;39;40;34m\"\u001b[0m\u001b[38;2;230;219;116;48;2;39;40;34mArtificial Intelligence for Business: A Practical Guide to Implementing AI in Your Organization by Tom \u001b[0m\u001b[48;2;39;40;34m   \u001b[0m  \n",
              "  \u001b[38;2;230;219;116;48;2;39;40;34mTaulli\u001b[0m\u001b[38;2;230;219;116;48;2;39;40;34m\"\u001b[0m\u001b[38;2;248;248;242;48;2;39;40;34m,\u001b[0m\u001b[48;2;39;40;34m                                                                                                       \u001b[0m  \n",
              "  \u001b[38;2;248;248;242;48;2;39;40;34m    \u001b[0m\u001b[38;2;230;219;116;48;2;39;40;34m\"\u001b[0m\u001b[38;2;230;219;116;48;2;39;40;34mHuman + Machine: Reimagining Work in the Age of AI by Paul R. Daugherty and H. James Wilson\u001b[0m\u001b[38;2;230;219;116;48;2;39;40;34m\"\u001b[0m\u001b[38;2;248;248;242;48;2;39;40;34m,\u001b[0m\u001b[48;2;39;40;34m             \u001b[0m  \n",
              "  \u001b[38;2;248;248;242;48;2;39;40;34m    \u001b[0m\u001b[38;2;230;219;116;48;2;39;40;34m\"\u001b[0m\u001b[38;2;230;219;116;48;2;39;40;34mAI in Business: A Guide for Managers and Leaders by Michael Chui, Thomas H. Davenport, and Rajeev \u001b[0m\u001b[48;2;39;40;34m        \u001b[0m  \n",
              "  \u001b[38;2;230;219;116;48;2;39;40;34mRonanki\u001b[0m\u001b[38;2;230;219;116;48;2;39;40;34m\"\u001b[0m\u001b[38;2;248;248;242;48;2;39;40;34m,\u001b[0m\u001b[48;2;39;40;34m                                                                                                      \u001b[0m  \n",
              "  \u001b[38;2;248;248;242;48;2;39;40;34m    \u001b[0m\u001b[38;2;230;219;116;48;2;39;40;34m\"\u001b[0m\u001b[38;2;230;219;116;48;2;39;40;34mThe AI Advantage: How to Put the Artificial Intelligence Revolution to Work by James Manyika, Susan Lund, \u001b[0m  \n",
              "  \u001b[38;2;230;219;116;48;2;39;40;34mand Jonathan Woetzel\u001b[0m\u001b[38;2;230;219;116;48;2;39;40;34m\"\u001b[0m\u001b[38;2;248;248;242;48;2;39;40;34m,\u001b[0m\u001b[48;2;39;40;34m                                                                                         \u001b[0m  \n",
              "  \u001b[38;2;248;248;242;48;2;39;40;34m    \u001b[0m\u001b[38;2;230;219;116;48;2;39;40;34m\"\u001b[0m\u001b[38;2;230;219;116;48;2;39;40;34mThe Master Algorithm: How the Quest for the Ultimate Learning Machine Will Remake Our World by Pedro \u001b[0m\u001b[48;2;39;40;34m     \u001b[0m  \n",
              "  \u001b[38;2;230;219;116;48;2;39;40;34mDomingos\u001b[0m\u001b[38;2;230;219;116;48;2;39;40;34m\"\u001b[0m\u001b[38;2;248;248;242;48;2;39;40;34m,\u001b[0m\u001b[48;2;39;40;34m                                                                                                     \u001b[0m  \n",
              "  \u001b[38;2;248;248;242;48;2;39;40;34m    \u001b[0m\u001b[38;2;230;219;116;48;2;39;40;34m\"\u001b[0m\u001b[38;2;230;219;116;48;2;39;40;34mAI Today: Practical Uses and Business Benefits by Michael J. Garbade\u001b[0m\u001b[38;2;230;219;116;48;2;39;40;34m\"\u001b[0m\u001b[38;2;248;248;242;48;2;39;40;34m,\u001b[0m\u001b[48;2;39;40;34m                                    \u001b[0m  \n",
              "  \u001b[38;2;248;248;242;48;2;39;40;34m    \u001b[0m\u001b[38;2;230;219;116;48;2;39;40;34m\"\u001b[0m\u001b[38;2;230;219;116;48;2;39;40;34mThe Future of Work: How the New World of Artificial Intelligence Will Change Us by Martin Ford\u001b[0m\u001b[38;2;230;219;116;48;2;39;40;34m\"\u001b[0m\u001b[48;2;39;40;34m           \u001b[0m  \n",
              "  \u001b[38;2;248;248;242;48;2;39;40;34m]\u001b[0m\u001b[48;2;39;40;34m                                                                                                              \u001b[0m  \n",
              "  \u001b[48;2;39;40;34m                                                                                                               \u001b[0m  \n",
              "  \u001b[38;2;149;144;119;48;2;39;40;34m# Print the list of book titles\u001b[0m\u001b[48;2;39;40;34m                                                                                \u001b[0m  \n",
              "  \u001b[38;2;248;248;242;48;2;39;40;34mprint\u001b[0m\u001b[38;2;248;248;242;48;2;39;40;34m(\u001b[0m\u001b[38;2;248;248;242;48;2;39;40;34mbook_titles\u001b[0m\u001b[38;2;248;248;242;48;2;39;40;34m)\u001b[0m\u001b[48;2;39;40;34m                                                                                             \u001b[0m  \n",
              " ───────────────────────────────────────────────────────────────────────────────────────────────────────────────── \n"
            ],
            "text/html": [
              "<pre style=\"white-space:pre;overflow-x:auto;line-height:normal;font-family:Menlo,'DejaVu Sans Mono',consolas,'Courier New',monospace\"> ─ <span style=\"font-weight: bold\">Executing parsed code:</span> ──────────────────────────────────────────────────────────────────────────────────────── \n",
              "  <span style=\"color: #959077; text-decoration-color: #959077; background-color: #272822\"># Extract book titles from the search results</span><span style=\"background-color: #272822\">                                                                  </span>  \n",
              "  <span style=\"color: #f8f8f2; text-decoration-color: #f8f8f2; background-color: #272822\">book_titles </span><span style=\"color: #ff4689; text-decoration-color: #ff4689; background-color: #272822\">=</span><span style=\"color: #f8f8f2; text-decoration-color: #f8f8f2; background-color: #272822\"> [</span><span style=\"background-color: #272822\">                                                                                                </span>  \n",
              "  <span style=\"color: #f8f8f2; text-decoration-color: #f8f8f2; background-color: #272822\">    </span><span style=\"color: #e6db74; text-decoration-color: #e6db74; background-color: #272822\">\"The Business Case for AI: A Leader's Guide to AI Strategies, Best Practices &amp; Real-World Applications by </span><span style=\"background-color: #272822\"> </span>  \n",
              "  <span style=\"color: #e6db74; text-decoration-color: #e6db74; background-color: #272822\">Kavita Ganesan\"</span><span style=\"color: #f8f8f2; text-decoration-color: #f8f8f2; background-color: #272822\">,</span><span style=\"background-color: #272822\">                                                                                               </span>  \n",
              "  <span style=\"color: #f8f8f2; text-decoration-color: #f8f8f2; background-color: #272822\">    </span><span style=\"color: #e6db74; text-decoration-color: #e6db74; background-color: #272822\">\"AI Superpowers: China, Silicon Valley, and New World Order by Kai-Fu Lee\"</span><span style=\"color: #f8f8f2; text-decoration-color: #f8f8f2; background-color: #272822\">,</span><span style=\"background-color: #272822\">                                </span>  \n",
              "  <span style=\"color: #f8f8f2; text-decoration-color: #f8f8f2; background-color: #272822\">    </span><span style=\"color: #e6db74; text-decoration-color: #e6db74; background-color: #272822\">\"Life 3. 0: Being Human in the Age of Artificial Intelligence by Max Tegmark\"</span><span style=\"color: #f8f8f2; text-decoration-color: #f8f8f2; background-color: #272822\">,</span><span style=\"background-color: #272822\">                             </span>  \n",
              "  <span style=\"color: #f8f8f2; text-decoration-color: #f8f8f2; background-color: #272822\">    </span><span style=\"color: #e6db74; text-decoration-color: #e6db74; background-color: #272822\">\"Artificial Intelligence for Business: A Practical Guide to Implementing AI in Your Organization by Tom </span><span style=\"background-color: #272822\">   </span>  \n",
              "  <span style=\"color: #e6db74; text-decoration-color: #e6db74; background-color: #272822\">Taulli\"</span><span style=\"color: #f8f8f2; text-decoration-color: #f8f8f2; background-color: #272822\">,</span><span style=\"background-color: #272822\">                                                                                                       </span>  \n",
              "  <span style=\"color: #f8f8f2; text-decoration-color: #f8f8f2; background-color: #272822\">    </span><span style=\"color: #e6db74; text-decoration-color: #e6db74; background-color: #272822\">\"Human + Machine: Reimagining Work in the Age of AI by Paul R. Daugherty and H. James Wilson\"</span><span style=\"color: #f8f8f2; text-decoration-color: #f8f8f2; background-color: #272822\">,</span><span style=\"background-color: #272822\">             </span>  \n",
              "  <span style=\"color: #f8f8f2; text-decoration-color: #f8f8f2; background-color: #272822\">    </span><span style=\"color: #e6db74; text-decoration-color: #e6db74; background-color: #272822\">\"AI in Business: A Guide for Managers and Leaders by Michael Chui, Thomas H. Davenport, and Rajeev </span><span style=\"background-color: #272822\">        </span>  \n",
              "  <span style=\"color: #e6db74; text-decoration-color: #e6db74; background-color: #272822\">Ronanki\"</span><span style=\"color: #f8f8f2; text-decoration-color: #f8f8f2; background-color: #272822\">,</span><span style=\"background-color: #272822\">                                                                                                      </span>  \n",
              "  <span style=\"color: #f8f8f2; text-decoration-color: #f8f8f2; background-color: #272822\">    </span><span style=\"color: #e6db74; text-decoration-color: #e6db74; background-color: #272822\">\"The AI Advantage: How to Put the Artificial Intelligence Revolution to Work by James Manyika, Susan Lund, </span>  \n",
              "  <span style=\"color: #e6db74; text-decoration-color: #e6db74; background-color: #272822\">and Jonathan Woetzel\"</span><span style=\"color: #f8f8f2; text-decoration-color: #f8f8f2; background-color: #272822\">,</span><span style=\"background-color: #272822\">                                                                                         </span>  \n",
              "  <span style=\"color: #f8f8f2; text-decoration-color: #f8f8f2; background-color: #272822\">    </span><span style=\"color: #e6db74; text-decoration-color: #e6db74; background-color: #272822\">\"The Master Algorithm: How the Quest for the Ultimate Learning Machine Will Remake Our World by Pedro </span><span style=\"background-color: #272822\">     </span>  \n",
              "  <span style=\"color: #e6db74; text-decoration-color: #e6db74; background-color: #272822\">Domingos\"</span><span style=\"color: #f8f8f2; text-decoration-color: #f8f8f2; background-color: #272822\">,</span><span style=\"background-color: #272822\">                                                                                                     </span>  \n",
              "  <span style=\"color: #f8f8f2; text-decoration-color: #f8f8f2; background-color: #272822\">    </span><span style=\"color: #e6db74; text-decoration-color: #e6db74; background-color: #272822\">\"AI Today: Practical Uses and Business Benefits by Michael J. Garbade\"</span><span style=\"color: #f8f8f2; text-decoration-color: #f8f8f2; background-color: #272822\">,</span><span style=\"background-color: #272822\">                                    </span>  \n",
              "  <span style=\"color: #f8f8f2; text-decoration-color: #f8f8f2; background-color: #272822\">    </span><span style=\"color: #e6db74; text-decoration-color: #e6db74; background-color: #272822\">\"The Future of Work: How the New World of Artificial Intelligence Will Change Us by Martin Ford\"</span><span style=\"background-color: #272822\">           </span>  \n",
              "  <span style=\"color: #f8f8f2; text-decoration-color: #f8f8f2; background-color: #272822\">]</span><span style=\"background-color: #272822\">                                                                                                              </span>  \n",
              "  <span style=\"background-color: #272822\">                                                                                                               </span>  \n",
              "  <span style=\"color: #959077; text-decoration-color: #959077; background-color: #272822\"># Print the list of book titles</span><span style=\"background-color: #272822\">                                                                                </span>  \n",
              "  <span style=\"color: #f8f8f2; text-decoration-color: #f8f8f2; background-color: #272822\">print(book_titles)</span><span style=\"background-color: #272822\">                                                                                             </span>  \n",
              " ───────────────────────────────────────────────────────────────────────────────────────────────────────────────── \n",
              "</pre>\n"
            ]
          },
          "metadata": {}
        },
        {
          "output_type": "display_data",
          "data": {
            "text/plain": [
              "\u001b[1mExecution logs:\u001b[0m\n",
              "[\"The Business Case for AI: A Leader's Guide to AI Strategies, Best Practices & Real-World Applications by Kavita \n",
              "Ganesan\", 'AI Superpowers: China, Silicon Valley, and New World Order by Kai-Fu Lee', 'Life 3. 0: Being Human in \n",
              "the Age of Artificial Intelligence by Max Tegmark', 'Artificial Intelligence for Business: A Practical Guide to \n",
              "Implementing AI in Your Organization by Tom Taulli', 'Human + Machine: Reimagining Work in the Age of AI by Paul R.\n",
              "Daugherty and H. James Wilson', 'AI in Business: A Guide for Managers and Leaders by Michael Chui, Thomas H. \n",
              "Davenport, and Rajeev Ronanki', 'The AI Advantage: How to Put the Artificial Intelligence Revolution to Work by \n",
              "James Manyika, Susan Lund, and Jonathan Woetzel', 'The Master Algorithm: How the Quest for the Ultimate Learning \n",
              "Machine Will Remake Our World by Pedro Domingos', 'AI Today: Practical Uses and Business Benefits by Michael J. \n",
              "Garbade', 'The Future of Work: How the New World of Artificial Intelligence Will Change Us by Martin Ford']\n",
              "\n",
              "Out: None\n"
            ],
            "text/html": [
              "<pre style=\"white-space:pre;overflow-x:auto;line-height:normal;font-family:Menlo,'DejaVu Sans Mono',consolas,'Courier New',monospace\"><span style=\"font-weight: bold\">Execution logs:</span>\n",
              "[\"The Business Case for AI: A Leader's Guide to AI Strategies, Best Practices &amp; Real-World Applications by Kavita \n",
              "Ganesan\", 'AI Superpowers: China, Silicon Valley, and New World Order by Kai-Fu Lee', 'Life 3. 0: Being Human in \n",
              "the Age of Artificial Intelligence by Max Tegmark', 'Artificial Intelligence for Business: A Practical Guide to \n",
              "Implementing AI in Your Organization by Tom Taulli', 'Human + Machine: Reimagining Work in the Age of AI by Paul R.\n",
              "Daugherty and H. James Wilson', 'AI in Business: A Guide for Managers and Leaders by Michael Chui, Thomas H. \n",
              "Davenport, and Rajeev Ronanki', 'The AI Advantage: How to Put the Artificial Intelligence Revolution to Work by \n",
              "James Manyika, Susan Lund, and Jonathan Woetzel', 'The Master Algorithm: How the Quest for the Ultimate Learning \n",
              "Machine Will Remake Our World by Pedro Domingos', 'AI Today: Practical Uses and Business Benefits by Michael J. \n",
              "Garbade', 'The Future of Work: How the New World of Artificial Intelligence Will Change Us by Martin Ford']\n",
              "\n",
              "Out: None\n",
              "</pre>\n"
            ]
          },
          "metadata": {}
        },
        {
          "output_type": "display_data",
          "data": {
            "text/plain": [
              "\u001b[2m[Step 2: Duration 4.06 seconds| Input tokens: 4,929 | Output tokens: 385]\u001b[0m\n"
            ],
            "text/html": [
              "<pre style=\"white-space:pre;overflow-x:auto;line-height:normal;font-family:Menlo,'DejaVu Sans Mono',consolas,'Courier New',monospace\"><span style=\"color: #7f7f7f; text-decoration-color: #7f7f7f\">[Step 2: Duration 4.06 seconds| Input tokens: 4,929 | Output tokens: 385]</span>\n",
              "</pre>\n"
            ]
          },
          "metadata": {}
        },
        {
          "output_type": "display_data",
          "data": {
            "text/plain": [
              "\u001b[38;2;212;183;2m━━━━━━━━━━━━━━━━━━━━━━━━━━━━━━━━━━━━━━━━━━━━━━━━━━━━━ \u001b[0m\u001b[1mStep \u001b[0m\u001b[1;36m3\u001b[0m\u001b[38;2;212;183;2m ━━━━━━━━━━━━━━━━━━━━━━━━━━━━━━━━━━━━━━━━━━━━━━━━━━━━━━\u001b[0m\n"
            ],
            "text/html": [
              "<pre style=\"white-space:pre;overflow-x:auto;line-height:normal;font-family:Menlo,'DejaVu Sans Mono',consolas,'Courier New',monospace\"><span style=\"color: #d4b702; text-decoration-color: #d4b702\">━━━━━━━━━━━━━━━━━━━━━━━━━━━━━━━━━━━━━━━━━━━━━━━━━━━━━ </span><span style=\"font-weight: bold\">Step </span><span style=\"color: #008080; text-decoration-color: #008080; font-weight: bold\">3</span><span style=\"color: #d4b702; text-decoration-color: #d4b702\"> ━━━━━━━━━━━━━━━━━━━━━━━━━━━━━━━━━━━━━━━━━━━━━━━━━━━━━━</span>\n",
              "</pre>\n"
            ]
          },
          "metadata": {}
        },
        {
          "output_type": "stream",
          "name": "stderr",
          "text": [
            "/usr/local/lib/python3.11/dist-packages/smolagents/models.py:393: FutureWarning: Attribute last_input_token_count is deprecated and will be removed in version 1.20. Please use TokenUsage.input_tokens instead.\n",
            "  warnings.warn(\n",
            "/usr/local/lib/python3.11/dist-packages/smolagents/models.py:402: FutureWarning: Attribute last_output_token_count is deprecated and will be removed in version 1.20. Please use TokenUsage.output_tokens instead.\n",
            "  warnings.warn(\n",
            "ERROR:opentelemetry.exporter.otlp.proto.http.trace_exporter:Failed to export batch code: 401, reason: {\"message\":\"Invalid credentials. Confirm that you've configured the correct host.\"}\n"
          ]
        },
        {
          "output_type": "display_data",
          "data": {
            "text/plain": [
              " ─ \u001b[1mExecuting parsed code:\u001b[0m ──────────────────────────────────────────────────────────────────────────────────────── \n",
              "  \u001b[38;2;248;248;242;48;2;39;40;34mfinal_answer\u001b[0m\u001b[38;2;248;248;242;48;2;39;40;34m(\u001b[0m\u001b[38;2;248;248;242;48;2;39;40;34mbook_titles\u001b[0m\u001b[38;2;248;248;242;48;2;39;40;34m)\u001b[0m\u001b[48;2;39;40;34m                                                                                      \u001b[0m  \n",
              " ───────────────────────────────────────────────────────────────────────────────────────────────────────────────── \n"
            ],
            "text/html": [
              "<pre style=\"white-space:pre;overflow-x:auto;line-height:normal;font-family:Menlo,'DejaVu Sans Mono',consolas,'Courier New',monospace\"> ─ <span style=\"font-weight: bold\">Executing parsed code:</span> ──────────────────────────────────────────────────────────────────────────────────────── \n",
              "  <span style=\"color: #f8f8f2; text-decoration-color: #f8f8f2; background-color: #272822\">final_answer(book_titles)</span><span style=\"background-color: #272822\">                                                                                      </span>  \n",
              " ───────────────────────────────────────────────────────────────────────────────────────────────────────────────── \n",
              "</pre>\n"
            ]
          },
          "metadata": {}
        },
        {
          "output_type": "stream",
          "name": "stderr",
          "text": [
            "ERROR:opentelemetry.exporter.otlp.proto.http.trace_exporter:Failed to export batch code: 401, reason: {\"message\":\"Invalid credentials. Confirm that you've configured the correct host.\"}\n"
          ]
        },
        {
          "output_type": "display_data",
          "data": {
            "text/plain": [
              "\u001b[1;38;2;212;183;2mOut - Final answer: [\"The Business Case for AI: A Leader's Guide to AI Strategies, Best Practices & Real-World \u001b[0m\n",
              "\u001b[1;38;2;212;183;2mApplications by Kavita Ganesan\", 'AI Superpowers: China, Silicon Valley, and New World Order by Kai-Fu Lee', 'Life \u001b[0m\n",
              "\u001b[1;38;2;212;183;2m3. 0: Being Human in the Age of Artificial Intelligence by Max Tegmark', 'Artificial Intelligence for Business: A \u001b[0m\n",
              "\u001b[1;38;2;212;183;2mPractical Guide to Implementing AI in Your Organization by Tom Taulli', 'Human + Machine: Reimagining Work in the \u001b[0m\n",
              "\u001b[1;38;2;212;183;2mAge of AI by Paul R. Daugherty and H. James Wilson', 'AI in Business: A Guide for Managers and Leaders by Michael \u001b[0m\n",
              "\u001b[1;38;2;212;183;2mChui, Thomas H. Davenport, and Rajeev Ronanki', 'The AI Advantage: How to Put the Artificial Intelligence \u001b[0m\n",
              "\u001b[1;38;2;212;183;2mRevolution to Work by James Manyika, Susan Lund, and Jonathan Woetzel', 'The Master Algorithm: How the Quest for \u001b[0m\n",
              "\u001b[1;38;2;212;183;2mthe Ultimate Learning Machine Will Remake Our World by Pedro Domingos', 'AI Today: Practical Uses and Business \u001b[0m\n",
              "\u001b[1;38;2;212;183;2mBenefits by Michael J. Garbade', 'The Future of Work: How the New World of Artificial Intelligence Will Change Us \u001b[0m\n",
              "\u001b[1;38;2;212;183;2mby Martin Ford']\u001b[0m\n"
            ],
            "text/html": [
              "<pre style=\"white-space:pre;overflow-x:auto;line-height:normal;font-family:Menlo,'DejaVu Sans Mono',consolas,'Courier New',monospace\"><span style=\"color: #d4b702; text-decoration-color: #d4b702; font-weight: bold\">Out - Final answer: [\"The Business Case for AI: A Leader's Guide to AI Strategies, Best Practices &amp; Real-World </span>\n",
              "<span style=\"color: #d4b702; text-decoration-color: #d4b702; font-weight: bold\">Applications by Kavita Ganesan\", 'AI Superpowers: China, Silicon Valley, and New World Order by Kai-Fu Lee', 'Life </span>\n",
              "<span style=\"color: #d4b702; text-decoration-color: #d4b702; font-weight: bold\">3. 0: Being Human in the Age of Artificial Intelligence by Max Tegmark', 'Artificial Intelligence for Business: A </span>\n",
              "<span style=\"color: #d4b702; text-decoration-color: #d4b702; font-weight: bold\">Practical Guide to Implementing AI in Your Organization by Tom Taulli', 'Human + Machine: Reimagining Work in the </span>\n",
              "<span style=\"color: #d4b702; text-decoration-color: #d4b702; font-weight: bold\">Age of AI by Paul R. Daugherty and H. James Wilson', 'AI in Business: A Guide for Managers and Leaders by Michael </span>\n",
              "<span style=\"color: #d4b702; text-decoration-color: #d4b702; font-weight: bold\">Chui, Thomas H. Davenport, and Rajeev Ronanki', 'The AI Advantage: How to Put the Artificial Intelligence </span>\n",
              "<span style=\"color: #d4b702; text-decoration-color: #d4b702; font-weight: bold\">Revolution to Work by James Manyika, Susan Lund, and Jonathan Woetzel', 'The Master Algorithm: How the Quest for </span>\n",
              "<span style=\"color: #d4b702; text-decoration-color: #d4b702; font-weight: bold\">the Ultimate Learning Machine Will Remake Our World by Pedro Domingos', 'AI Today: Practical Uses and Business </span>\n",
              "<span style=\"color: #d4b702; text-decoration-color: #d4b702; font-weight: bold\">Benefits by Michael J. Garbade', 'The Future of Work: How the New World of Artificial Intelligence Will Change Us </span>\n",
              "<span style=\"color: #d4b702; text-decoration-color: #d4b702; font-weight: bold\">by Martin Ford']</span>\n",
              "</pre>\n"
            ]
          },
          "metadata": {}
        },
        {
          "output_type": "display_data",
          "data": {
            "text/plain": [
              "\u001b[2m[Step 3: Duration 0.95 seconds| Input tokens: 8,767 | Output tokens: 426]\u001b[0m\n"
            ],
            "text/html": [
              "<pre style=\"white-space:pre;overflow-x:auto;line-height:normal;font-family:Menlo,'DejaVu Sans Mono',consolas,'Courier New',monospace\"><span style=\"color: #7f7f7f; text-decoration-color: #7f7f7f\">[Step 3: Duration 0.95 seconds| Input tokens: 8,767 | Output tokens: 426]</span>\n",
              "</pre>\n"
            ]
          },
          "metadata": {}
        },
        {
          "output_type": "stream",
          "name": "stderr",
          "text": [
            "ERROR:opentelemetry.exporter.otlp.proto.http.trace_exporter:Failed to export batch code: 401, reason: {\"message\":\"Invalid credentials. Confirm that you've configured the correct host.\"}\n"
          ]
        },
        {
          "output_type": "execute_result",
          "data": {
            "text/plain": [
              "[\"The Business Case for AI: A Leader's Guide to AI Strategies, Best Practices & Real-World Applications by Kavita Ganesan\",\n",
              " 'AI Superpowers: China, Silicon Valley, and New World Order by Kai-Fu Lee',\n",
              " 'Life 3. 0: Being Human in the Age of Artificial Intelligence by Max Tegmark',\n",
              " 'Artificial Intelligence for Business: A Practical Guide to Implementing AI in Your Organization by Tom Taulli',\n",
              " 'Human + Machine: Reimagining Work in the Age of AI by Paul R. Daugherty and H. James Wilson',\n",
              " 'AI in Business: A Guide for Managers and Leaders by Michael Chui, Thomas H. Davenport, and Rajeev Ronanki',\n",
              " 'The AI Advantage: How to Put the Artificial Intelligence Revolution to Work by James Manyika, Susan Lund, and Jonathan Woetzel',\n",
              " 'The Master Algorithm: How the Quest for the Ultimate Learning Machine Will Remake Our World by Pedro Domingos',\n",
              " 'AI Today: Practical Uses and Business Benefits by Michael J. Garbade',\n",
              " 'The Future of Work: How the New World of Artificial Intelligence Will Change Us by Martin Ford']"
            ]
          },
          "metadata": {},
          "execution_count": 18
        }
      ],
      "source": [
        "from smolagents import CodeAgent, InferenceClientModel\n",
        "\n",
        "agent = CodeAgent(tools=[DuckDuckGoSearchTool()], model=InferenceClientModel(provider = \"together\"))\n",
        "\n",
        "agent.run(\"Search for the best book recommendations for implementing AI in the workplace.\")"
      ]
    },
    {
      "cell_type": "markdown",
      "metadata": {
        "id": "KBpqTBK1XVLz"
      },
      "source": [
        "Alfred can now access this logs [here](https://cloud.langfuse.com/project/cm7bq0abj025rad078ak3luwi/traces/995fc019255528e4f48cf6770b0ce27b?timestamp=2025-02-19T10%3A28%3A36.929Z) to review and analyze them.  \n",
        "\n",
        "Meanwhile, the [suggested playlist](https://open.spotify.com/playlist/0gZMMHjuxMrrybQ7wTMTpw) sets the perfect vibe for the party preparations. Cool, right? 🎶\n"
      ]
    },
    {
      "cell_type": "code",
      "source": [
        "agent = ToolCallingAgent(tools=[DuckDuckGoSearchTool()], model=InferenceClientModel(provider = \"together\"))\n",
        "\n",
        "agent.run(\"Search for the best book recommendations for implementing AI in the workplace.\")"
      ],
      "metadata": {
        "colab": {
          "base_uri": "https://localhost:8080/",
          "height": 1000
        },
        "id": "-4Kas9A9etSx",
        "outputId": "be653382-7a16-4c04-be07-c82cb5bd9d48"
      },
      "execution_count": null,
      "outputs": [
        {
          "output_type": "display_data",
          "data": {
            "text/plain": [
              "\u001b[38;2;212;183;2m╭─\u001b[0m\u001b[38;2;212;183;2m───────────────────────────────────────────────────\u001b[0m\u001b[38;2;212;183;2m \u001b[0m\u001b[1;38;2;212;183;2mNew run\u001b[0m\u001b[38;2;212;183;2m \u001b[0m\u001b[38;2;212;183;2m───────────────────────────────────────────────────\u001b[0m\u001b[38;2;212;183;2m─╮\u001b[0m\n",
              "\u001b[38;2;212;183;2m│\u001b[0m                                                                                                                 \u001b[38;2;212;183;2m│\u001b[0m\n",
              "\u001b[38;2;212;183;2m│\u001b[0m \u001b[1mSearch for the best book recommendations for implementing AI in the workplace.\u001b[0m                                  \u001b[38;2;212;183;2m│\u001b[0m\n",
              "\u001b[38;2;212;183;2m│\u001b[0m                                                                                                                 \u001b[38;2;212;183;2m│\u001b[0m\n",
              "\u001b[38;2;212;183;2m╰─\u001b[0m\u001b[38;2;212;183;2m InferenceClientModel - Qwen/Qwen2.5-Coder-32B-Instruct \u001b[0m\u001b[38;2;212;183;2m───────────────────────────────────────────────────────\u001b[0m\u001b[38;2;212;183;2m─╯\u001b[0m\n"
            ],
            "text/html": [
              "<pre style=\"white-space:pre;overflow-x:auto;line-height:normal;font-family:Menlo,'DejaVu Sans Mono',consolas,'Courier New',monospace\"><span style=\"color: #d4b702; text-decoration-color: #d4b702\">╭──────────────────────────────────────────────────── </span><span style=\"color: #d4b702; text-decoration-color: #d4b702; font-weight: bold\">New run</span><span style=\"color: #d4b702; text-decoration-color: #d4b702\"> ────────────────────────────────────────────────────╮</span>\n",
              "<span style=\"color: #d4b702; text-decoration-color: #d4b702\">│</span>                                                                                                                 <span style=\"color: #d4b702; text-decoration-color: #d4b702\">│</span>\n",
              "<span style=\"color: #d4b702; text-decoration-color: #d4b702\">│</span> <span style=\"font-weight: bold\">Search for the best book recommendations for implementing AI in the workplace.</span>                                  <span style=\"color: #d4b702; text-decoration-color: #d4b702\">│</span>\n",
              "<span style=\"color: #d4b702; text-decoration-color: #d4b702\">│</span>                                                                                                                 <span style=\"color: #d4b702; text-decoration-color: #d4b702\">│</span>\n",
              "<span style=\"color: #d4b702; text-decoration-color: #d4b702\">╰─ InferenceClientModel - Qwen/Qwen2.5-Coder-32B-Instruct ────────────────────────────────────────────────────────╯</span>\n",
              "</pre>\n"
            ]
          },
          "metadata": {}
        },
        {
          "output_type": "display_data",
          "data": {
            "text/plain": [
              "\u001b[38;2;212;183;2m━━━━━━━━━━━━━━━━━━━━━━━━━━━━━━━━━━━━━━━━━━━━━━━━━━━━━ \u001b[0m\u001b[1mStep \u001b[0m\u001b[1;36m1\u001b[0m\u001b[38;2;212;183;2m ━━━━━━━━━━━━━━━━━━━━━━━━━━━━━━━━━━━━━━━━━━━━━━━━━━━━━━\u001b[0m\n"
            ],
            "text/html": [
              "<pre style=\"white-space:pre;overflow-x:auto;line-height:normal;font-family:Menlo,'DejaVu Sans Mono',consolas,'Courier New',monospace\"><span style=\"color: #d4b702; text-decoration-color: #d4b702\">━━━━━━━━━━━━━━━━━━━━━━━━━━━━━━━━━━━━━━━━━━━━━━━━━━━━━ </span><span style=\"font-weight: bold\">Step </span><span style=\"color: #008080; text-decoration-color: #008080; font-weight: bold\">1</span><span style=\"color: #d4b702; text-decoration-color: #d4b702\"> ━━━━━━━━━━━━━━━━━━━━━━━━━━━━━━━━━━━━━━━━━━━━━━━━━━━━━━</span>\n",
              "</pre>\n"
            ]
          },
          "metadata": {}
        },
        {
          "output_type": "stream",
          "name": "stderr",
          "text": [
            "/usr/local/lib/python3.11/dist-packages/smolagents/models.py:393: FutureWarning: Attribute last_input_token_count is deprecated and will be removed in version 1.20. Please use TokenUsage.input_tokens instead.\n",
            "  warnings.warn(\n",
            "/usr/local/lib/python3.11/dist-packages/smolagents/models.py:402: FutureWarning: Attribute last_output_token_count is deprecated and will be removed in version 1.20. Please use TokenUsage.output_tokens instead.\n",
            "  warnings.warn(\n",
            "ERROR:opentelemetry.exporter.otlp.proto.http.trace_exporter:Failed to export batch code: 401, reason: {\"message\":\"Invalid credentials. Confirm that you've configured the correct host.\"}\n"
          ]
        },
        {
          "output_type": "display_data",
          "data": {
            "text/plain": [
              "╭─────────────────────────────────────────────────────────────────────────────────────────────────────────────────╮\n",
              "│ Calling tool: 'web_search' with arguments: {'query': 'best books for implementing AI in the workplace'}         │\n",
              "╰─────────────────────────────────────────────────────────────────────────────────────────────────────────────────╯\n"
            ],
            "text/html": [
              "<pre style=\"white-space:pre;overflow-x:auto;line-height:normal;font-family:Menlo,'DejaVu Sans Mono',consolas,'Courier New',monospace\">╭─────────────────────────────────────────────────────────────────────────────────────────────────────────────────╮\n",
              "│ Calling tool: 'web_search' with arguments: {'query': 'best books for implementing AI in the workplace'}         │\n",
              "╰─────────────────────────────────────────────────────────────────────────────────────────────────────────────────╯\n",
              "</pre>\n"
            ]
          },
          "metadata": {}
        },
        {
          "output_type": "stream",
          "name": "stderr",
          "text": [
            "ERROR:opentelemetry.exporter.otlp.proto.http.trace_exporter:Failed to export batch code: 401, reason: {\"message\":\"Invalid credentials. Confirm that you've configured the correct host.\"}\n"
          ]
        },
        {
          "output_type": "display_data",
          "data": {
            "text/plain": [
              "Observations: ## Search Results\n",
              "\n",
              "|\u001b[1;36m6\u001b[0m Books on AI in the Workplace - Publishers \n",
              "Weekly\u001b[1m]\u001b[0m\u001b[1m(\u001b[0m\u001b[4;94mhttps://www.publishersweekly.com/pw/by-topic/new-titles/adult-announcements/article/95171-six-books-on-ai-i\u001b[0m\n",
              "\u001b[4;94mn-the-workplace.html\u001b[0m\u001b[4;94m)\u001b[0m\n",
              "Implementing AI practices in a workplace needs to be more than good for the bottom line: it should also be done \n",
              "carefully and thoughtfully, says Gambelin, who founded the AI Ethics advisory firm \u001b[33m...\u001b[0m\n",
              "\n",
              "|\u001b[1;36m10\u001b[0m Must-Read Books on AI Recommended by Thought \n",
              "Leaders\u001b[1m]\u001b[0m\u001b[1m(\u001b[0m\u001b[4;94mhttps://medium.com/@rpatech.ai/10-must-read-books-on-ai-recommended-by-thought-leaders-b3eaecb2bf43\u001b[0m\u001b[4;94m)\u001b[0m\n",
              "Here are some books on AI that are recommended by technology leaders like Lila Ibrahim, COO of Google DeepMind, Amy\n",
              "Webb, founder and CEO of Future Today Institute, and others.\n",
              "\n",
              "|The Best Books on Artificial Intelligence \u001b[1m(\u001b[0mAI\u001b[1m)\u001b[0m to Read in \u001b[1;36m2025\u001b[0m\u001b[1m]\u001b[0m\u001b[1m(\u001b[0m\u001b[4;94mhttps://www.qualtrics.com/blog/books-on-ai/\u001b[0m\u001b[4;94m)\u001b[0m\n",
              "Discover the top \u001b[1;36m10\u001b[0m best books on artificial intelligence that provide valuable insights and knowledge. Click \n",
              "though to genuinely gain a detailed understanding on AI.\n",
              "\n",
              "|\u001b[1;36m9\u001b[0m Must-Read AI Books for Business Leaders - Nextiva\u001b[1m]\u001b[0m\u001b[1m(\u001b[0m\u001b[4;94mhttps://www.nextiva.com/blog/ai-business-books.html\u001b[0m\u001b[4;94m)\u001b[0m\n",
              "These top AI business books shed light on the impact of artificial intelligence in business, and how people and \n",
              "computers will work together.\n",
              "\n",
              "|Top \u001b[1;36m18\u001b[0m+ Books on Artificial Intelligence That you Must \n",
              "Read\u001b[1m]\u001b[0m\u001b[1m(\u001b[0m\u001b[4;94mhttps://www.theknowledgeacademy.com/blog/best-books-on-artificial-intelligence/\u001b[0m\u001b[4;94m)\u001b[0m\n",
              "We hope that the above-mentioned list of the Best Books on Artificial Intelligence served as a valuable resource \n",
              "for both beginner and professional readers. These books provide a strong foundation for understanding AI's \n",
              "fundamentals and offer practical guidance for implementing AI in real-world scenarios. So, keep learning and \n",
              "enhance your \u001b[33m...\u001b[0m\n",
              "\n",
              "|\u001b[1;36m20\u001b[0m of the Best Books on AI and Machine Learning in \n",
              "\u001b[1;36m2024\u001b[0m\u001b[1m]\u001b[0m\u001b[1m(\u001b[0m\u001b[4;94mhttps://www.rareconnections.io/best-books-on-ai-and-machine-learning\u001b[0m\u001b[4;94m)\u001b[0m\n",
              "\u001b[1;36m3\u001b[0m. The Business Case for AI The Business Case for AI: A Leader's Guide to AI Strategies, Best Practices & \n",
              "Real-World Applications by Kavita Ganesan is one of the best AI books for business leaders and serves as a \n",
              "comprehensive guide for implementing artificial intelligence into business operations.\n",
              "\n",
              "|Empower Your Business with Artificial Intelligence: \u001b[1;36m10\u001b[0m Books Every \n",
              "\u001b[33m...\u001b[0m\u001b[1m]\u001b[0m\u001b[1m(\u001b[0m\u001b[4;94mhttps://www.gend.co/blog/empower-your-business-with-artificial-intelligence-top-10-books-every-business-leader\u001b[0m\n",
              "\u001b[4;94m-should-read\u001b[0m\u001b[4;94m)\u001b[0m\n",
              "From understanding AI fundamentals to implementing AI initiatives and navigating ethical considerations, these \n",
              "books offer valuable guidance and inspiration for business leaders on their AI journey. So don't wait - dive into \n",
              "these AI books today and unlock the transformative potential of artificial intelligence for your business.\n",
              "\n",
              "|AI and the Future of Work: \u001b[1;36m7\u001b[0m Must-Read Books - Analytics \n",
              "Insight\u001b[1m]\u001b[0m\u001b[1m(\u001b[0m\u001b[4;94mhttps://www.analyticsinsight.net/ampstories/artificial-intelligence/ai-and-the-future-of-work-7-must-read-\u001b[0m\n",
              "\u001b[4;94mbooks\u001b[0m\u001b[4;94m)\u001b[0m\n",
              "Discover \u001b[1;36m7\u001b[0m essential books on AI's impact on work, offering insights and strategies to thrive in the evolving job \n",
              "landscape.\n",
              "\n",
              "|\u001b[1;36m4\u001b[0m Great Books on How to Implement AI in Business, Automation, and the \n",
              "\u001b[33m...\u001b[0m\u001b[1m]\u001b[0m\u001b[1m(\u001b[0m\u001b[4;94mhttps://globisinsights.com/future-of-work/books-on-how-to-implement-ai-in-business/\u001b[0m\u001b[4;94m)\u001b[0m\n",
              "GLOBIS University faculty discuss their favorite books on how to implement AI in business, automation, and the \n",
              "future of work.\n",
              "\n",
              "|Best Artificial Intelligence Books for Leaders - Toby \n",
              "Sinclair\u001b[1m]\u001b[0m\u001b[1m(\u001b[0m\u001b[4;94mhttps://www.tobysinclair.com/post/best-artificial-intelligence-books-for-leadership-development\u001b[0m\u001b[4;94m)\u001b[0m\n",
              "The best artificial intelligence books to help leaders grow and have an impact on their business. Covering the \n",
              "fundamentals and advanced decision making.\n"
            ],
            "text/html": [
              "<pre style=\"white-space:pre;overflow-x:auto;line-height:normal;font-family:Menlo,'DejaVu Sans Mono',consolas,'Courier New',monospace\">Observations: ## Search Results\n",
              "\n",
              "|<span style=\"color: #008080; text-decoration-color: #008080; font-weight: bold\">6</span> Books on AI in the Workplace - Publishers \n",
              "Weekly<span style=\"font-weight: bold\">](</span><span style=\"color: #0000ff; text-decoration-color: #0000ff; text-decoration: underline\">https://www.publishersweekly.com/pw/by-topic/new-titles/adult-announcements/article/95171-six-books-on-ai-i</span>\n",
              "<span style=\"color: #0000ff; text-decoration-color: #0000ff; text-decoration: underline\">n-the-workplace.html)</span>\n",
              "Implementing AI practices in a workplace needs to be more than good for the bottom line: it should also be done \n",
              "carefully and thoughtfully, says Gambelin, who founded the AI Ethics advisory firm <span style=\"color: #808000; text-decoration-color: #808000\">...</span>\n",
              "\n",
              "|<span style=\"color: #008080; text-decoration-color: #008080; font-weight: bold\">10</span> Must-Read Books on AI Recommended by Thought \n",
              "Leaders<span style=\"font-weight: bold\">](</span><span style=\"color: #0000ff; text-decoration-color: #0000ff; text-decoration: underline\">https://medium.com/@rpatech.ai/10-must-read-books-on-ai-recommended-by-thought-leaders-b3eaecb2bf43)</span>\n",
              "Here are some books on AI that are recommended by technology leaders like Lila Ibrahim, COO of Google DeepMind, Amy\n",
              "Webb, founder and CEO of Future Today Institute, and others.\n",
              "\n",
              "|The Best Books on Artificial Intelligence <span style=\"font-weight: bold\">(</span>AI<span style=\"font-weight: bold\">)</span> to Read in <span style=\"color: #008080; text-decoration-color: #008080; font-weight: bold\">2025</span><span style=\"font-weight: bold\">](</span><span style=\"color: #0000ff; text-decoration-color: #0000ff; text-decoration: underline\">https://www.qualtrics.com/blog/books-on-ai/)</span>\n",
              "Discover the top <span style=\"color: #008080; text-decoration-color: #008080; font-weight: bold\">10</span> best books on artificial intelligence that provide valuable insights and knowledge. Click \n",
              "though to genuinely gain a detailed understanding on AI.\n",
              "\n",
              "|<span style=\"color: #008080; text-decoration-color: #008080; font-weight: bold\">9</span> Must-Read AI Books for Business Leaders - Nextiva<span style=\"font-weight: bold\">](</span><span style=\"color: #0000ff; text-decoration-color: #0000ff; text-decoration: underline\">https://www.nextiva.com/blog/ai-business-books.html)</span>\n",
              "These top AI business books shed light on the impact of artificial intelligence in business, and how people and \n",
              "computers will work together.\n",
              "\n",
              "|Top <span style=\"color: #008080; text-decoration-color: #008080; font-weight: bold\">18</span>+ Books on Artificial Intelligence That you Must \n",
              "Read<span style=\"font-weight: bold\">](</span><span style=\"color: #0000ff; text-decoration-color: #0000ff; text-decoration: underline\">https://www.theknowledgeacademy.com/blog/best-books-on-artificial-intelligence/)</span>\n",
              "We hope that the above-mentioned list of the Best Books on Artificial Intelligence served as a valuable resource \n",
              "for both beginner and professional readers. These books provide a strong foundation for understanding AI's \n",
              "fundamentals and offer practical guidance for implementing AI in real-world scenarios. So, keep learning and \n",
              "enhance your <span style=\"color: #808000; text-decoration-color: #808000\">...</span>\n",
              "\n",
              "|<span style=\"color: #008080; text-decoration-color: #008080; font-weight: bold\">20</span> of the Best Books on AI and Machine Learning in \n",
              "<span style=\"color: #008080; text-decoration-color: #008080; font-weight: bold\">2024</span><span style=\"font-weight: bold\">](</span><span style=\"color: #0000ff; text-decoration-color: #0000ff; text-decoration: underline\">https://www.rareconnections.io/best-books-on-ai-and-machine-learning)</span>\n",
              "<span style=\"color: #008080; text-decoration-color: #008080; font-weight: bold\">3</span>. The Business Case for AI The Business Case for AI: A Leader's Guide to AI Strategies, Best Practices &amp; \n",
              "Real-World Applications by Kavita Ganesan is one of the best AI books for business leaders and serves as a \n",
              "comprehensive guide for implementing artificial intelligence into business operations.\n",
              "\n",
              "|Empower Your Business with Artificial Intelligence: <span style=\"color: #008080; text-decoration-color: #008080; font-weight: bold\">10</span> Books Every \n",
              "<span style=\"color: #808000; text-decoration-color: #808000\">...</span><span style=\"font-weight: bold\">](</span><span style=\"color: #0000ff; text-decoration-color: #0000ff; text-decoration: underline\">https://www.gend.co/blog/empower-your-business-with-artificial-intelligence-top-10-books-every-business-leader</span>\n",
              "<span style=\"color: #0000ff; text-decoration-color: #0000ff; text-decoration: underline\">-should-read)</span>\n",
              "From understanding AI fundamentals to implementing AI initiatives and navigating ethical considerations, these \n",
              "books offer valuable guidance and inspiration for business leaders on their AI journey. So don't wait - dive into \n",
              "these AI books today and unlock the transformative potential of artificial intelligence for your business.\n",
              "\n",
              "|AI and the Future of Work: <span style=\"color: #008080; text-decoration-color: #008080; font-weight: bold\">7</span> Must-Read Books - Analytics \n",
              "Insight<span style=\"font-weight: bold\">](</span><span style=\"color: #0000ff; text-decoration-color: #0000ff; text-decoration: underline\">https://www.analyticsinsight.net/ampstories/artificial-intelligence/ai-and-the-future-of-work-7-must-read-</span>\n",
              "<span style=\"color: #0000ff; text-decoration-color: #0000ff; text-decoration: underline\">books)</span>\n",
              "Discover <span style=\"color: #008080; text-decoration-color: #008080; font-weight: bold\">7</span> essential books on AI's impact on work, offering insights and strategies to thrive in the evolving job \n",
              "landscape.\n",
              "\n",
              "|<span style=\"color: #008080; text-decoration-color: #008080; font-weight: bold\">4</span> Great Books on How to Implement AI in Business, Automation, and the \n",
              "<span style=\"color: #808000; text-decoration-color: #808000\">...</span><span style=\"font-weight: bold\">](</span><span style=\"color: #0000ff; text-decoration-color: #0000ff; text-decoration: underline\">https://globisinsights.com/future-of-work/books-on-how-to-implement-ai-in-business/)</span>\n",
              "GLOBIS University faculty discuss their favorite books on how to implement AI in business, automation, and the \n",
              "future of work.\n",
              "\n",
              "|Best Artificial Intelligence Books for Leaders - Toby \n",
              "Sinclair<span style=\"font-weight: bold\">](</span><span style=\"color: #0000ff; text-decoration-color: #0000ff; text-decoration: underline\">https://www.tobysinclair.com/post/best-artificial-intelligence-books-for-leadership-development)</span>\n",
              "The best artificial intelligence books to help leaders grow and have an impact on their business. Covering the \n",
              "fundamentals and advanced decision making.\n",
              "</pre>\n"
            ]
          },
          "metadata": {}
        },
        {
          "output_type": "display_data",
          "data": {
            "text/plain": [
              "\u001b[2m[Step 1: Duration 1.41 seconds| Input tokens: 1,188 | Output tokens: 30]\u001b[0m\n"
            ],
            "text/html": [
              "<pre style=\"white-space:pre;overflow-x:auto;line-height:normal;font-family:Menlo,'DejaVu Sans Mono',consolas,'Courier New',monospace\"><span style=\"color: #7f7f7f; text-decoration-color: #7f7f7f\">[Step 1: Duration 1.41 seconds| Input tokens: 1,188 | Output tokens: 30]</span>\n",
              "</pre>\n"
            ]
          },
          "metadata": {}
        },
        {
          "output_type": "display_data",
          "data": {
            "text/plain": [
              "\u001b[38;2;212;183;2m━━━━━━━━━━━━━━━━━━━━━━━━━━━━━━━━━━━━━━━━━━━━━━━━━━━━━ \u001b[0m\u001b[1mStep \u001b[0m\u001b[1;36m2\u001b[0m\u001b[38;2;212;183;2m ━━━━━━━━━━━━━━━━━━━━━━━━━━━━━━━━━━━━━━━━━━━━━━━━━━━━━━\u001b[0m\n"
            ],
            "text/html": [
              "<pre style=\"white-space:pre;overflow-x:auto;line-height:normal;font-family:Menlo,'DejaVu Sans Mono',consolas,'Courier New',monospace\"><span style=\"color: #d4b702; text-decoration-color: #d4b702\">━━━━━━━━━━━━━━━━━━━━━━━━━━━━━━━━━━━━━━━━━━━━━━━━━━━━━ </span><span style=\"font-weight: bold\">Step </span><span style=\"color: #008080; text-decoration-color: #008080; font-weight: bold\">2</span><span style=\"color: #d4b702; text-decoration-color: #d4b702\"> ━━━━━━━━━━━━━━━━━━━━━━━━━━━━━━━━━━━━━━━━━━━━━━━━━━━━━━</span>\n",
              "</pre>\n"
            ]
          },
          "metadata": {}
        },
        {
          "output_type": "stream",
          "name": "stderr",
          "text": [
            "/usr/local/lib/python3.11/dist-packages/smolagents/models.py:393: FutureWarning: Attribute last_input_token_count is deprecated and will be removed in version 1.20. Please use TokenUsage.input_tokens instead.\n",
            "  warnings.warn(\n",
            "/usr/local/lib/python3.11/dist-packages/smolagents/models.py:402: FutureWarning: Attribute last_output_token_count is deprecated and will be removed in version 1.20. Please use TokenUsage.output_tokens instead.\n",
            "  warnings.warn(\n",
            "ERROR:opentelemetry.exporter.otlp.proto.http.trace_exporter:Failed to export batch code: 401, reason: {\"message\":\"Invalid credentials. Confirm that you've configured the correct host.\"}\n"
          ]
        },
        {
          "output_type": "display_data",
          "data": {
            "text/plain": [
              "╭─────────────────────────────────────────────────────────────────────────────────────────────────────────────────╮\n",
              "│ Calling tool: 'final_answer' with arguments: Top book recommendations for implementing AI in the workplace      │\n",
              "│ include 'The Business Case for AI: A Leader's Guide to AI Strategies, Best Practices & Real-World Applications' │\n",
              "│ by Kavita Ganesan, 'AI Superpowers: China, Silicon Valley, and New World Order' by Kai-Fu Lee, 'Artificial      │\n",
              "│ Intelligence for Business: A Practical Guide' by Tom Taulli, 'AI in Business: A Guide for Managers and Leaders' │\n",
              "│ by Michael Chui, Thomas H. Davenport, and Rajeev Ronanki, 'The AI Advantage: How to Put the Artificial          │\n",
              "│ Intelligence Revolution to Work' by James Manyika, Michael Chui, Mehdi Miremadi, Sangeet Paul Choudary, and     │\n",
              "│ Parag Khanna, 'AI for Everyone' by Andrew Ng, and 'The Future of Work: How the New World of Artificial          │\n",
              "│ Intelligence Will Change Us' by Martin Ford.                                                                    │\n",
              "╰─────────────────────────────────────────────────────────────────────────────────────────────────────────────────╯\n"
            ],
            "text/html": [
              "<pre style=\"white-space:pre;overflow-x:auto;line-height:normal;font-family:Menlo,'DejaVu Sans Mono',consolas,'Courier New',monospace\">╭─────────────────────────────────────────────────────────────────────────────────────────────────────────────────╮\n",
              "│ Calling tool: 'final_answer' with arguments: Top book recommendations for implementing AI in the workplace      │\n",
              "│ include 'The Business Case for AI: A Leader's Guide to AI Strategies, Best Practices &amp; Real-World Applications' │\n",
              "│ by Kavita Ganesan, 'AI Superpowers: China, Silicon Valley, and New World Order' by Kai-Fu Lee, 'Artificial      │\n",
              "│ Intelligence for Business: A Practical Guide' by Tom Taulli, 'AI in Business: A Guide for Managers and Leaders' │\n",
              "│ by Michael Chui, Thomas H. Davenport, and Rajeev Ronanki, 'The AI Advantage: How to Put the Artificial          │\n",
              "│ Intelligence Revolution to Work' by James Manyika, Michael Chui, Mehdi Miremadi, Sangeet Paul Choudary, and     │\n",
              "│ Parag Khanna, 'AI for Everyone' by Andrew Ng, and 'The Future of Work: How the New World of Artificial          │\n",
              "│ Intelligence Will Change Us' by Martin Ford.                                                                    │\n",
              "╰─────────────────────────────────────────────────────────────────────────────────────────────────────────────────╯\n",
              "</pre>\n"
            ]
          },
          "metadata": {}
        },
        {
          "output_type": "stream",
          "name": "stderr",
          "text": [
            "ERROR:opentelemetry.exporter.otlp.proto.http.trace_exporter:Failed to export batch code: 401, reason: {\"message\":\"Invalid credentials. Confirm that you've configured the correct host.\"}\n"
          ]
        },
        {
          "output_type": "display_data",
          "data": {
            "text/plain": [
              "\u001b[1;38;2;212;183;2mFinal answer: Top book recommendations for implementing AI in the workplace include 'The Business Case for AI: A \u001b[0m\n",
              "\u001b[1;38;2;212;183;2mLeader's Guide to AI Strategies, Best Practices & Real-World Applications' by Kavita Ganesan, 'AI Superpowers: \u001b[0m\n",
              "\u001b[1;38;2;212;183;2mChina, Silicon Valley, and New World Order' by Kai-Fu Lee, 'Artificial Intelligence for Business: A Practical \u001b[0m\n",
              "\u001b[1;38;2;212;183;2mGuide' by Tom Taulli, 'AI in Business: A Guide for Managers and Leaders' by Michael Chui, Thomas H. Davenport, and \u001b[0m\n",
              "\u001b[1;38;2;212;183;2mRajeev Ronanki, 'The AI Advantage: How to Put the Artificial Intelligence Revolution to Work' by James Manyika, \u001b[0m\n",
              "\u001b[1;38;2;212;183;2mMichael Chui, Mehdi Miremadi, Sangeet Paul Choudary, and Parag Khanna, 'AI for Everyone' by Andrew Ng, and 'The \u001b[0m\n",
              "\u001b[1;38;2;212;183;2mFuture of Work: How the New World of Artificial Intelligence Will Change Us' by Martin Ford.\u001b[0m\n"
            ],
            "text/html": [
              "<pre style=\"white-space:pre;overflow-x:auto;line-height:normal;font-family:Menlo,'DejaVu Sans Mono',consolas,'Courier New',monospace\"><span style=\"color: #d4b702; text-decoration-color: #d4b702; font-weight: bold\">Final answer: Top book recommendations for implementing AI in the workplace include 'The Business Case for AI: A </span>\n",
              "<span style=\"color: #d4b702; text-decoration-color: #d4b702; font-weight: bold\">Leader's Guide to AI Strategies, Best Practices &amp; Real-World Applications' by Kavita Ganesan, 'AI Superpowers: </span>\n",
              "<span style=\"color: #d4b702; text-decoration-color: #d4b702; font-weight: bold\">China, Silicon Valley, and New World Order' by Kai-Fu Lee, 'Artificial Intelligence for Business: A Practical </span>\n",
              "<span style=\"color: #d4b702; text-decoration-color: #d4b702; font-weight: bold\">Guide' by Tom Taulli, 'AI in Business: A Guide for Managers and Leaders' by Michael Chui, Thomas H. Davenport, and </span>\n",
              "<span style=\"color: #d4b702; text-decoration-color: #d4b702; font-weight: bold\">Rajeev Ronanki, 'The AI Advantage: How to Put the Artificial Intelligence Revolution to Work' by James Manyika, </span>\n",
              "<span style=\"color: #d4b702; text-decoration-color: #d4b702; font-weight: bold\">Michael Chui, Mehdi Miremadi, Sangeet Paul Choudary, and Parag Khanna, 'AI for Everyone' by Andrew Ng, and 'The </span>\n",
              "<span style=\"color: #d4b702; text-decoration-color: #d4b702; font-weight: bold\">Future of Work: How the New World of Artificial Intelligence Will Change Us' by Martin Ford.</span>\n",
              "</pre>\n"
            ]
          },
          "metadata": {}
        },
        {
          "output_type": "display_data",
          "data": {
            "text/plain": [
              "\u001b[2m[Step 2: Duration 7.27 seconds| Input tokens: 3,248 | Output tokens: 622]\u001b[0m\n"
            ],
            "text/html": [
              "<pre style=\"white-space:pre;overflow-x:auto;line-height:normal;font-family:Menlo,'DejaVu Sans Mono',consolas,'Courier New',monospace\"><span style=\"color: #7f7f7f; text-decoration-color: #7f7f7f\">[Step 2: Duration 7.27 seconds| Input tokens: 3,248 | Output tokens: 622]</span>\n",
              "</pre>\n"
            ]
          },
          "metadata": {}
        },
        {
          "output_type": "stream",
          "name": "stderr",
          "text": [
            "ERROR:opentelemetry.exporter.otlp.proto.http.trace_exporter:Failed to export batch code: 401, reason: {\"message\":\"Invalid credentials. Confirm that you've configured the correct host.\"}\n"
          ]
        },
        {
          "output_type": "execute_result",
          "data": {
            "text/plain": [
              "\"Top book recommendations for implementing AI in the workplace include 'The Business Case for AI: A Leader's Guide to AI Strategies, Best Practices & Real-World Applications' by Kavita Ganesan, 'AI Superpowers: China, Silicon Valley, and New World Order' by Kai-Fu Lee, 'Artificial Intelligence for Business: A Practical Guide' by Tom Taulli, 'AI in Business: A Guide for Managers and Leaders' by Michael Chui, Thomas H. Davenport, and Rajeev Ronanki, 'The AI Advantage: How to Put the Artificial Intelligence Revolution to Work' by James Manyika, Michael Chui, Mehdi Miremadi, Sangeet Paul Choudary, and Parag Khanna, 'AI for Everyone' by Andrew Ng, and 'The Future of Work: How the New World of Artificial Intelligence Will Change Us' by Martin Ford.\""
            ],
            "application/vnd.google.colaboratory.intrinsic+json": {
              "type": "string"
            }
          },
          "metadata": {},
          "execution_count": 19
        }
      ]
    },
    {
      "cell_type": "code",
      "source": [
        "pip install langfuse"
      ],
      "metadata": {
        "colab": {
          "base_uri": "https://localhost:8080/"
        },
        "id": "Z8crRRR5k0xo",
        "outputId": "5b9d7f62-cd19-4fbb-a34a-0800a5014bef"
      },
      "execution_count": null,
      "outputs": [
        {
          "output_type": "stream",
          "name": "stdout",
          "text": [
            "Collecting langfuse\n",
            "  Downloading langfuse-3.0.5-py3-none-any.whl.metadata (3.2 kB)\n",
            "Collecting backoff>=1.10.0 (from langfuse)\n",
            "  Downloading backoff-2.2.1-py3-none-any.whl.metadata (14 kB)\n",
            "Requirement already satisfied: httpx<1.0,>=0.15.4 in /usr/local/lib/python3.11/dist-packages (from langfuse) (0.28.1)\n",
            "Requirement already satisfied: opentelemetry-api<2.0.0,>=1.33.1 in /usr/local/lib/python3.11/dist-packages (from langfuse) (1.34.1)\n",
            "Requirement already satisfied: opentelemetry-exporter-otlp<2.0.0,>=1.33.1 in /usr/local/lib/python3.11/dist-packages (from langfuse) (1.34.1)\n",
            "Requirement already satisfied: opentelemetry-sdk<2.0.0,>=1.33.1 in /usr/local/lib/python3.11/dist-packages (from langfuse) (1.34.1)\n",
            "Requirement already satisfied: packaging<25.0,>=23.2 in /usr/local/lib/python3.11/dist-packages (from langfuse) (24.2)\n",
            "Requirement already satisfied: pydantic<3.0,>=1.10.7 in /usr/local/lib/python3.11/dist-packages (from langfuse) (2.11.7)\n",
            "Requirement already satisfied: requests<3,>=2 in /usr/local/lib/python3.11/dist-packages (from langfuse) (2.32.3)\n",
            "Requirement already satisfied: wrapt<2.0,>=1.14 in /usr/local/lib/python3.11/dist-packages (from langfuse) (1.17.2)\n",
            "Requirement already satisfied: anyio in /usr/local/lib/python3.11/dist-packages (from httpx<1.0,>=0.15.4->langfuse) (4.9.0)\n",
            "Requirement already satisfied: certifi in /usr/local/lib/python3.11/dist-packages (from httpx<1.0,>=0.15.4->langfuse) (2025.6.15)\n",
            "Requirement already satisfied: httpcore==1.* in /usr/local/lib/python3.11/dist-packages (from httpx<1.0,>=0.15.4->langfuse) (1.0.9)\n",
            "Requirement already satisfied: idna in /usr/local/lib/python3.11/dist-packages (from httpx<1.0,>=0.15.4->langfuse) (3.10)\n",
            "Requirement already satisfied: h11>=0.16 in /usr/local/lib/python3.11/dist-packages (from httpcore==1.*->httpx<1.0,>=0.15.4->langfuse) (0.16.0)\n",
            "Requirement already satisfied: importlib-metadata<8.8.0,>=6.0 in /usr/local/lib/python3.11/dist-packages (from opentelemetry-api<2.0.0,>=1.33.1->langfuse) (8.7.0)\n",
            "Requirement already satisfied: typing-extensions>=4.5.0 in /usr/local/lib/python3.11/dist-packages (from opentelemetry-api<2.0.0,>=1.33.1->langfuse) (4.14.0)\n",
            "Requirement already satisfied: opentelemetry-exporter-otlp-proto-grpc==1.34.1 in /usr/local/lib/python3.11/dist-packages (from opentelemetry-exporter-otlp<2.0.0,>=1.33.1->langfuse) (1.34.1)\n",
            "Requirement already satisfied: opentelemetry-exporter-otlp-proto-http==1.34.1 in /usr/local/lib/python3.11/dist-packages (from opentelemetry-exporter-otlp<2.0.0,>=1.33.1->langfuse) (1.34.1)\n",
            "Requirement already satisfied: googleapis-common-protos~=1.52 in /usr/local/lib/python3.11/dist-packages (from opentelemetry-exporter-otlp-proto-grpc==1.34.1->opentelemetry-exporter-otlp<2.0.0,>=1.33.1->langfuse) (1.70.0)\n",
            "Requirement already satisfied: grpcio<2.0.0,>=1.63.2 in /usr/local/lib/python3.11/dist-packages (from opentelemetry-exporter-otlp-proto-grpc==1.34.1->opentelemetry-exporter-otlp<2.0.0,>=1.33.1->langfuse) (1.73.0)\n",
            "Requirement already satisfied: opentelemetry-exporter-otlp-proto-common==1.34.1 in /usr/local/lib/python3.11/dist-packages (from opentelemetry-exporter-otlp-proto-grpc==1.34.1->opentelemetry-exporter-otlp<2.0.0,>=1.33.1->langfuse) (1.34.1)\n",
            "Requirement already satisfied: opentelemetry-proto==1.34.1 in /usr/local/lib/python3.11/dist-packages (from opentelemetry-exporter-otlp-proto-grpc==1.34.1->opentelemetry-exporter-otlp<2.0.0,>=1.33.1->langfuse) (1.34.1)\n",
            "Requirement already satisfied: protobuf<6.0,>=5.0 in /usr/local/lib/python3.11/dist-packages (from opentelemetry-proto==1.34.1->opentelemetry-exporter-otlp-proto-grpc==1.34.1->opentelemetry-exporter-otlp<2.0.0,>=1.33.1->langfuse) (5.29.5)\n",
            "Requirement already satisfied: opentelemetry-semantic-conventions==0.55b1 in /usr/local/lib/python3.11/dist-packages (from opentelemetry-sdk<2.0.0,>=1.33.1->langfuse) (0.55b1)\n",
            "Requirement already satisfied: annotated-types>=0.6.0 in /usr/local/lib/python3.11/dist-packages (from pydantic<3.0,>=1.10.7->langfuse) (0.7.0)\n",
            "Requirement already satisfied: pydantic-core==2.33.2 in /usr/local/lib/python3.11/dist-packages (from pydantic<3.0,>=1.10.7->langfuse) (2.33.2)\n",
            "Requirement already satisfied: typing-inspection>=0.4.0 in /usr/local/lib/python3.11/dist-packages (from pydantic<3.0,>=1.10.7->langfuse) (0.4.1)\n",
            "Requirement already satisfied: charset-normalizer<4,>=2 in /usr/local/lib/python3.11/dist-packages (from requests<3,>=2->langfuse) (3.4.2)\n",
            "Requirement already satisfied: urllib3<3,>=1.21.1 in /usr/local/lib/python3.11/dist-packages (from requests<3,>=2->langfuse) (2.4.0)\n",
            "Requirement already satisfied: zipp>=3.20 in /usr/local/lib/python3.11/dist-packages (from importlib-metadata<8.8.0,>=6.0->opentelemetry-api<2.0.0,>=1.33.1->langfuse) (3.23.0)\n",
            "Requirement already satisfied: sniffio>=1.1 in /usr/local/lib/python3.11/dist-packages (from anyio->httpx<1.0,>=0.15.4->langfuse) (1.3.1)\n",
            "Downloading langfuse-3.0.5-py3-none-any.whl (293 kB)\n",
            "\u001b[2K   \u001b[90m━━━━━━━━━━━━━━━━━━━━━━━━━━━━━━━━━━━━━━━━\u001b[0m \u001b[32m293.6/293.6 kB\u001b[0m \u001b[31m9.9 MB/s\u001b[0m eta \u001b[36m0:00:00\u001b[0m\n",
            "\u001b[?25hDownloading backoff-2.2.1-py3-none-any.whl (15 kB)\n",
            "Installing collected packages: backoff, langfuse\n",
            "Successfully installed backoff-2.2.1 langfuse-3.0.5\n"
          ]
        }
      ]
    },
    {
      "cell_type": "code",
      "source": [
        "from langfuse import Langfuse\n",
        "\n",
        "langfuse = Langfuse(\n",
        "  secret_key=\"sk-lf-5c31d3cd-cd23-4945-8d8c-f6ed51faf2e1\",\n",
        "  public_key=\"pk-lf-95943c16-c0ac-4e04-a0d1-957ba4e494b9\",\n",
        "  host=\"https://cloud.langfuse.com\"\n",
        ")"
      ],
      "metadata": {
        "id": "q3Ciysg9kquO"
      },
      "execution_count": null,
      "outputs": []
    }
  ],
  "metadata": {
    "colab": {
      "provenance": [],
      "gpuType": "T4"
    },
    "kernelspec": {
      "display_name": "Python 3",
      "name": "python3"
    },
    "language_info": {
      "name": "python"
    },
    "widgets": {
      "application/vnd.jupyter.widget-state+json": {
        "f0654e554dda4db9b92db9184e3ec558": {
          "model_module": "@jupyter-widgets/controls",
          "model_name": "VBoxModel",
          "model_module_version": "1.5.0",
          "state": {
            "_dom_classes": [],
            "_model_module": "@jupyter-widgets/controls",
            "_model_module_version": "1.5.0",
            "_model_name": "VBoxModel",
            "_view_count": null,
            "_view_module": "@jupyter-widgets/controls",
            "_view_module_version": "1.5.0",
            "_view_name": "VBoxView",
            "box_style": "",
            "children": [],
            "layout": "IPY_MODEL_e4756049e3ef4ae08c139353d91d4399"
          }
        },
        "41f5fcbf777b4d38a2ce5f02d4b41d28": {
          "model_module": "@jupyter-widgets/controls",
          "model_name": "HTMLModel",
          "model_module_version": "1.5.0",
          "state": {
            "_dom_classes": [],
            "_model_module": "@jupyter-widgets/controls",
            "_model_module_version": "1.5.0",
            "_model_name": "HTMLModel",
            "_view_count": null,
            "_view_module": "@jupyter-widgets/controls",
            "_view_module_version": "1.5.0",
            "_view_name": "HTMLView",
            "description": "",
            "description_tooltip": null,
            "layout": "IPY_MODEL_4f3435ad7bc244fda193056a05f0149f",
            "placeholder": "​",
            "style": "IPY_MODEL_6878b0b7018c4f3cb1c031980f711a32",
            "value": "<center> <img\nsrc=https://huggingface.co/front/assets/huggingface_logo-noborder.svg\nalt='Hugging Face'> <br> Copy a token from <a\nhref=\"https://huggingface.co/settings/tokens\" target=\"_blank\">your Hugging Face\ntokens page</a> and paste it below. <br> Immediately click login after copying\nyour token or it might be stored in plain text in this notebook file. </center>"
          }
        },
        "37ec146fa40d43ef9f59e465d74fa2af": {
          "model_module": "@jupyter-widgets/controls",
          "model_name": "PasswordModel",
          "model_module_version": "1.5.0",
          "state": {
            "_dom_classes": [],
            "_model_module": "@jupyter-widgets/controls",
            "_model_module_version": "1.5.0",
            "_model_name": "PasswordModel",
            "_view_count": null,
            "_view_module": "@jupyter-widgets/controls",
            "_view_module_version": "1.5.0",
            "_view_name": "PasswordView",
            "continuous_update": true,
            "description": "Token:",
            "description_tooltip": null,
            "disabled": false,
            "layout": "IPY_MODEL_1b54bd21647845dc81ce5a202cda69a9",
            "placeholder": "​",
            "style": "IPY_MODEL_b87bf2b1ce664814aff0e684180f270a",
            "value": ""
          }
        },
        "d1d11353060e45d484ca2b96c1342ef5": {
          "model_module": "@jupyter-widgets/controls",
          "model_name": "CheckboxModel",
          "model_module_version": "1.5.0",
          "state": {
            "_dom_classes": [],
            "_model_module": "@jupyter-widgets/controls",
            "_model_module_version": "1.5.0",
            "_model_name": "CheckboxModel",
            "_view_count": null,
            "_view_module": "@jupyter-widgets/controls",
            "_view_module_version": "1.5.0",
            "_view_name": "CheckboxView",
            "description": "Add token as git credential?",
            "description_tooltip": null,
            "disabled": false,
            "indent": true,
            "layout": "IPY_MODEL_c6ce8768ad1a4d2c8fd068de28580292",
            "style": "IPY_MODEL_1b2dd88e2a624c2da8fcf95bc019e527",
            "value": true
          }
        },
        "343b63b40a754d05ad4949b5cfdd90b1": {
          "model_module": "@jupyter-widgets/controls",
          "model_name": "ButtonModel",
          "model_module_version": "1.5.0",
          "state": {
            "_dom_classes": [],
            "_model_module": "@jupyter-widgets/controls",
            "_model_module_version": "1.5.0",
            "_model_name": "ButtonModel",
            "_view_count": null,
            "_view_module": "@jupyter-widgets/controls",
            "_view_module_version": "1.5.0",
            "_view_name": "ButtonView",
            "button_style": "",
            "description": "Login",
            "disabled": false,
            "icon": "",
            "layout": "IPY_MODEL_5f7cea526e444cc7b53d0661232c615b",
            "style": "IPY_MODEL_d0ed44c6812e4da48bf00ce70e3dfe09",
            "tooltip": ""
          }
        },
        "56063e7357cd4bb6b480964ea8f50ee3": {
          "model_module": "@jupyter-widgets/controls",
          "model_name": "HTMLModel",
          "model_module_version": "1.5.0",
          "state": {
            "_dom_classes": [],
            "_model_module": "@jupyter-widgets/controls",
            "_model_module_version": "1.5.0",
            "_model_name": "HTMLModel",
            "_view_count": null,
            "_view_module": "@jupyter-widgets/controls",
            "_view_module_version": "1.5.0",
            "_view_name": "HTMLView",
            "description": "",
            "description_tooltip": null,
            "layout": "IPY_MODEL_8d52f27418d343cf870db3a5b26bdb96",
            "placeholder": "​",
            "style": "IPY_MODEL_9725a267b8e64081a4d1785e78186580",
            "value": "\n<b>Pro Tip:</b> If you don't already have one, you can create a dedicated\n'notebooks' token with 'write' access, that you can then easily reuse for all\nnotebooks. </center>"
          }
        },
        "e4756049e3ef4ae08c139353d91d4399": {
          "model_module": "@jupyter-widgets/base",
          "model_name": "LayoutModel",
          "model_module_version": "1.2.0",
          "state": {
            "_model_module": "@jupyter-widgets/base",
            "_model_module_version": "1.2.0",
            "_model_name": "LayoutModel",
            "_view_count": null,
            "_view_module": "@jupyter-widgets/base",
            "_view_module_version": "1.2.0",
            "_view_name": "LayoutView",
            "align_content": null,
            "align_items": "center",
            "align_self": null,
            "border": null,
            "bottom": null,
            "display": "flex",
            "flex": null,
            "flex_flow": "column",
            "grid_area": null,
            "grid_auto_columns": null,
            "grid_auto_flow": null,
            "grid_auto_rows": null,
            "grid_column": null,
            "grid_gap": null,
            "grid_row": null,
            "grid_template_areas": null,
            "grid_template_columns": null,
            "grid_template_rows": null,
            "height": null,
            "justify_content": null,
            "justify_items": null,
            "left": null,
            "margin": null,
            "max_height": null,
            "max_width": null,
            "min_height": null,
            "min_width": null,
            "object_fit": null,
            "object_position": null,
            "order": null,
            "overflow": null,
            "overflow_x": null,
            "overflow_y": null,
            "padding": null,
            "right": null,
            "top": null,
            "visibility": null,
            "width": "50%"
          }
        },
        "4f3435ad7bc244fda193056a05f0149f": {
          "model_module": "@jupyter-widgets/base",
          "model_name": "LayoutModel",
          "model_module_version": "1.2.0",
          "state": {
            "_model_module": "@jupyter-widgets/base",
            "_model_module_version": "1.2.0",
            "_model_name": "LayoutModel",
            "_view_count": null,
            "_view_module": "@jupyter-widgets/base",
            "_view_module_version": "1.2.0",
            "_view_name": "LayoutView",
            "align_content": null,
            "align_items": null,
            "align_self": null,
            "border": null,
            "bottom": null,
            "display": null,
            "flex": null,
            "flex_flow": null,
            "grid_area": null,
            "grid_auto_columns": null,
            "grid_auto_flow": null,
            "grid_auto_rows": null,
            "grid_column": null,
            "grid_gap": null,
            "grid_row": null,
            "grid_template_areas": null,
            "grid_template_columns": null,
            "grid_template_rows": null,
            "height": null,
            "justify_content": null,
            "justify_items": null,
            "left": null,
            "margin": null,
            "max_height": null,
            "max_width": null,
            "min_height": null,
            "min_width": null,
            "object_fit": null,
            "object_position": null,
            "order": null,
            "overflow": null,
            "overflow_x": null,
            "overflow_y": null,
            "padding": null,
            "right": null,
            "top": null,
            "visibility": null,
            "width": null
          }
        },
        "6878b0b7018c4f3cb1c031980f711a32": {
          "model_module": "@jupyter-widgets/controls",
          "model_name": "DescriptionStyleModel",
          "model_module_version": "1.5.0",
          "state": {
            "_model_module": "@jupyter-widgets/controls",
            "_model_module_version": "1.5.0",
            "_model_name": "DescriptionStyleModel",
            "_view_count": null,
            "_view_module": "@jupyter-widgets/base",
            "_view_module_version": "1.2.0",
            "_view_name": "StyleView",
            "description_width": ""
          }
        },
        "1b54bd21647845dc81ce5a202cda69a9": {
          "model_module": "@jupyter-widgets/base",
          "model_name": "LayoutModel",
          "model_module_version": "1.2.0",
          "state": {
            "_model_module": "@jupyter-widgets/base",
            "_model_module_version": "1.2.0",
            "_model_name": "LayoutModel",
            "_view_count": null,
            "_view_module": "@jupyter-widgets/base",
            "_view_module_version": "1.2.0",
            "_view_name": "LayoutView",
            "align_content": null,
            "align_items": null,
            "align_self": null,
            "border": null,
            "bottom": null,
            "display": null,
            "flex": null,
            "flex_flow": null,
            "grid_area": null,
            "grid_auto_columns": null,
            "grid_auto_flow": null,
            "grid_auto_rows": null,
            "grid_column": null,
            "grid_gap": null,
            "grid_row": null,
            "grid_template_areas": null,
            "grid_template_columns": null,
            "grid_template_rows": null,
            "height": null,
            "justify_content": null,
            "justify_items": null,
            "left": null,
            "margin": null,
            "max_height": null,
            "max_width": null,
            "min_height": null,
            "min_width": null,
            "object_fit": null,
            "object_position": null,
            "order": null,
            "overflow": null,
            "overflow_x": null,
            "overflow_y": null,
            "padding": null,
            "right": null,
            "top": null,
            "visibility": null,
            "width": null
          }
        },
        "b87bf2b1ce664814aff0e684180f270a": {
          "model_module": "@jupyter-widgets/controls",
          "model_name": "DescriptionStyleModel",
          "model_module_version": "1.5.0",
          "state": {
            "_model_module": "@jupyter-widgets/controls",
            "_model_module_version": "1.5.0",
            "_model_name": "DescriptionStyleModel",
            "_view_count": null,
            "_view_module": "@jupyter-widgets/base",
            "_view_module_version": "1.2.0",
            "_view_name": "StyleView",
            "description_width": ""
          }
        },
        "c6ce8768ad1a4d2c8fd068de28580292": {
          "model_module": "@jupyter-widgets/base",
          "model_name": "LayoutModel",
          "model_module_version": "1.2.0",
          "state": {
            "_model_module": "@jupyter-widgets/base",
            "_model_module_version": "1.2.0",
            "_model_name": "LayoutModel",
            "_view_count": null,
            "_view_module": "@jupyter-widgets/base",
            "_view_module_version": "1.2.0",
            "_view_name": "LayoutView",
            "align_content": null,
            "align_items": null,
            "align_self": null,
            "border": null,
            "bottom": null,
            "display": null,
            "flex": null,
            "flex_flow": null,
            "grid_area": null,
            "grid_auto_columns": null,
            "grid_auto_flow": null,
            "grid_auto_rows": null,
            "grid_column": null,
            "grid_gap": null,
            "grid_row": null,
            "grid_template_areas": null,
            "grid_template_columns": null,
            "grid_template_rows": null,
            "height": null,
            "justify_content": null,
            "justify_items": null,
            "left": null,
            "margin": null,
            "max_height": null,
            "max_width": null,
            "min_height": null,
            "min_width": null,
            "object_fit": null,
            "object_position": null,
            "order": null,
            "overflow": null,
            "overflow_x": null,
            "overflow_y": null,
            "padding": null,
            "right": null,
            "top": null,
            "visibility": null,
            "width": null
          }
        },
        "1b2dd88e2a624c2da8fcf95bc019e527": {
          "model_module": "@jupyter-widgets/controls",
          "model_name": "DescriptionStyleModel",
          "model_module_version": "1.5.0",
          "state": {
            "_model_module": "@jupyter-widgets/controls",
            "_model_module_version": "1.5.0",
            "_model_name": "DescriptionStyleModel",
            "_view_count": null,
            "_view_module": "@jupyter-widgets/base",
            "_view_module_version": "1.2.0",
            "_view_name": "StyleView",
            "description_width": ""
          }
        },
        "5f7cea526e444cc7b53d0661232c615b": {
          "model_module": "@jupyter-widgets/base",
          "model_name": "LayoutModel",
          "model_module_version": "1.2.0",
          "state": {
            "_model_module": "@jupyter-widgets/base",
            "_model_module_version": "1.2.0",
            "_model_name": "LayoutModel",
            "_view_count": null,
            "_view_module": "@jupyter-widgets/base",
            "_view_module_version": "1.2.0",
            "_view_name": "LayoutView",
            "align_content": null,
            "align_items": null,
            "align_self": null,
            "border": null,
            "bottom": null,
            "display": null,
            "flex": null,
            "flex_flow": null,
            "grid_area": null,
            "grid_auto_columns": null,
            "grid_auto_flow": null,
            "grid_auto_rows": null,
            "grid_column": null,
            "grid_gap": null,
            "grid_row": null,
            "grid_template_areas": null,
            "grid_template_columns": null,
            "grid_template_rows": null,
            "height": null,
            "justify_content": null,
            "justify_items": null,
            "left": null,
            "margin": null,
            "max_height": null,
            "max_width": null,
            "min_height": null,
            "min_width": null,
            "object_fit": null,
            "object_position": null,
            "order": null,
            "overflow": null,
            "overflow_x": null,
            "overflow_y": null,
            "padding": null,
            "right": null,
            "top": null,
            "visibility": null,
            "width": null
          }
        },
        "d0ed44c6812e4da48bf00ce70e3dfe09": {
          "model_module": "@jupyter-widgets/controls",
          "model_name": "ButtonStyleModel",
          "model_module_version": "1.5.0",
          "state": {
            "_model_module": "@jupyter-widgets/controls",
            "_model_module_version": "1.5.0",
            "_model_name": "ButtonStyleModel",
            "_view_count": null,
            "_view_module": "@jupyter-widgets/base",
            "_view_module_version": "1.2.0",
            "_view_name": "StyleView",
            "button_color": null,
            "font_weight": ""
          }
        },
        "8d52f27418d343cf870db3a5b26bdb96": {
          "model_module": "@jupyter-widgets/base",
          "model_name": "LayoutModel",
          "model_module_version": "1.2.0",
          "state": {
            "_model_module": "@jupyter-widgets/base",
            "_model_module_version": "1.2.0",
            "_model_name": "LayoutModel",
            "_view_count": null,
            "_view_module": "@jupyter-widgets/base",
            "_view_module_version": "1.2.0",
            "_view_name": "LayoutView",
            "align_content": null,
            "align_items": null,
            "align_self": null,
            "border": null,
            "bottom": null,
            "display": null,
            "flex": null,
            "flex_flow": null,
            "grid_area": null,
            "grid_auto_columns": null,
            "grid_auto_flow": null,
            "grid_auto_rows": null,
            "grid_column": null,
            "grid_gap": null,
            "grid_row": null,
            "grid_template_areas": null,
            "grid_template_columns": null,
            "grid_template_rows": null,
            "height": null,
            "justify_content": null,
            "justify_items": null,
            "left": null,
            "margin": null,
            "max_height": null,
            "max_width": null,
            "min_height": null,
            "min_width": null,
            "object_fit": null,
            "object_position": null,
            "order": null,
            "overflow": null,
            "overflow_x": null,
            "overflow_y": null,
            "padding": null,
            "right": null,
            "top": null,
            "visibility": null,
            "width": null
          }
        },
        "9725a267b8e64081a4d1785e78186580": {
          "model_module": "@jupyter-widgets/controls",
          "model_name": "DescriptionStyleModel",
          "model_module_version": "1.5.0",
          "state": {
            "_model_module": "@jupyter-widgets/controls",
            "_model_module_version": "1.5.0",
            "_model_name": "DescriptionStyleModel",
            "_view_count": null,
            "_view_module": "@jupyter-widgets/base",
            "_view_module_version": "1.2.0",
            "_view_name": "StyleView",
            "description_width": ""
          }
        },
        "0cd8d3e2086843048b5bcdfacdd8a77b": {
          "model_module": "@jupyter-widgets/controls",
          "model_name": "LabelModel",
          "model_module_version": "1.5.0",
          "state": {
            "_dom_classes": [],
            "_model_module": "@jupyter-widgets/controls",
            "_model_module_version": "1.5.0",
            "_model_name": "LabelModel",
            "_view_count": null,
            "_view_module": "@jupyter-widgets/controls",
            "_view_module_version": "1.5.0",
            "_view_name": "LabelView",
            "description": "",
            "description_tooltip": null,
            "layout": "IPY_MODEL_060189a23906471a85c18ba595fc80d3",
            "placeholder": "​",
            "style": "IPY_MODEL_8d1677f211fa4d90a807e3b3fa3f6c05",
            "value": "Connecting..."
          }
        },
        "060189a23906471a85c18ba595fc80d3": {
          "model_module": "@jupyter-widgets/base",
          "model_name": "LayoutModel",
          "model_module_version": "1.2.0",
          "state": {
            "_model_module": "@jupyter-widgets/base",
            "_model_module_version": "1.2.0",
            "_model_name": "LayoutModel",
            "_view_count": null,
            "_view_module": "@jupyter-widgets/base",
            "_view_module_version": "1.2.0",
            "_view_name": "LayoutView",
            "align_content": null,
            "align_items": null,
            "align_self": null,
            "border": null,
            "bottom": null,
            "display": null,
            "flex": null,
            "flex_flow": null,
            "grid_area": null,
            "grid_auto_columns": null,
            "grid_auto_flow": null,
            "grid_auto_rows": null,
            "grid_column": null,
            "grid_gap": null,
            "grid_row": null,
            "grid_template_areas": null,
            "grid_template_columns": null,
            "grid_template_rows": null,
            "height": null,
            "justify_content": null,
            "justify_items": null,
            "left": null,
            "margin": null,
            "max_height": null,
            "max_width": null,
            "min_height": null,
            "min_width": null,
            "object_fit": null,
            "object_position": null,
            "order": null,
            "overflow": null,
            "overflow_x": null,
            "overflow_y": null,
            "padding": null,
            "right": null,
            "top": null,
            "visibility": null,
            "width": null
          }
        },
        "8d1677f211fa4d90a807e3b3fa3f6c05": {
          "model_module": "@jupyter-widgets/controls",
          "model_name": "DescriptionStyleModel",
          "model_module_version": "1.5.0",
          "state": {
            "_model_module": "@jupyter-widgets/controls",
            "_model_module_version": "1.5.0",
            "_model_name": "DescriptionStyleModel",
            "_view_count": null,
            "_view_module": "@jupyter-widgets/base",
            "_view_module_version": "1.2.0",
            "_view_name": "StyleView",
            "description_width": ""
          }
        }
      }
    },
    "accelerator": "GPU"
  },
  "nbformat": 4,
  "nbformat_minor": 0
}